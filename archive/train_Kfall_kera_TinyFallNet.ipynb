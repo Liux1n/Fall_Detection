{
 "cells": [
  {
   "cell_type": "code",
   "execution_count": 27,
   "metadata": {},
   "outputs": [],
   "source": [
    "import os\n",
    "from numpy import genfromtxt\n",
    "import numpy as np\n",
    "from scipy.signal import resample\n",
    "import matplotlib.pyplot as plt\n",
    "from sklearn.metrics import confusion_matrix\n",
    "from utils import train, test, plot_confusion_matrix, get_gzipped_model_size\n",
    "import tensorflow as tf\n",
    "import torch\n",
    "import keras\n",
    "from keras.utils import to_categorical\n",
    "from keras import models, layers\n",
    "from keras.utils import to_categorical\n",
    "import tensorflow_model_optimization as tfmot\n",
    "from sklearn.preprocessing import StandardScaler\n",
    "from tensorflow_model_optimization.python.core.sparsity.keras import pruning_callbacks\n"
   ]
  },
  {
   "cell_type": "markdown",
   "metadata": {},
   "source": [
    "# Data Loader"
   ]
  },
  {
   "cell_type": "code",
   "execution_count": 28,
   "metadata": {},
   "outputs": [
    {
     "name": "stdout",
     "output_type": "stream",
     "text": [
      "B_size 16005\n",
      "A_size 339\n",
      "Using cuda device\n"
     ]
    }
   ],
   "source": [
    "X_train = np.load('data/X_train.npy')\n",
    "y_train = np.load('data/y_train.npy')\n",
    "X_test = np.load('data/X_test.npy')\n",
    "y_test = np.load('data/y_test.npy')\n",
    "X_val = np.load('data/X_val.npy')\n",
    "y_val = np.load('data/y_val.npy')\n",
    "\n",
    "# B_size = (label == 0).sum()\n",
    "#A_size = (label == 1).sum()\n",
    "B_size = y_train[y_train == 0].shape[0]\n",
    "A_size = y_train[y_train == 1].shape[0]\n",
    "print(\"B_size\", B_size)\n",
    "print(\"A_size\", A_size)\n",
    "\n",
    "device = (\n",
    "     \"cuda\"\n",
    "     if torch.cuda.is_available()\n",
    "     else \"cpu\"\n",
    " )\n",
    "#device = \"cpu\"\n",
    "print(f\"Using {device} device\")"
   ]
  },
  {
   "cell_type": "markdown",
   "metadata": {},
   "source": [
    "# Hyperparameters"
   ]
  },
  {
   "cell_type": "code",
   "execution_count": 29,
   "metadata": {},
   "outputs": [],
   "source": [
    "# Hyperparameters\n",
    "learning_rate = 5e-4\n",
    "batch_size = 64\n",
    "epochs = 50\n",
    "patience = 5"
   ]
  },
  {
   "cell_type": "markdown",
   "metadata": {},
   "source": [
    "# TinyFallNet"
   ]
  },
  {
   "cell_type": "code",
   "execution_count": 30,
   "metadata": {},
   "outputs": [],
   "source": [
    "inputs = keras.Input(shape=(50, 9))\n",
    "x = layers.Reshape((1, 50, 9))(inputs)\n",
    "x = layers.Conv2D(filters=64, kernel_size=(1, 3))(x)\n",
    "\n",
    "x = layers.MaxPooling2D(pool_size=(1, 2))(x)\n",
    "\n",
    "# ConvBlock\n",
    "residual = layers.Conv2D(filters=64, kernel_size=(1, 1))(x)\n",
    "x = layers.Conv2D(filters=16, kernel_size=(1, 1))(x)\n",
    "x = layers.BatchNormalization()(x)\n",
    "x = layers.ReLU()(x)\n",
    "x = layers.Conv2D(filters=16, kernel_size=(1, 3), padding='same')(x)\n",
    "x = layers.BatchNormalization()(x)\n",
    "x = layers.ReLU()(x)\n",
    "x = layers.Conv2D(filters=64, kernel_size=(1, 1))(x)\n",
    "x = layers.BatchNormalization()(x)\n",
    "x = layers.Add()([x, residual])\n",
    "x = layers.ReLU()(x)\n",
    "\n",
    "# ConvBlock\n",
    "residual = layers.Conv2D(filters=64, kernel_size=(1, 1))(x)\n",
    "x = layers.Conv2D(filters=16, kernel_size=(1, 1))(x)\n",
    "x = layers.BatchNormalization()(x)\n",
    "x = layers.ReLU()(x)\n",
    "x = layers.Conv2D(filters=16, kernel_size=(1, 3), padding='same')(x)\n",
    "x = layers.BatchNormalization()(x)\n",
    "x = layers.ReLU()(x)\n",
    "x = layers.Conv2D(filters=64, kernel_size=(1, 1))(x)\n",
    "x = layers.BatchNormalization()(x)\n",
    "x = layers.Add()([x, residual])\n",
    "x = layers.ReLU()(x)\n",
    "\n",
    "# ConvBlock\n",
    "residual = layers.Conv2D(filters=64, kernel_size=(1, 1))(x)\n",
    "x = layers.Conv2D(filters=16, kernel_size=(1, 1))(x)\n",
    "x = layers.BatchNormalization()(x)\n",
    "x = layers.ReLU()(x)\n",
    "x = layers.Conv2D(filters=16, kernel_size=(1, 3), padding='same')(x)\n",
    "x = layers.BatchNormalization()(x)\n",
    "x = layers.ReLU()(x)\n",
    "x = layers.Conv2D(filters=64, kernel_size=(1, 1))(x)\n",
    "x = layers.BatchNormalization()(x)\n",
    "x = layers.Add()([x, residual])\n",
    "x = layers.ReLU()(x)\n",
    "\n",
    "\n",
    "# ConvBlock\n",
    "residual = layers.Conv2D(filters=64, kernel_size=(1, 1))(x)\n",
    "x = layers.Conv2D(filters=16, kernel_size=(1, 1))(x)\n",
    "x = layers.BatchNormalization()(x)\n",
    "x = layers.ReLU()(x)\n",
    "x = layers.Conv2D(filters=16, kernel_size=(1, 3), padding='same')(x)\n",
    "x = layers.BatchNormalization()(x)\n",
    "x = layers.ReLU()(x)\n",
    "x = layers.Conv2D(filters=64, kernel_size=(1, 1))(x)\n",
    "x = layers.BatchNormalization()(x)\n",
    "x = layers.Add()([x, residual])\n",
    "x = layers.ReLU()(x)\n",
    "\n",
    "x = layers.AveragePooling2D(pool_size=(1, 2))(x)\n",
    "x = layers.Flatten()(x)\n",
    "outputs = layers.Dense(2, activation='softmax')(x)\n",
    "\n",
    "TinyFallNet = keras.Model(inputs=inputs, outputs=outputs, name=\"TinyFallNet\")"
   ]
  },
  {
   "cell_type": "code",
   "execution_count": 31,
   "metadata": {},
   "outputs": [
    {
     "name": "stdout",
     "output_type": "stream",
     "text": [
      "Model structure: \n",
      "\n",
      "Model: \"TinyFallNet\"\n",
      "__________________________________________________________________________________________________\n",
      " Layer (type)                Output Shape                 Param #   Connected to                  \n",
      "==================================================================================================\n",
      " input_2 (InputLayer)        [(None, 50, 9)]              0         []                            \n",
      "                                                                                                  \n",
      " reshape_1 (Reshape)         (None, 1, 50, 9)             0         ['input_2[0][0]']             \n",
      "                                                                                                  \n",
      " conv2d_17 (Conv2D)          (None, 1, 48, 64)            1792      ['reshape_1[0][0]']           \n",
      "                                                                                                  \n",
      " max_pooling2d_1 (MaxPoolin  (None, 1, 24, 64)            0         ['conv2d_17[0][0]']           \n",
      " g2D)                                                                                             \n",
      "                                                                                                  \n",
      " conv2d_19 (Conv2D)          (None, 1, 24, 16)            1040      ['max_pooling2d_1[0][0]']     \n",
      "                                                                                                  \n",
      " batch_normalization_12 (Ba  (None, 1, 24, 16)            64        ['conv2d_19[0][0]']           \n",
      " tchNormalization)                                                                                \n",
      "                                                                                                  \n",
      " re_lu_12 (ReLU)             (None, 1, 24, 16)            0         ['batch_normalization_12[0][0]\n",
      "                                                                    ']                            \n",
      "                                                                                                  \n",
      " conv2d_20 (Conv2D)          (None, 1, 24, 16)            784       ['re_lu_12[0][0]']            \n",
      "                                                                                                  \n",
      " batch_normalization_13 (Ba  (None, 1, 24, 16)            64        ['conv2d_20[0][0]']           \n",
      " tchNormalization)                                                                                \n",
      "                                                                                                  \n",
      " re_lu_13 (ReLU)             (None, 1, 24, 16)            0         ['batch_normalization_13[0][0]\n",
      "                                                                    ']                            \n",
      "                                                                                                  \n",
      " conv2d_21 (Conv2D)          (None, 1, 24, 64)            1088      ['re_lu_13[0][0]']            \n",
      "                                                                                                  \n",
      " batch_normalization_14 (Ba  (None, 1, 24, 64)            256       ['conv2d_21[0][0]']           \n",
      " tchNormalization)                                                                                \n",
      "                                                                                                  \n",
      " conv2d_18 (Conv2D)          (None, 1, 24, 64)            4160      ['max_pooling2d_1[0][0]']     \n",
      "                                                                                                  \n",
      " add_4 (Add)                 (None, 1, 24, 64)            0         ['batch_normalization_14[0][0]\n",
      "                                                                    ',                            \n",
      "                                                                     'conv2d_18[0][0]']           \n",
      "                                                                                                  \n",
      " re_lu_14 (ReLU)             (None, 1, 24, 64)            0         ['add_4[0][0]']               \n",
      "                                                                                                  \n",
      " conv2d_23 (Conv2D)          (None, 1, 24, 16)            1040      ['re_lu_14[0][0]']            \n",
      "                                                                                                  \n",
      " batch_normalization_15 (Ba  (None, 1, 24, 16)            64        ['conv2d_23[0][0]']           \n",
      " tchNormalization)                                                                                \n",
      "                                                                                                  \n",
      " re_lu_15 (ReLU)             (None, 1, 24, 16)            0         ['batch_normalization_15[0][0]\n",
      "                                                                    ']                            \n",
      "                                                                                                  \n",
      " conv2d_24 (Conv2D)          (None, 1, 24, 16)            784       ['re_lu_15[0][0]']            \n",
      "                                                                                                  \n",
      " batch_normalization_16 (Ba  (None, 1, 24, 16)            64        ['conv2d_24[0][0]']           \n",
      " tchNormalization)                                                                                \n",
      "                                                                                                  \n",
      " re_lu_16 (ReLU)             (None, 1, 24, 16)            0         ['batch_normalization_16[0][0]\n",
      "                                                                    ']                            \n",
      "                                                                                                  \n",
      " conv2d_25 (Conv2D)          (None, 1, 24, 64)            1088      ['re_lu_16[0][0]']            \n",
      "                                                                                                  \n",
      " batch_normalization_17 (Ba  (None, 1, 24, 64)            256       ['conv2d_25[0][0]']           \n",
      " tchNormalization)                                                                                \n",
      "                                                                                                  \n",
      " conv2d_22 (Conv2D)          (None, 1, 24, 64)            4160      ['re_lu_14[0][0]']            \n",
      "                                                                                                  \n",
      " add_5 (Add)                 (None, 1, 24, 64)            0         ['batch_normalization_17[0][0]\n",
      "                                                                    ',                            \n",
      "                                                                     'conv2d_22[0][0]']           \n",
      "                                                                                                  \n",
      " re_lu_17 (ReLU)             (None, 1, 24, 64)            0         ['add_5[0][0]']               \n",
      "                                                                                                  \n",
      " conv2d_27 (Conv2D)          (None, 1, 24, 16)            1040      ['re_lu_17[0][0]']            \n",
      "                                                                                                  \n",
      " batch_normalization_18 (Ba  (None, 1, 24, 16)            64        ['conv2d_27[0][0]']           \n",
      " tchNormalization)                                                                                \n",
      "                                                                                                  \n",
      " re_lu_18 (ReLU)             (None, 1, 24, 16)            0         ['batch_normalization_18[0][0]\n",
      "                                                                    ']                            \n",
      "                                                                                                  \n",
      " conv2d_28 (Conv2D)          (None, 1, 24, 16)            784       ['re_lu_18[0][0]']            \n",
      "                                                                                                  \n",
      " batch_normalization_19 (Ba  (None, 1, 24, 16)            64        ['conv2d_28[0][0]']           \n",
      " tchNormalization)                                                                                \n",
      "                                                                                                  \n",
      " re_lu_19 (ReLU)             (None, 1, 24, 16)            0         ['batch_normalization_19[0][0]\n",
      "                                                                    ']                            \n",
      "                                                                                                  \n",
      " conv2d_29 (Conv2D)          (None, 1, 24, 64)            1088      ['re_lu_19[0][0]']            \n",
      "                                                                                                  \n",
      " batch_normalization_20 (Ba  (None, 1, 24, 64)            256       ['conv2d_29[0][0]']           \n",
      " tchNormalization)                                                                                \n",
      "                                                                                                  \n",
      " conv2d_26 (Conv2D)          (None, 1, 24, 64)            4160      ['re_lu_17[0][0]']            \n",
      "                                                                                                  \n",
      " add_6 (Add)                 (None, 1, 24, 64)            0         ['batch_normalization_20[0][0]\n",
      "                                                                    ',                            \n",
      "                                                                     'conv2d_26[0][0]']           \n",
      "                                                                                                  \n",
      " re_lu_20 (ReLU)             (None, 1, 24, 64)            0         ['add_6[0][0]']               \n",
      "                                                                                                  \n",
      " conv2d_31 (Conv2D)          (None, 1, 24, 16)            1040      ['re_lu_20[0][0]']            \n",
      "                                                                                                  \n",
      " batch_normalization_21 (Ba  (None, 1, 24, 16)            64        ['conv2d_31[0][0]']           \n",
      " tchNormalization)                                                                                \n",
      "                                                                                                  \n",
      " re_lu_21 (ReLU)             (None, 1, 24, 16)            0         ['batch_normalization_21[0][0]\n",
      "                                                                    ']                            \n",
      "                                                                                                  \n",
      " conv2d_32 (Conv2D)          (None, 1, 24, 16)            784       ['re_lu_21[0][0]']            \n",
      "                                                                                                  \n",
      " batch_normalization_22 (Ba  (None, 1, 24, 16)            64        ['conv2d_32[0][0]']           \n",
      " tchNormalization)                                                                                \n",
      "                                                                                                  \n",
      " re_lu_22 (ReLU)             (None, 1, 24, 16)            0         ['batch_normalization_22[0][0]\n",
      "                                                                    ']                            \n",
      "                                                                                                  \n",
      " conv2d_33 (Conv2D)          (None, 1, 24, 64)            1088      ['re_lu_22[0][0]']            \n",
      "                                                                                                  \n",
      " batch_normalization_23 (Ba  (None, 1, 24, 64)            256       ['conv2d_33[0][0]']           \n",
      " tchNormalization)                                                                                \n",
      "                                                                                                  \n",
      " conv2d_30 (Conv2D)          (None, 1, 24, 64)            4160      ['re_lu_20[0][0]']            \n",
      "                                                                                                  \n",
      " add_7 (Add)                 (None, 1, 24, 64)            0         ['batch_normalization_23[0][0]\n",
      "                                                                    ',                            \n",
      "                                                                     'conv2d_30[0][0]']           \n",
      "                                                                                                  \n",
      " re_lu_23 (ReLU)             (None, 1, 24, 64)            0         ['add_7[0][0]']               \n",
      "                                                                                                  \n",
      " average_pooling2d_1 (Avera  (None, 1, 12, 64)            0         ['re_lu_23[0][0]']            \n",
      " gePooling2D)                                                                                     \n",
      "                                                                                                  \n",
      " flatten_1 (Flatten)         (None, 768)                  0         ['average_pooling2d_1[0][0]'] \n",
      "                                                                                                  \n",
      " dense_1 (Dense)             (None, 2)                    1538      ['flatten_1[0][0]']           \n",
      "                                                                                                  \n",
      "==================================================================================================\n",
      "Total params: 33154 (129.51 KB)\n",
      "Trainable params: 32386 (126.51 KB)\n",
      "Non-trainable params: 768 (3.00 KB)\n",
      "__________________________________________________________________________________________________\n"
     ]
    }
   ],
   "source": [
    "print(f\"Model structure: \\n\")\n",
    "TinyFallNet.build(input_shape=(None, 50, 9))\n",
    "TinyFallNet.summary()"
   ]
  },
  {
   "cell_type": "code",
   "execution_count": 62,
   "metadata": {},
   "outputs": [
    {
     "name": "stdout",
     "output_type": "stream",
     "text": [
      "y_train.shape:  (16344, 2)\n",
      "y_val.shape:  (4087, 2)\n",
      "X_train.shape:  (16344, 50, 9)\n",
      "y_train.shape:  (16344, 2)\n",
      "Epoch 1/50\n",
      "256/256 [==============================] - 7s 14ms/step - loss: 0.2361 - accuracy: 0.9534 - val_loss: 0.2496 - val_accuracy: 0.9239 - lr: 5.0000e-04\n",
      "Epoch 2/50\n",
      "256/256 [==============================] - 3s 12ms/step - loss: 0.3061 - accuracy: 0.9433 - val_loss: 0.2258 - val_accuracy: 0.9403 - lr: 5.0000e-04\n",
      "Epoch 3/50\n",
      "256/256 [==============================] - 3s 12ms/step - loss: 0.2081 - accuracy: 0.9585 - val_loss: 0.1752 - val_accuracy: 0.9486 - lr: 5.0000e-04\n",
      "Epoch 4/50\n",
      "256/256 [==============================] - 3s 13ms/step - loss: 0.2031 - accuracy: 0.9569 - val_loss: 0.2161 - val_accuracy: 0.9420 - lr: 5.0000e-04\n",
      "Epoch 5/50\n",
      "256/256 [==============================] - 3s 12ms/step - loss: 0.1579 - accuracy: 0.9651 - val_loss: 0.1759 - val_accuracy: 0.9423 - lr: 5.0000e-04\n",
      "Epoch 6/50\n",
      "256/256 [==============================] - 3s 12ms/step - loss: 0.2354 - accuracy: 0.9578 - val_loss: 0.1789 - val_accuracy: 0.9645 - lr: 5.0000e-04\n",
      "Epoch 7/50\n",
      "256/256 [==============================] - 3s 13ms/step - loss: 0.2400 - accuracy: 0.9559 - val_loss: 0.1037 - val_accuracy: 0.9736 - lr: 5.0000e-04\n",
      "Epoch 8/50\n",
      "256/256 [==============================] - 3s 12ms/step - loss: 0.2722 - accuracy: 0.9486 - val_loss: 0.4335 - val_accuracy: 0.8618 - lr: 5.0000e-04\n",
      "Epoch 9/50\n",
      "256/256 [==============================] - 3s 12ms/step - loss: 0.1471 - accuracy: 0.9654 - val_loss: 0.1597 - val_accuracy: 0.9562 - lr: 5.0000e-04\n",
      "Epoch 10/50\n",
      "256/256 [==============================] - 3s 12ms/step - loss: 0.2942 - accuracy: 0.9528 - val_loss: 0.1985 - val_accuracy: 0.9361 - lr: 5.0000e-04\n",
      "Epoch 11/50\n",
      "256/256 [==============================] - 3s 12ms/step - loss: 0.1826 - accuracy: 0.9594 - val_loss: 0.1552 - val_accuracy: 0.9542 - lr: 5.0000e-04\n",
      "Epoch 12/50\n",
      "253/256 [============================>.] - ETA: 0s - loss: 0.1549 - accuracy: 0.9636\n",
      "Epoch 12: ReduceLROnPlateau reducing learning rate to 5.0000002374872565e-05.\n",
      "256/256 [==============================] - 3s 11ms/step - loss: 0.1539 - accuracy: 0.9638 - val_loss: 0.1224 - val_accuracy: 0.9653 - lr: 5.0000e-04\n",
      "Epoch 12: early stopping\n"
     ]
    }
   ],
   "source": [
    "# Ensure y_train and y_val are one-hot encoded only once\n",
    "if y_train.ndim == 1:\n",
    "    y_train = to_categorical(y_train)\n",
    "if y_val.ndim == 1:\n",
    "    y_val = to_categorical(y_val)\n",
    "print('y_train.shape: ', y_train.shape)\n",
    "print('y_val.shape: ', y_val.shape)\n",
    "\n",
    "# Calculate class weights\n",
    "B_multiplier = 1\n",
    "A_multiplier = B_size / A_size\n",
    "class_weight = {0: B_multiplier, 1: A_multiplier}\n",
    "\n",
    "\n",
    "TinyFallNet.compile(optimizer=keras.optimizers.Adam(learning_rate=learning_rate), \n",
    "                loss='categorical_crossentropy',\n",
    "                #loss=keras.losses.SparseCategoricalCrossentropy(from_logits=True),\n",
    "                metrics=['accuracy'])\n",
    "# Ensure y_train and y_val are one-hot encoded only once\n",
    "es = keras.callbacks.EarlyStopping(monitor='val_loss', mode='min', verbose=1, patience=patience)\n",
    "lrs = keras.callbacks.ReduceLROnPlateau(monitor='val_loss', factor=0.1, patience=patience, verbose=1)\n",
    "print('X_train.shape: ', X_train.shape) # (23291, 50, 9)\n",
    "print('y_train.shape: ', y_train.shape) # (23291,)\n",
    "\n",
    "history = TinyFallNet.fit(X_train, y_train, \n",
    "          validation_data=(X_val, y_val), \n",
    "          epochs=epochs, \n",
    "          batch_size=batch_size,\n",
    "          callbacks=[es, lrs],\n",
    "          class_weight=class_weight) "
   ]
  },
  {
   "cell_type": "code",
   "execution_count": 63,
   "metadata": {},
   "outputs": [
    {
     "name": "stdout",
     "output_type": "stream",
     "text": [
      "X_test.shape:  (182, 50, 9)\n",
      "6/6 - 0s - loss: 0.4348 - accuracy: 0.9176 - 41ms/epoch - 7ms/step\n",
      "Test loss: [0.43477219343185425, 0.9175823926925659]\n"
     ]
    }
   ],
   "source": [
    "# Evaluate the model\n",
    "print('X_test.shape: ', X_test.shape)\n",
    "if y_test.ndim == 1:\n",
    "    y_test = to_categorical(y_test)\n",
    "test_loss = TinyFallNet.evaluate(X_test, y_test, verbose=2)\n",
    "print('Test loss:', test_loss)\n"
   ]
  },
  {
   "cell_type": "code",
   "execution_count": 64,
   "metadata": {},
   "outputs": [
    {
     "data": {
      "text/plain": [
       "<matplotlib.legend.Legend at 0x2991ac4b9d0>"
      ]
     },
     "execution_count": 64,
     "metadata": {},
     "output_type": "execute_result"
    },
    {
     "data": {
      "image/png": "[encoded data removed]",
      "text/plain": [
       "<Figure size 640x480 with 1 Axes>"
      ]
     },
     "metadata": {},
     "output_type": "display_data"
    }
   ],
   "source": [
    "# Plot the training history\n",
    "plt.plot(history.history['accuracy'], label='accuracy')\n",
    "plt.plot(history.history['val_accuracy'], label = 'val_accuracy')\n",
    "plt.xlabel('Epoch')\n",
    "plt.ylabel('Accuracy')\n",
    "plt.ylim([0, 1])\n",
    "plt.legend(loc='lower right')"
   ]
  },
  {
   "cell_type": "code",
   "execution_count": 79,
   "metadata": {},
   "outputs": [
    {
     "name": "stdout",
     "output_type": "stream",
     "text": [
      "6/6 [==============================] - 0s 4ms/step\n",
      "[[88  1]\n",
      " [14 79]]\n",
      "Confusion matrix, without normalization\n",
      "[[88  1]\n",
      " [14 79]]\n",
      "accuracy:  0.9175824175824175\n",
      "f1_score:  0.9132947976878614\n"
     ]
    },
    {
     "data": {
      "image/png": "[encoded data removed]",
      "text/plain": [
       "<Figure size 640x480 with 2 Axes>"
      ]
     },
     "metadata": {},
     "output_type": "display_data"
    }
   ],
   "source": [
    "# Convert y_test back to its original form\n",
    "y_test_original = np.argmax(y_test, axis=-1)\n",
    "\n",
    "# Get the model's predictions\n",
    "predictions = np.argmax(TinyFallNet.predict(X_test), axis=-1)\n",
    "\n",
    "\n",
    "# Compute the confusion matrix\n",
    "cm = confusion_matrix(y_test_original, predictions)\n",
    "\n",
    "print(cm)\n",
    "# plot the confusion matrix\n",
    "plot_confusion_matrix(cm, classes=['Not Fall', 'Fall'], normalize=False, title='Confusion Matrix')\n",
    "\n",
    "# get accuracy\n",
    "accuracy_fp = (cm[0][0] + cm[1][1]) / np.sum(cm)\n",
    "print('accuracy: ', accuracy_fp)\n",
    "# f1 score\n",
    "precision_fp = cm[1][1] / (cm[1][1] + cm[0][1])\n",
    "recall_fp = cm[1][1] / (cm[1][1] + cm[1][0])\n",
    "f1_score_fp = 2 * precision_fp * recall_fp / (precision_fp + recall_fp)\n",
    "print('f1_score: ', f1_score_fp)"
   ]
  },
  {
   "cell_type": "code",
   "execution_count": 67,
   "metadata": {},
   "outputs": [
    {
     "name": "stdout",
     "output_type": "stream",
     "text": [
      "INFO:tensorflow:Assets written to: C:\\Users\\10744\\AppData\\Local\\Temp\\tmpj7lii2na\\assets\n"
     ]
    },
    {
     "name": "stderr",
     "output_type": "stream",
     "text": [
      "INFO:tensorflow:Assets written to: C:\\Users\\10744\\AppData\\Local\\Temp\\tmpj7lii2na\\assets\n"
     ]
    },
    {
     "data": {
      "text/plain": [
       "141456"
      ]
     },
     "execution_count": 67,
     "metadata": {},
     "output_type": "execute_result"
    }
   ],
   "source": [
    "TinyFallNet.save('saved_models/TinyFallNet.keras')  # The file needs to end with the .keras extension\n",
    "# convert the model to tflite\n",
    "converter = tf.lite.TFLiteConverter.from_keras_model(TinyFallNet)\n",
    "TinyFallNet_tflite = converter.convert()\n",
    "# save the model\n",
    "open(\"saved_models/TinyFallNet.tflite\", \"wb\").write(TinyFallNet_tflite)"
   ]
  },
  {
   "cell_type": "code",
   "execution_count": 68,
   "metadata": {},
   "outputs": [
    {
     "name": "stdout",
     "output_type": "stream",
     "text": [
      "Model: \"TinyFallNet\"\n",
      "__________________________________________________________________________________________________\n",
      " Layer (type)                Output Shape                 Param #   Connected to                  \n",
      "==================================================================================================\n",
      " input_2 (InputLayer)        [(None, 50, 9)]              0         []                            \n",
      "                                                                                                  \n",
      " quantize_layer_3 (Quantize  (None, 50, 9)                3         ['input_2[0][0]']             \n",
      " Layer)                                                                                           \n",
      "                                                                                                  \n",
      " quant_reshape_1 (QuantizeW  (None, 1, 50, 9)             1         ['quantize_layer_3[0][0]']    \n",
      " rapperV2)                                                                                        \n",
      "                                                                                                  \n",
      " quant_conv2d_17 (QuantizeW  (None, 1, 48, 64)            1923      ['quant_reshape_1[0][0]']     \n",
      " rapperV2)                                                                                        \n",
      "                                                                                                  \n",
      " quant_max_pooling2d_1 (Qua  (None, 1, 24, 64)            1         ['quant_conv2d_17[0][0]']     \n",
      " ntizeWrapperV2)                                                                                  \n",
      "                                                                                                  \n",
      " quant_conv2d_19 (QuantizeW  (None, 1, 24, 16)            1073      ['quant_max_pooling2d_1[0][0]'\n",
      " rapperV2)                                                          ]                             \n",
      "                                                                                                  \n",
      " quant_batch_normalization_  (None, 1, 24, 16)            65        ['quant_conv2d_19[0][0]']     \n",
      " 12 (QuantizeWrapperV2)                                                                           \n",
      "                                                                                                  \n",
      " quant_re_lu_12 (QuantizeWr  (None, 1, 24, 16)            3         ['quant_batch_normalization_12\n",
      " apperV2)                                                           [0][0]']                      \n",
      "                                                                                                  \n",
      " quant_conv2d_20 (QuantizeW  (None, 1, 24, 16)            817       ['quant_re_lu_12[0][0]']      \n",
      " rapperV2)                                                                                        \n",
      "                                                                                                  \n",
      " quant_batch_normalization_  (None, 1, 24, 16)            65        ['quant_conv2d_20[0][0]']     \n",
      " 13 (QuantizeWrapperV2)                                                                           \n",
      "                                                                                                  \n",
      " quant_re_lu_13 (QuantizeWr  (None, 1, 24, 16)            3         ['quant_batch_normalization_13\n",
      " apperV2)                                                           [0][0]']                      \n",
      "                                                                                                  \n",
      " quant_conv2d_21 (QuantizeW  (None, 1, 24, 64)            1217      ['quant_re_lu_13[0][0]']      \n",
      " rapperV2)                                                                                        \n",
      "                                                                                                  \n",
      " quant_batch_normalization_  (None, 1, 24, 64)            259       ['quant_conv2d_21[0][0]']     \n",
      " 14 (QuantizeWrapperV2)                                                                           \n",
      "                                                                                                  \n",
      " quant_conv2d_18 (QuantizeW  (None, 1, 24, 64)            4291      ['quant_max_pooling2d_1[0][0]'\n",
      " rapperV2)                                                          ]                             \n",
      "                                                                                                  \n",
      " quant_add_4 (QuantizeWrapp  (None, 1, 24, 64)            1         ['quant_batch_normalization_14\n",
      " erV2)                                                              [0][0]',                      \n",
      "                                                                     'quant_conv2d_18[0][0]']     \n",
      "                                                                                                  \n",
      " quant_re_lu_14 (QuantizeWr  (None, 1, 24, 64)            3         ['quant_add_4[0][0]']         \n",
      " apperV2)                                                                                         \n",
      "                                                                                                  \n",
      " quant_conv2d_23 (QuantizeW  (None, 1, 24, 16)            1073      ['quant_re_lu_14[0][0]']      \n",
      " rapperV2)                                                                                        \n",
      "                                                                                                  \n",
      " quant_batch_normalization_  (None, 1, 24, 16)            65        ['quant_conv2d_23[0][0]']     \n",
      " 15 (QuantizeWrapperV2)                                                                           \n",
      "                                                                                                  \n",
      " quant_re_lu_15 (QuantizeWr  (None, 1, 24, 16)            3         ['quant_batch_normalization_15\n",
      " apperV2)                                                           [0][0]']                      \n",
      "                                                                                                  \n",
      " quant_conv2d_24 (QuantizeW  (None, 1, 24, 16)            817       ['quant_re_lu_15[0][0]']      \n",
      " rapperV2)                                                                                        \n",
      "                                                                                                  \n",
      " quant_batch_normalization_  (None, 1, 24, 16)            65        ['quant_conv2d_24[0][0]']     \n",
      " 16 (QuantizeWrapperV2)                                                                           \n",
      "                                                                                                  \n",
      " quant_re_lu_16 (QuantizeWr  (None, 1, 24, 16)            3         ['quant_batch_normalization_16\n",
      " apperV2)                                                           [0][0]']                      \n",
      "                                                                                                  \n",
      " quant_conv2d_25 (QuantizeW  (None, 1, 24, 64)            1217      ['quant_re_lu_16[0][0]']      \n",
      " rapperV2)                                                                                        \n",
      "                                                                                                  \n",
      " quant_batch_normalization_  (None, 1, 24, 64)            259       ['quant_conv2d_25[0][0]']     \n",
      " 17 (QuantizeWrapperV2)                                                                           \n",
      "                                                                                                  \n",
      " quant_conv2d_22 (QuantizeW  (None, 1, 24, 64)            4291      ['quant_re_lu_14[0][0]']      \n",
      " rapperV2)                                                                                        \n",
      "                                                                                                  \n",
      " quant_add_5 (QuantizeWrapp  (None, 1, 24, 64)            1         ['quant_batch_normalization_17\n",
      " erV2)                                                              [0][0]',                      \n",
      "                                                                     'quant_conv2d_22[0][0]']     \n",
      "                                                                                                  \n",
      " quant_re_lu_17 (QuantizeWr  (None, 1, 24, 64)            3         ['quant_add_5[0][0]']         \n",
      " apperV2)                                                                                         \n",
      "                                                                                                  \n",
      " quant_conv2d_27 (QuantizeW  (None, 1, 24, 16)            1073      ['quant_re_lu_17[0][0]']      \n",
      " rapperV2)                                                                                        \n",
      "                                                                                                  \n",
      " quant_batch_normalization_  (None, 1, 24, 16)            65        ['quant_conv2d_27[0][0]']     \n",
      " 18 (QuantizeWrapperV2)                                                                           \n",
      "                                                                                                  \n",
      " quant_re_lu_18 (QuantizeWr  (None, 1, 24, 16)            3         ['quant_batch_normalization_18\n",
      " apperV2)                                                           [0][0]']                      \n",
      "                                                                                                  \n",
      " quant_conv2d_28 (QuantizeW  (None, 1, 24, 16)            817       ['quant_re_lu_18[0][0]']      \n",
      " rapperV2)                                                                                        \n",
      "                                                                                                  \n",
      " quant_batch_normalization_  (None, 1, 24, 16)            65        ['quant_conv2d_28[0][0]']     \n",
      " 19 (QuantizeWrapperV2)                                                                           \n",
      "                                                                                                  \n",
      " quant_re_lu_19 (QuantizeWr  (None, 1, 24, 16)            3         ['quant_batch_normalization_19\n",
      " apperV2)                                                           [0][0]']                      \n",
      "                                                                                                  \n",
      " quant_conv2d_29 (QuantizeW  (None, 1, 24, 64)            1217      ['quant_re_lu_19[0][0]']      \n",
      " rapperV2)                                                                                        \n",
      "                                                                                                  \n",
      " quant_batch_normalization_  (None, 1, 24, 64)            259       ['quant_conv2d_29[0][0]']     \n",
      " 20 (QuantizeWrapperV2)                                                                           \n",
      "                                                                                                  \n",
      " quant_conv2d_26 (QuantizeW  (None, 1, 24, 64)            4291      ['quant_re_lu_17[0][0]']      \n",
      " rapperV2)                                                                                        \n",
      "                                                                                                  \n",
      " quant_add_6 (QuantizeWrapp  (None, 1, 24, 64)            1         ['quant_batch_normalization_20\n",
      " erV2)                                                              [0][0]',                      \n",
      "                                                                     'quant_conv2d_26[0][0]']     \n",
      "                                                                                                  \n",
      " quant_re_lu_20 (QuantizeWr  (None, 1, 24, 64)            3         ['quant_add_6[0][0]']         \n",
      " apperV2)                                                                                         \n",
      "                                                                                                  \n",
      " quant_conv2d_31 (QuantizeW  (None, 1, 24, 16)            1073      ['quant_re_lu_20[0][0]']      \n",
      " rapperV2)                                                                                        \n",
      "                                                                                                  \n",
      " quant_batch_normalization_  (None, 1, 24, 16)            65        ['quant_conv2d_31[0][0]']     \n",
      " 21 (QuantizeWrapperV2)                                                                           \n",
      "                                                                                                  \n",
      " quant_re_lu_21 (QuantizeWr  (None, 1, 24, 16)            3         ['quant_batch_normalization_21\n",
      " apperV2)                                                           [0][0]']                      \n",
      "                                                                                                  \n",
      " quant_conv2d_32 (QuantizeW  (None, 1, 24, 16)            817       ['quant_re_lu_21[0][0]']      \n",
      " rapperV2)                                                                                        \n",
      "                                                                                                  \n",
      " quant_batch_normalization_  (None, 1, 24, 16)            65        ['quant_conv2d_32[0][0]']     \n",
      " 22 (QuantizeWrapperV2)                                                                           \n",
      "                                                                                                  \n",
      " quant_re_lu_22 (QuantizeWr  (None, 1, 24, 16)            3         ['quant_batch_normalization_22\n",
      " apperV2)                                                           [0][0]']                      \n",
      "                                                                                                  \n",
      " quant_conv2d_33 (QuantizeW  (None, 1, 24, 64)            1217      ['quant_re_lu_22[0][0]']      \n",
      " rapperV2)                                                                                        \n",
      "                                                                                                  \n",
      " quant_batch_normalization_  (None, 1, 24, 64)            259       ['quant_conv2d_33[0][0]']     \n",
      " 23 (QuantizeWrapperV2)                                                                           \n",
      "                                                                                                  \n",
      " quant_conv2d_30 (QuantizeW  (None, 1, 24, 64)            4291      ['quant_re_lu_20[0][0]']      \n",
      " rapperV2)                                                                                        \n",
      "                                                                                                  \n",
      " quant_add_7 (QuantizeWrapp  (None, 1, 24, 64)            1         ['quant_batch_normalization_23\n",
      " erV2)                                                              [0][0]',                      \n",
      "                                                                     'quant_conv2d_30[0][0]']     \n",
      "                                                                                                  \n",
      " quant_re_lu_23 (QuantizeWr  (None, 1, 24, 64)            3         ['quant_add_7[0][0]']         \n",
      " apperV2)                                                                                         \n",
      "                                                                                                  \n",
      " quant_average_pooling2d_1   (None, 1, 12, 64)            3         ['quant_re_lu_23[0][0]']      \n",
      " (QuantizeWrapperV2)                                                                              \n",
      "                                                                                                  \n",
      " quant_flatten_1 (QuantizeW  (None, 768)                  1         ['quant_average_pooling2d_1[0]\n",
      " rapperV2)                                                          [0]']                         \n",
      "                                                                                                  \n",
      " quant_dense_1 (QuantizeWra  (None, 2)                    1543      ['quant_flatten_1[0][0]']     \n",
      " pperV2)                                                                                          \n",
      "                                                                                                  \n",
      "==================================================================================================\n",
      "Total params: 34663 (135.40 KB)\n",
      "Trainable params: 32386 (126.51 KB)\n",
      "Non-trainable params: 2277 (8.89 KB)\n",
      "__________________________________________________________________________________________________\n"
     ]
    }
   ],
   "source": [
    "q_TinyFallNet = tfmot.quantization.keras.quantize_model(TinyFallNet)\n",
    "q_TinyFallNet.compile(optimizer=keras.optimizers.Adam(learning_rate=learning_rate), \n",
    "                loss='categorical_crossentropy',\n",
    "                #loss=keras.losses.SparseCategoricalCrossentropy(from_logits=True),\n",
    "                metrics=['accuracy'])\n",
    "\n",
    "q_TinyFallNet.summary()"
   ]
  },
  {
   "cell_type": "code",
   "execution_count": 69,
   "metadata": {},
   "outputs": [
    {
     "name": "stdout",
     "output_type": "stream",
     "text": [
      "y_train.shape:  (16344, 2)\n",
      "y_val.shape:  (4087, 2)\n"
     ]
    }
   ],
   "source": [
    "# Ensure y_train and y_val are one-hot encoded only once\n",
    "if y_train.ndim == 1:\n",
    "    y_train = to_categorical(y_train)\n",
    "if y_val.ndim == 1:\n",
    "    y_val = to_categorical(y_val)\n",
    "print('y_train.shape: ', y_train.shape)\n",
    "print('y_val.shape: ', y_val.shape)"
   ]
  },
  {
   "cell_type": "code",
   "execution_count": 70,
   "metadata": {},
   "outputs": [
    {
     "name": "stdout",
     "output_type": "stream",
     "text": [
      "Epoch 1/50\n",
      "256/256 [==============================] - 12s 21ms/step - loss: 0.8214 - accuracy: 0.8569 - val_loss: 0.1692 - val_accuracy: 0.9310 - lr: 5.0000e-04\n",
      "Epoch 2/50\n",
      "256/256 [==============================] - 5s 18ms/step - loss: 0.3493 - accuracy: 0.9211 - val_loss: 0.1756 - val_accuracy: 0.9401 - lr: 5.0000e-04\n",
      "Epoch 3/50\n",
      "256/256 [==============================] - 5s 19ms/step - loss: 0.2619 - accuracy: 0.9411 - val_loss: 0.1972 - val_accuracy: 0.9356 - lr: 5.0000e-04\n",
      "Epoch 4/50\n",
      "256/256 [==============================] - 5s 18ms/step - loss: 0.2466 - accuracy: 0.9468 - val_loss: 0.1960 - val_accuracy: 0.9305 - lr: 5.0000e-04\n",
      "Epoch 5/50\n",
      "256/256 [==============================] - 5s 18ms/step - loss: 0.1674 - accuracy: 0.9585 - val_loss: 0.1266 - val_accuracy: 0.9606 - lr: 5.0000e-04\n",
      "Epoch 6/50\n",
      "256/256 [==============================] - 4s 18ms/step - loss: 0.1432 - accuracy: 0.9659 - val_loss: 0.1006 - val_accuracy: 0.9679 - lr: 5.0000e-04\n",
      "Epoch 7/50\n",
      "256/256 [==============================] - 5s 19ms/step - loss: 0.1539 - accuracy: 0.9649 - val_loss: 0.0929 - val_accuracy: 0.9709 - lr: 5.0000e-04\n",
      "Epoch 8/50\n",
      "256/256 [==============================] - 5s 19ms/step - loss: 0.1673 - accuracy: 0.9652 - val_loss: 0.1482 - val_accuracy: 0.9626 - lr: 5.0000e-04\n",
      "Epoch 9/50\n",
      "256/256 [==============================] - 5s 18ms/step - loss: 0.2127 - accuracy: 0.9602 - val_loss: 0.0996 - val_accuracy: 0.9687 - lr: 5.0000e-04\n",
      "Epoch 10/50\n",
      "256/256 [==============================] - 5s 19ms/step - loss: 0.1351 - accuracy: 0.9703 - val_loss: 0.1412 - val_accuracy: 0.9599 - lr: 5.0000e-04\n",
      "Epoch 11/50\n",
      "256/256 [==============================] - 5s 18ms/step - loss: 0.1594 - accuracy: 0.9696 - val_loss: 0.8299 - val_accuracy: 0.7539 - lr: 5.0000e-04\n",
      "Epoch 12/50\n",
      "256/256 [==============================] - ETA: 0s - loss: 0.2359 - accuracy: 0.9544\n",
      "Epoch 12: ReduceLROnPlateau reducing learning rate to 5.0000002374872565e-05.\n",
      "256/256 [==============================] - 5s 18ms/step - loss: 0.2359 - accuracy: 0.9544 - val_loss: 0.1724 - val_accuracy: 0.9584 - lr: 5.0000e-04\n",
      "Epoch 12: early stopping\n"
     ]
    }
   ],
   "source": [
    "q_history = q_TinyFallNet.fit(X_train, y_train, \n",
    "            validation_data=(X_val, y_val), \n",
    "            epochs=epochs, \n",
    "            batch_size=batch_size,\n",
    "            callbacks=[es, lrs],\n",
    "            class_weight=class_weight) "
   ]
  },
  {
   "cell_type": "code",
   "execution_count": 71,
   "metadata": {},
   "outputs": [],
   "source": [
    "q_TinyFallNet.save('saved_models/q_TinyFallNet.keras')  # The file needs to end with the .keras extension\n"
   ]
  },
  {
   "cell_type": "code",
   "execution_count": 72,
   "metadata": {},
   "outputs": [
    {
     "name": "stdout",
     "output_type": "stream",
     "text": [
      "INFO:tensorflow:Assets written to: C:\\Users\\10744\\AppData\\Local\\Temp\\tmpap80wwsw\\assets\n"
     ]
    },
    {
     "name": "stderr",
     "output_type": "stream",
     "text": [
      "INFO:tensorflow:Assets written to: C:\\Users\\10744\\AppData\\Local\\Temp\\tmpap80wwsw\\assets\n",
      "g:\\python\\lib\\site-packages\\tensorflow\\lite\\python\\convert.py:953: UserWarning: Statistics for quantized inputs were expected, but not specified; continuing anyway.\n",
      "  warnings.warn(\n"
     ]
    }
   ],
   "source": [
    "# convert the QAT model to a fully quantized model using TFLite\n",
    "\n",
    "def representative_data_gen():\n",
    "  for input_value in tf.data.Dataset.from_tensor_slices(X_train.astype('float32')).batch(1).take(100):\n",
    "    yield [input_value]\n",
    "\n",
    "# Set up the converter for quantization\n",
    "converter = tf.lite.TFLiteConverter.from_keras_model(TinyFallNet)\n",
    "converter.optimizations = [tf.lite.Optimize.DEFAULT]\n",
    "\n",
    "\n",
    "\n",
    "# This is required for full integer quantization (including input and output)\n",
    "converter.representative_dataset = representative_data_gen\n",
    "converter.target_spec.supported_ops = [tf.lite.OpsSet.TFLITE_BUILTINS_INT8]\n",
    "converter.inference_input_type = tf.float32  # Keep input as float32\n",
    "converter.inference_output_type = tf.int8  # Keep output as float32\n",
    "\n",
    "# Convert the model\n",
    "tflite_model_quant_int8_qat = converter.convert()\n"
   ]
  },
  {
   "cell_type": "code",
   "execution_count": 73,
   "metadata": {},
   "outputs": [
    {
     "name": "stdout",
     "output_type": "stream",
     "text": [
      "input:  <class 'numpy.float32'>\n",
      "output:  <class 'numpy.int8'>\n"
     ]
    },
    {
     "data": {
      "text/plain": [
       "67576"
      ]
     },
     "execution_count": 73,
     "metadata": {},
     "output_type": "execute_result"
    }
   ],
   "source": [
    "interpreter = tf.lite.Interpreter(model_content=tflite_model_quant_int8_qat)\n",
    "input_type = interpreter.get_input_details()[0]['dtype']\n",
    "print('input: ', input_type)\n",
    "output_type = interpreter.get_output_details()[0]['dtype']\n",
    "print('output: ', output_type)\n",
    "# Save the quantized model to disk\n",
    "open(\"saved_models/TinyFallNet_quant_int8_qat.tflite\", \"wb\").write(tflite_model_quant_int8_qat)"
   ]
  },
  {
   "cell_type": "code",
   "execution_count": 78,
   "metadata": {},
   "outputs": [
    {
     "name": "stdout",
     "output_type": "stream",
     "text": [
      "input:  {'name': 'serving_default_input_2:0', 'index': 0, 'shape': array([ 1, 50,  9]), 'shape_signature': array([-1, 50,  9]), 'dtype': <class 'numpy.float32'>, 'quantization': (0.0, 0), 'quantization_parameters': {'scales': array([], dtype=float32), 'zero_points': array([], dtype=int32), 'quantized_dimension': 0}, 'sparsity_parameters': {}}\n",
      "output:  {'name': 'StatefulPartitionedCall:0', 'index': 73, 'shape': array([1, 2]), 'shape_signature': array([-1,  2]), 'dtype': <class 'numpy.int8'>, 'quantization': (0.00390625, -128), 'quantization_parameters': {'scales': array([0.00390625], dtype=float32), 'zero_points': array([-128]), 'quantized_dimension': 0}, 'sparsity_parameters': {}}\n",
      "Evaluated on  0 .\n",
      "Evaluated on  100 .\n",
      "[[88  1]\n",
      " [18 75]]\n",
      "Confusion matrix, without normalization\n",
      "[[88  1]\n",
      " [18 75]]\n",
      "accuracy:  0.8956043956043956\n",
      "f1_score:  0.8875739644970414\n"
     ]
    },
    {
     "data": {
      "image/png": "[encoded data removed]",
      "text/plain": [
       "<Figure size 640x480 with 2 Axes>"
      ]
     },
     "metadata": {},
     "output_type": "display_data"
    }
   ],
   "source": [
    "# test the quantized model\n",
    "X_test_int8 = X_test.astype('float32')\n",
    "y_test_int8 = y_test.astype('int8')\n",
    "# Load the model into an interpreter\n",
    "interpreter = tf.lite.Interpreter(model_content= tflite_model_quant_int8_qat)\n",
    "# Allocate memory for the model's input Tensor(s)\n",
    "interpreter.allocate_tensors()\n",
    "# Get the model input and output details\n",
    "input_details = interpreter.get_input_details()[0]\n",
    "output_details = interpreter.get_output_details()[0]\n",
    "print(\"input: \", input_details)\n",
    "print(\"output: \", output_details)\n",
    "predictions = np.zeros(X_test.shape[0])\n",
    "for i, test_data in enumerate(X_test_int8):\n",
    "    test_data = np.expand_dims(test_data, axis=0)\n",
    "    #print(test_data.shape)\n",
    "    interpreter.set_tensor(input_details[\"index\"], test_data)\n",
    "    interpreter.invoke()\n",
    "    output = interpreter.get_tensor(output_details[\"index\"])[0]\n",
    "    if i%100 == 0:\n",
    "        # print(\"Evaluated on %d images.\" % test_image_index)\n",
    "        print('Evaluated on ', i, '.')\n",
    "    predictions[i] = output.argmax()\n",
    "\n",
    "gt = np.argmax(y_test_int8, axis=-1)\n",
    "\n",
    "# Compute the confusion matrix\n",
    "cm = confusion_matrix(gt, predictions)\n",
    "\n",
    "print(cm)\n",
    "# plot the confusion matrix\n",
    "plot_confusion_matrix(cm, classes=['Not Fall', 'Fall'], normalize=False, title='Confusion Matrix')\n",
    "\n",
    "# get accuracy\n",
    "#accuracy_fp = (cm[0][0] + cm[1][1]) / np.sum(cm)\n",
    "#print('accuracy: ', accuracy_fp)\n",
    "\n",
    "f1_score = 2 * cm[1][1] / (2 * cm[1][1] + cm[0][1] + cm[1][0])\n",
    "print('f1_score: ', f1_score)\n",
    "\n"
   ]
  },
  {
   "cell_type": "code",
   "execution_count": 75,
   "metadata": {},
   "outputs": [
    {
     "name": "stdout",
     "output_type": "stream",
     "text": [
      "TFLite Model size with 8-bit quantization: 65 KB\n",
      "TFLite Model size without quantization: 138 KB\n",
      "\n",
      "Reduction in model size by a factor of 2.093288\n",
      "accuracy:  0.8956043956043956\n",
      "Confusion matrix, without normalization\n",
      "[[88  1]\n",
      " [18 75]]\n"
     ]
    },
    {
     "data": {
      "image/png": "[encoded data removed]",
      "text/plain": [
       "<Figure size 640x480 with 2 Axes>"
      ]
     },
     "metadata": {},
     "output_type": "display_data"
    }
   ],
   "source": [
    "# Show the model size for the 8-bit quantized TFLite model\n",
    "tflite_in_kb = os.path.getsize('saved_models/TinyFallNet.tflite') / 1024\n",
    "# ResNet24_tflite tflite_quant_in_kb\n",
    "tflite_quant_in_kb = os.path.getsize('saved_models/TinyFallNet_quant_int8_qat.tflite') / 1024\n",
    "print(\"TFLite Model size with 8-bit quantization: %d KB\" % tflite_quant_in_kb)\n",
    "\n",
    "print(\"TFLite Model size without quantization: %d KB\" % tflite_in_kb)\n",
    "\n",
    "# Determine the reduction in model size\n",
    "print(\"\\nReduction in model size by a factor of %f\" % (tflite_in_kb / tflite_quant_in_kb))\n",
    "\n",
    "accuracy = (predictions == gt).mean()\n",
    "print('accuracy: ', accuracy)\n",
    "# compute the confusion matrix\n",
    "cm = confusion_matrix(gt, predictions)\n",
    "# plot the confusion matrix\n",
    "plot_confusion_matrix(cm, classes=['Not Fall', 'Fall'], normalize=False, title='Confusion Matrix')\n",
    "\n"
   ]
  },
  {
   "cell_type": "code",
   "execution_count": 80,
   "metadata": {},
   "outputs": [
    {
     "name": "stdout",
     "output_type": "stream",
     "text": [
      "accuracy of full precision model:  0.9175824175824175\n",
      "accuracy of quantized model:  0.8956043956043956\n"
     ]
    }
   ],
   "source": [
    "print('accuracy of full precision model: ', accuracy_fp)\n",
    "print('accuracy of quantized model: ', accuracy)"
   ]
  },
  {
   "cell_type": "markdown",
   "metadata": {},
   "source": [
    "# Pruning + QAT"
   ]
  },
  {
   "cell_type": "code",
   "execution_count": 89,
   "metadata": {},
   "outputs": [
    {
     "name": "stdout",
     "output_type": "stream",
     "text": [
      "Model: \"TinyFallNet\"\n",
      "__________________________________________________________________________________________________\n",
      " Layer (type)                Output Shape                 Param #   Connected to                  \n",
      "==================================================================================================\n",
      " input_2 (InputLayer)        [(None, 50, 9)]              0         []                            \n",
      "                                                                                                  \n",
      " prune_low_magnitude_reshap  (None, 1, 50, 9)             1         ['input_2[0][0]']             \n",
      " e_1 (PruneLowMagnitude)                                                                          \n",
      "                                                                                                  \n",
      " prune_low_magnitude_conv2d  (None, 1, 48, 64)            3522      ['prune_low_magnitude_reshape_\n",
      " _17 (PruneLowMagnitude)                                            1[0][0]']                     \n",
      "                                                                                                  \n",
      " prune_low_magnitude_max_po  (None, 1, 24, 64)            1         ['prune_low_magnitude_conv2d_1\n",
      " oling2d_1 (PruneLowMagnitu                                         7[0][0]']                     \n",
      " de)                                                                                              \n",
      "                                                                                                  \n",
      " prune_low_magnitude_conv2d  (None, 1, 24, 16)            2066      ['prune_low_magnitude_max_pool\n",
      " _19 (PruneLowMagnitude)                                            ing2d_1[0][0]']               \n",
      "                                                                                                  \n",
      " prune_low_magnitude_batch_  (None, 1, 24, 16)            65        ['prune_low_magnitude_conv2d_1\n",
      " normalization_12 (PruneLow                                         9[0][0]']                     \n",
      " Magnitude)                                                                                       \n",
      "                                                                                                  \n",
      " prune_low_magnitude_re_lu_  (None, 1, 24, 16)            1         ['prune_low_magnitude_batch_no\n",
      " 12 (PruneLowMagnitude)                                             rmalization_12[0][0]']        \n",
      "                                                                                                  \n",
      " prune_low_magnitude_conv2d  (None, 1, 24, 16)            1554      ['prune_low_magnitude_re_lu_12\n",
      " _20 (PruneLowMagnitude)                                            [0][0]']                      \n",
      "                                                                                                  \n",
      " prune_low_magnitude_batch_  (None, 1, 24, 16)            65        ['prune_low_magnitude_conv2d_2\n",
      " normalization_13 (PruneLow                                         0[0][0]']                     \n",
      " Magnitude)                                                                                       \n",
      "                                                                                                  \n",
      " prune_low_magnitude_re_lu_  (None, 1, 24, 16)            1         ['prune_low_magnitude_batch_no\n",
      " 13 (PruneLowMagnitude)                                             rmalization_13[0][0]']        \n",
      "                                                                                                  \n",
      " prune_low_magnitude_conv2d  (None, 1, 24, 64)            2114      ['prune_low_magnitude_re_lu_13\n",
      " _21 (PruneLowMagnitude)                                            [0][0]']                      \n",
      "                                                                                                  \n",
      " prune_low_magnitude_batch_  (None, 1, 24, 64)            257       ['prune_low_magnitude_conv2d_2\n",
      " normalization_14 (PruneLow                                         1[0][0]']                     \n",
      " Magnitude)                                                                                       \n",
      "                                                                                                  \n",
      " prune_low_magnitude_conv2d  (None, 1, 24, 64)            8258      ['prune_low_magnitude_max_pool\n",
      " _18 (PruneLowMagnitude)                                            ing2d_1[0][0]']               \n",
      "                                                                                                  \n",
      " prune_low_magnitude_add_4   (None, 1, 24, 64)            1         ['prune_low_magnitude_batch_no\n",
      " (PruneLowMagnitude)                                                rmalization_14[0][0]',        \n",
      "                                                                     'prune_low_magnitude_conv2d_1\n",
      "                                                                    8[0][0]']                     \n",
      "                                                                                                  \n",
      " prune_low_magnitude_re_lu_  (None, 1, 24, 64)            1         ['prune_low_magnitude_add_4[0]\n",
      " 14 (PruneLowMagnitude)                                             [0]']                         \n",
      "                                                                                                  \n",
      " prune_low_magnitude_conv2d  (None, 1, 24, 16)            2066      ['prune_low_magnitude_re_lu_14\n",
      " _23 (PruneLowMagnitude)                                            [0][0]']                      \n",
      "                                                                                                  \n",
      " prune_low_magnitude_batch_  (None, 1, 24, 16)            65        ['prune_low_magnitude_conv2d_2\n",
      " normalization_15 (PruneLow                                         3[0][0]']                     \n",
      " Magnitude)                                                                                       \n",
      "                                                                                                  \n",
      " prune_low_magnitude_re_lu_  (None, 1, 24, 16)            1         ['prune_low_magnitude_batch_no\n",
      " 15 (PruneLowMagnitude)                                             rmalization_15[0][0]']        \n",
      "                                                                                                  \n",
      " prune_low_magnitude_conv2d  (None, 1, 24, 16)            1554      ['prune_low_magnitude_re_lu_15\n",
      " _24 (PruneLowMagnitude)                                            [0][0]']                      \n",
      "                                                                                                  \n",
      " prune_low_magnitude_batch_  (None, 1, 24, 16)            65        ['prune_low_magnitude_conv2d_2\n",
      " normalization_16 (PruneLow                                         4[0][0]']                     \n",
      " Magnitude)                                                                                       \n",
      "                                                                                                  \n",
      " prune_low_magnitude_re_lu_  (None, 1, 24, 16)            1         ['prune_low_magnitude_batch_no\n",
      " 16 (PruneLowMagnitude)                                             rmalization_16[0][0]']        \n",
      "                                                                                                  \n",
      " prune_low_magnitude_conv2d  (None, 1, 24, 64)            2114      ['prune_low_magnitude_re_lu_16\n",
      " _25 (PruneLowMagnitude)                                            [0][0]']                      \n",
      "                                                                                                  \n",
      " prune_low_magnitude_batch_  (None, 1, 24, 64)            257       ['prune_low_magnitude_conv2d_2\n",
      " normalization_17 (PruneLow                                         5[0][0]']                     \n",
      " Magnitude)                                                                                       \n",
      "                                                                                                  \n",
      " prune_low_magnitude_conv2d  (None, 1, 24, 64)            8258      ['prune_low_magnitude_re_lu_14\n",
      " _22 (PruneLowMagnitude)                                            [0][0]']                      \n",
      "                                                                                                  \n",
      " prune_low_magnitude_add_5   (None, 1, 24, 64)            1         ['prune_low_magnitude_batch_no\n",
      " (PruneLowMagnitude)                                                rmalization_17[0][0]',        \n",
      "                                                                     'prune_low_magnitude_conv2d_2\n",
      "                                                                    2[0][0]']                     \n",
      "                                                                                                  \n",
      " prune_low_magnitude_re_lu_  (None, 1, 24, 64)            1         ['prune_low_magnitude_add_5[0]\n",
      " 17 (PruneLowMagnitude)                                             [0]']                         \n",
      "                                                                                                  \n",
      " prune_low_magnitude_conv2d  (None, 1, 24, 16)            2066      ['prune_low_magnitude_re_lu_17\n",
      " _27 (PruneLowMagnitude)                                            [0][0]']                      \n",
      "                                                                                                  \n",
      " prune_low_magnitude_batch_  (None, 1, 24, 16)            65        ['prune_low_magnitude_conv2d_2\n",
      " normalization_18 (PruneLow                                         7[0][0]']                     \n",
      " Magnitude)                                                                                       \n",
      "                                                                                                  \n",
      " prune_low_magnitude_re_lu_  (None, 1, 24, 16)            1         ['prune_low_magnitude_batch_no\n",
      " 18 (PruneLowMagnitude)                                             rmalization_18[0][0]']        \n",
      "                                                                                                  \n",
      " prune_low_magnitude_conv2d  (None, 1, 24, 16)            1554      ['prune_low_magnitude_re_lu_18\n",
      " _28 (PruneLowMagnitude)                                            [0][0]']                      \n",
      "                                                                                                  \n",
      " prune_low_magnitude_batch_  (None, 1, 24, 16)            65        ['prune_low_magnitude_conv2d_2\n",
      " normalization_19 (PruneLow                                         8[0][0]']                     \n",
      " Magnitude)                                                                                       \n",
      "                                                                                                  \n",
      " prune_low_magnitude_re_lu_  (None, 1, 24, 16)            1         ['prune_low_magnitude_batch_no\n",
      " 19 (PruneLowMagnitude)                                             rmalization_19[0][0]']        \n",
      "                                                                                                  \n",
      " prune_low_magnitude_conv2d  (None, 1, 24, 64)            2114      ['prune_low_magnitude_re_lu_19\n",
      " _29 (PruneLowMagnitude)                                            [0][0]']                      \n",
      "                                                                                                  \n",
      " prune_low_magnitude_batch_  (None, 1, 24, 64)            257       ['prune_low_magnitude_conv2d_2\n",
      " normalization_20 (PruneLow                                         9[0][0]']                     \n",
      " Magnitude)                                                                                       \n",
      "                                                                                                  \n",
      " prune_low_magnitude_conv2d  (None, 1, 24, 64)            8258      ['prune_low_magnitude_re_lu_17\n",
      " _26 (PruneLowMagnitude)                                            [0][0]']                      \n",
      "                                                                                                  \n",
      " prune_low_magnitude_add_6   (None, 1, 24, 64)            1         ['prune_low_magnitude_batch_no\n",
      " (PruneLowMagnitude)                                                rmalization_20[0][0]',        \n",
      "                                                                     'prune_low_magnitude_conv2d_2\n",
      "                                                                    6[0][0]']                     \n",
      "                                                                                                  \n",
      " prune_low_magnitude_re_lu_  (None, 1, 24, 64)            1         ['prune_low_magnitude_add_6[0]\n",
      " 20 (PruneLowMagnitude)                                             [0]']                         \n",
      "                                                                                                  \n",
      " prune_low_magnitude_conv2d  (None, 1, 24, 16)            2066      ['prune_low_magnitude_re_lu_20\n",
      " _31 (PruneLowMagnitude)                                            [0][0]']                      \n",
      "                                                                                                  \n",
      " prune_low_magnitude_batch_  (None, 1, 24, 16)            65        ['prune_low_magnitude_conv2d_3\n",
      " normalization_21 (PruneLow                                         1[0][0]']                     \n",
      " Magnitude)                                                                                       \n",
      "                                                                                                  \n",
      " prune_low_magnitude_re_lu_  (None, 1, 24, 16)            1         ['prune_low_magnitude_batch_no\n",
      " 21 (PruneLowMagnitude)                                             rmalization_21[0][0]']        \n",
      "                                                                                                  \n",
      " prune_low_magnitude_conv2d  (None, 1, 24, 16)            1554      ['prune_low_magnitude_re_lu_21\n",
      " _32 (PruneLowMagnitude)                                            [0][0]']                      \n",
      "                                                                                                  \n",
      " prune_low_magnitude_batch_  (None, 1, 24, 16)            65        ['prune_low_magnitude_conv2d_3\n",
      " normalization_22 (PruneLow                                         2[0][0]']                     \n",
      " Magnitude)                                                                                       \n",
      "                                                                                                  \n",
      " prune_low_magnitude_re_lu_  (None, 1, 24, 16)            1         ['prune_low_magnitude_batch_no\n",
      " 22 (PruneLowMagnitude)                                             rmalization_22[0][0]']        \n",
      "                                                                                                  \n",
      " prune_low_magnitude_conv2d  (None, 1, 24, 64)            2114      ['prune_low_magnitude_re_lu_22\n",
      " _33 (PruneLowMagnitude)                                            [0][0]']                      \n",
      "                                                                                                  \n",
      " prune_low_magnitude_batch_  (None, 1, 24, 64)            257       ['prune_low_magnitude_conv2d_3\n",
      " normalization_23 (PruneLow                                         3[0][0]']                     \n",
      " Magnitude)                                                                                       \n",
      "                                                                                                  \n",
      " prune_low_magnitude_conv2d  (None, 1, 24, 64)            8258      ['prune_low_magnitude_re_lu_20\n",
      " _30 (PruneLowMagnitude)                                            [0][0]']                      \n",
      "                                                                                                  \n",
      " prune_low_magnitude_add_7   (None, 1, 24, 64)            1         ['prune_low_magnitude_batch_no\n",
      " (PruneLowMagnitude)                                                rmalization_23[0][0]',        \n",
      "                                                                     'prune_low_magnitude_conv2d_3\n",
      "                                                                    0[0][0]']                     \n",
      "                                                                                                  \n",
      " prune_low_magnitude_re_lu_  (None, 1, 24, 64)            1         ['prune_low_magnitude_add_7[0]\n",
      " 23 (PruneLowMagnitude)                                             [0]']                         \n",
      "                                                                                                  \n",
      " prune_low_magnitude_averag  (None, 1, 12, 64)            1         ['prune_low_magnitude_re_lu_23\n",
      " e_pooling2d_1 (PruneLowMag                                         [0][0]']                      \n",
      " nitude)                                                                                          \n",
      "                                                                                                  \n",
      " prune_low_magnitude_flatte  (None, 768)                  1         ['prune_low_magnitude_average_\n",
      " n_1 (PruneLowMagnitude)                                            pooling2d_1[0][0]']           \n",
      "                                                                                                  \n",
      " prune_low_magnitude_dense_  (None, 2)                    3076      ['prune_low_magnitude_flatten_\n",
      " 1 (PruneLowMagnitude)                                              1[0][0]']                     \n",
      "                                                                                                  \n",
      "==================================================================================================\n",
      "Total params: 64134 (250.72 KB)\n",
      "Trainable params: 32386 (126.51 KB)\n",
      "Non-trainable params: 31748 (124.21 KB)\n",
      "__________________________________________________________________________________________________\n"
     ]
    }
   ],
   "source": [
    "\n",
    "\n",
    "# Unstrucutred pruning with constant sparsity\n",
    "pruning_params = {\n",
    "        'pruning_schedule': tfmot.sparsity.keras.ConstantSparsity(0.5, begin_step=2000, frequency=100),\n",
    "}\n",
    "\n",
    "# Create a pruning model\n",
    "pruned_model_unstructured = tfmot.sparsity.keras.prune_low_magnitude(TinyFallNet, **pruning_params)\n",
    "\n",
    "# `prune_low_magnitude` requires a recompile.\n",
    "pruned_model_unstructured.compile(optimizer=keras.optimizers.Adam(learning_rate=learning_rate), \n",
    "                loss='categorical_crossentropy',\n",
    "                #loss=keras.losses.SparseCategoricalCrossentropy(from_logits=True),\n",
    "                metrics=['accuracy'])\n",
    "\n",
    "pruned_model_unstructured.summary()"
   ]
  },
  {
   "cell_type": "code",
   "execution_count": 90,
   "metadata": {},
   "outputs": [
    {
     "name": "stdout",
     "output_type": "stream",
     "text": [
      "Epoch 1/50\n",
      "256/256 [==============================] - 16s 20ms/step - loss: 0.3429 - accuracy: 0.9328 - val_loss: 0.2909 - val_accuracy: 0.9056 - lr: 5.0000e-04\n",
      "Epoch 2/50\n",
      "256/256 [==============================] - 4s 14ms/step - loss: 0.2498 - accuracy: 0.9465 - val_loss: 0.1401 - val_accuracy: 0.9582 - lr: 5.0000e-04\n",
      "Epoch 3/50\n",
      "256/256 [==============================] - 4s 14ms/step - loss: 0.2592 - accuracy: 0.9492 - val_loss: 0.1488 - val_accuracy: 0.9528 - lr: 5.0000e-04\n",
      "Epoch 4/50\n",
      "256/256 [==============================] - 3s 14ms/step - loss: 0.1760 - accuracy: 0.9595 - val_loss: 0.1379 - val_accuracy: 0.9530 - lr: 5.0000e-04\n",
      "Epoch 5/50\n",
      "256/256 [==============================] - 3s 14ms/step - loss: 0.2127 - accuracy: 0.9563 - val_loss: 0.2339 - val_accuracy: 0.9330 - lr: 5.0000e-04\n",
      "Epoch 6/50\n",
      "256/256 [==============================] - 4s 15ms/step - loss: 0.1627 - accuracy: 0.9643 - val_loss: 0.1100 - val_accuracy: 0.9704 - lr: 5.0000e-04\n",
      "Epoch 7/50\n",
      "256/256 [==============================] - 3s 14ms/step - loss: 0.2230 - accuracy: 0.9572 - val_loss: 0.2280 - val_accuracy: 0.9185 - lr: 5.0000e-04\n",
      "Epoch 8/50\n",
      "256/256 [==============================] - 4s 15ms/step - loss: 0.2559 - accuracy: 0.9475 - val_loss: 0.1364 - val_accuracy: 0.9606 - lr: 5.0000e-04\n",
      "Epoch 9/50\n",
      "256/256 [==============================] - 4s 15ms/step - loss: 0.1480 - accuracy: 0.9656 - val_loss: 0.1890 - val_accuracy: 0.9322 - lr: 5.0000e-04\n",
      "Epoch 10/50\n",
      "256/256 [==============================] - 4s 14ms/step - loss: 0.1226 - accuracy: 0.9728 - val_loss: 0.1040 - val_accuracy: 0.9694 - lr: 5.0000e-04\n",
      "Epoch 11/50\n",
      "256/256 [==============================] - 3s 13ms/step - loss: 0.1027 - accuracy: 0.9742 - val_loss: 0.1058 - val_accuracy: 0.9672 - lr: 5.0000e-04\n",
      "Epoch 12/50\n",
      "256/256 [==============================] - 4s 14ms/step - loss: 0.0960 - accuracy: 0.9783 - val_loss: 0.1261 - val_accuracy: 0.9560 - lr: 5.0000e-04\n",
      "Epoch 13/50\n",
      "256/256 [==============================] - 4s 14ms/step - loss: 0.0819 - accuracy: 0.9806 - val_loss: 0.0869 - val_accuracy: 0.9748 - lr: 5.0000e-04\n",
      "Epoch 14/50\n",
      "256/256 [==============================] - 4s 15ms/step - loss: 0.0757 - accuracy: 0.9829 - val_loss: 0.0973 - val_accuracy: 0.9706 - lr: 5.0000e-04\n",
      "Epoch 15/50\n",
      "256/256 [==============================] - 4s 15ms/step - loss: 0.0593 - accuracy: 0.9859 - val_loss: 0.0764 - val_accuracy: 0.9807 - lr: 5.0000e-04\n",
      "Epoch 16/50\n",
      "256/256 [==============================] - 4s 15ms/step - loss: 0.1284 - accuracy: 0.9741 - val_loss: 0.0994 - val_accuracy: 0.9770 - lr: 5.0000e-04\n",
      "Epoch 17/50\n",
      "256/256 [==============================] - 4s 15ms/step - loss: 0.0984 - accuracy: 0.9794 - val_loss: 0.1222 - val_accuracy: 0.9750 - lr: 5.0000e-04\n",
      "Epoch 18/50\n",
      "256/256 [==============================] - 4s 16ms/step - loss: 0.0803 - accuracy: 0.9807 - val_loss: 0.0726 - val_accuracy: 0.9814 - lr: 5.0000e-04\n",
      "Epoch 19/50\n",
      "256/256 [==============================] - 4s 15ms/step - loss: 0.0538 - accuracy: 0.9876 - val_loss: 0.0933 - val_accuracy: 0.9716 - lr: 5.0000e-04\n",
      "Epoch 20/50\n",
      "256/256 [==============================] - 4s 15ms/step - loss: 0.0622 - accuracy: 0.9847 - val_loss: 0.0783 - val_accuracy: 0.9831 - lr: 5.0000e-04\n",
      "Epoch 21/50\n",
      "256/256 [==============================] - 4s 15ms/step - loss: 0.0500 - accuracy: 0.9889 - val_loss: 0.0843 - val_accuracy: 0.9807 - lr: 5.0000e-04\n",
      "Epoch 22/50\n",
      "256/256 [==============================] - 4s 15ms/step - loss: 0.0472 - accuracy: 0.9894 - val_loss: 0.0865 - val_accuracy: 0.9797 - lr: 5.0000e-04\n",
      "Epoch 23/50\n",
      "253/256 [============================>.] - ETA: 0s - loss: 0.0624 - accuracy: 0.9862\n",
      "Epoch 23: ReduceLROnPlateau reducing learning rate to 5.0000002374872565e-05.\n",
      "256/256 [==============================] - 4s 15ms/step - loss: 0.0620 - accuracy: 0.9864 - val_loss: 0.0862 - val_accuracy: 0.9826 - lr: 5.0000e-04\n",
      "Epoch 23: early stopping\n"
     ]
    },
    {
     "data": {
      "text/plain": [
       "<keras.src.callbacks.History at 0x299128d8970>"
      ]
     },
     "execution_count": 90,
     "metadata": {},
     "output_type": "execute_result"
    }
   ],
   "source": [
    "pruned_model_unstructured.fit(X_train, y_train, \n",
    "            validation_data=(X_val, y_val), \n",
    "            epochs=epochs, \n",
    "            batch_size=batch_size,\n",
    "            callbacks=[es, lrs, pruning_callbacks.UpdatePruningStep()],\n",
    "            class_weight=class_weight) "
   ]
  },
  {
   "cell_type": "code",
   "execution_count": 91,
   "metadata": {},
   "outputs": [
    {
     "name": "stdout",
     "output_type": "stream",
     "text": [
      "Pruned model loss:  1.0858575105667114\n",
      "Pruned model accuracy:  0.8681318759918213\n",
      "Full-precision model accuracy:  0.9175824175824175\n"
     ]
    }
   ],
   "source": [
    "# evaluate the model on the test set\n",
    "pruned_loss_unstructured, pruned_acc_unstructured = pruned_model_unstructured.evaluate(X_test, y_test, verbose=0)\n",
    "print('Pruned model loss: ', pruned_loss_unstructured)\n",
    "print('Pruned model accuracy: ', pruned_acc_unstructured)\n",
    "print('Full-precision model accuracy: ', accuracy_fp)"
   ]
  },
  {
   "cell_type": "code",
   "execution_count": 92,
   "metadata": {},
   "outputs": [],
   "source": [
    "# Conversion to TF Lite\n",
    "pruned_model_unstructured_for_export = tfmot.sparsity.keras.strip_pruning(pruned_model_unstructured)\n",
    "\n",
    "# save the model\n",
    "pruned_model_unstructured.save('saved_models/TinyFallNet_pruned_unstructured.keras')  # The file needs to end with the .keras extension\n",
    "#print('Saved pruned Keras model to:', os.path.abspath(pruned_keras_file_unstructured))"
   ]
  },
  {
   "cell_type": "code",
   "execution_count": 93,
   "metadata": {},
   "outputs": [
    {
     "name": "stdout",
     "output_type": "stream",
     "text": [
      "INFO:tensorflow:Assets written to: C:\\Users\\10744\\AppData\\Local\\Temp\\tmpby9otlry\\assets\n"
     ]
    },
    {
     "name": "stderr",
     "output_type": "stream",
     "text": [
      "INFO:tensorflow:Assets written to: C:\\Users\\10744\\AppData\\Local\\Temp\\tmpby9otlry\\assets\n"
     ]
    },
    {
     "name": "stdout",
     "output_type": "stream",
     "text": [
      "Saved pruned TFLite model to: g:\\MLonMCU\\Fall_Detection\\saved_models\\TinyFallNet_pruned_unstructured.tflite\n"
     ]
    }
   ],
   "source": [
    "# Convert the model\n",
    "converter = tf.lite.TFLiteConverter.from_keras_model(pruned_model_unstructured_for_export)\n",
    "pruned_tflite_model_unstructured = converter.convert()\n",
    "\n",
    "# Save the model\n",
    "pruned_tflite_file_unstructured = 'saved_models/TinyFallNet_pruned_unstructured.tflite'\n",
    "\n",
    "with open(pruned_tflite_file_unstructured, 'wb') as f:\n",
    "    f.write(pruned_tflite_model_unstructured)\n",
    "\n",
    "print('Saved pruned TFLite model to:', os.path.abspath(pruned_tflite_file_unstructured))"
   ]
  },
  {
   "cell_type": "code",
   "execution_count": 94,
   "metadata": {},
   "outputs": [
    {
     "name": "stdout",
     "output_type": "stream",
     "text": [
      "Size of the unstructured pruned model:  78129\n",
      "Size of the full-precision model:  122614\n",
      "The achieved compression ratio is 1.00x\n"
     ]
    }
   ],
   "source": [
    "\n",
    "# compare the size of the pruned model and the full-precision model\n",
    "print('Size of the unstructured pruned model: ', get_gzipped_model_size(pruned_tflite_file_unstructured))\n",
    "print('Size of the full-precision model: ', get_gzipped_model_size('saved_models/TinyFallNet.tflite'))\n",
    "print(\"The achieved compression ratio is %.2fx\" % (get_gzipped_model_size('saved_models/TinyFallNet_pruned_unstructured.tflite') / get_gzipped_model_size(pruned_tflite_file_unstructured)))\n"
   ]
  },
  {
   "cell_type": "code",
   "execution_count": 95,
   "metadata": {},
   "outputs": [
    {
     "name": "stdout",
     "output_type": "stream",
     "text": [
      "Model: \"TinyFallNet\"\n",
      "__________________________________________________________________________________________________\n",
      " Layer (type)                Output Shape                 Param #   Connected to                  \n",
      "==================================================================================================\n",
      " input_2 (InputLayer)        [(None, 50, 9)]              0         []                            \n",
      "                                                                                                  \n",
      " quantize_layer_5 (Quantize  (None, 50, 9)                3         ['input_2[0][0]']             \n",
      " Layer)                                                                                           \n",
      "                                                                                                  \n",
      " quant_reshape_1 (QuantizeW  (None, 1, 50, 9)             1         ['quantize_layer_5[0][0]']    \n",
      " rapperV2)                                                                                        \n",
      "                                                                                                  \n",
      " quant_conv2d_17 (QuantizeW  (None, 1, 48, 64)            1923      ['quant_reshape_1[0][0]']     \n",
      " rapperV2)                                                                                        \n",
      "                                                                                                  \n",
      " quant_max_pooling2d_1 (Qua  (None, 1, 24, 64)            1         ['quant_conv2d_17[0][0]']     \n",
      " ntizeWrapperV2)                                                                                  \n",
      "                                                                                                  \n",
      " quant_conv2d_19 (QuantizeW  (None, 1, 24, 16)            1073      ['quant_max_pooling2d_1[0][0]'\n",
      " rapperV2)                                                          ]                             \n",
      "                                                                                                  \n",
      " quant_batch_normalization_  (None, 1, 24, 16)            65        ['quant_conv2d_19[0][0]']     \n",
      " 12 (QuantizeWrapperV2)                                                                           \n",
      "                                                                                                  \n",
      " quant_re_lu_12 (QuantizeWr  (None, 1, 24, 16)            3         ['quant_batch_normalization_12\n",
      " apperV2)                                                           [0][0]']                      \n",
      "                                                                                                  \n",
      " quant_conv2d_20 (QuantizeW  (None, 1, 24, 16)            817       ['quant_re_lu_12[0][0]']      \n",
      " rapperV2)                                                                                        \n",
      "                                                                                                  \n",
      " quant_batch_normalization_  (None, 1, 24, 16)            65        ['quant_conv2d_20[0][0]']     \n",
      " 13 (QuantizeWrapperV2)                                                                           \n",
      "                                                                                                  \n",
      " quant_re_lu_13 (QuantizeWr  (None, 1, 24, 16)            3         ['quant_batch_normalization_13\n",
      " apperV2)                                                           [0][0]']                      \n",
      "                                                                                                  \n",
      " quant_conv2d_21 (QuantizeW  (None, 1, 24, 64)            1217      ['quant_re_lu_13[0][0]']      \n",
      " rapperV2)                                                                                        \n",
      "                                                                                                  \n",
      " quant_batch_normalization_  (None, 1, 24, 64)            259       ['quant_conv2d_21[0][0]']     \n",
      " 14 (QuantizeWrapperV2)                                                                           \n",
      "                                                                                                  \n",
      " quant_conv2d_18 (QuantizeW  (None, 1, 24, 64)            4291      ['quant_max_pooling2d_1[0][0]'\n",
      " rapperV2)                                                          ]                             \n",
      "                                                                                                  \n",
      " quant_add_4 (QuantizeWrapp  (None, 1, 24, 64)            1         ['quant_batch_normalization_14\n",
      " erV2)                                                              [0][0]',                      \n",
      "                                                                     'quant_conv2d_18[0][0]']     \n",
      "                                                                                                  \n",
      " quant_re_lu_14 (QuantizeWr  (None, 1, 24, 64)            3         ['quant_add_4[0][0]']         \n",
      " apperV2)                                                                                         \n",
      "                                                                                                  \n",
      " quant_conv2d_23 (QuantizeW  (None, 1, 24, 16)            1073      ['quant_re_lu_14[0][0]']      \n",
      " rapperV2)                                                                                        \n",
      "                                                                                                  \n",
      " quant_batch_normalization_  (None, 1, 24, 16)            65        ['quant_conv2d_23[0][0]']     \n",
      " 15 (QuantizeWrapperV2)                                                                           \n",
      "                                                                                                  \n",
      " quant_re_lu_15 (QuantizeWr  (None, 1, 24, 16)            3         ['quant_batch_normalization_15\n",
      " apperV2)                                                           [0][0]']                      \n",
      "                                                                                                  \n",
      " quant_conv2d_24 (QuantizeW  (None, 1, 24, 16)            817       ['quant_re_lu_15[0][0]']      \n",
      " rapperV2)                                                                                        \n",
      "                                                                                                  \n",
      " quant_batch_normalization_  (None, 1, 24, 16)            65        ['quant_conv2d_24[0][0]']     \n",
      " 16 (QuantizeWrapperV2)                                                                           \n",
      "                                                                                                  \n",
      " quant_re_lu_16 (QuantizeWr  (None, 1, 24, 16)            3         ['quant_batch_normalization_16\n",
      " apperV2)                                                           [0][0]']                      \n",
      "                                                                                                  \n",
      " quant_conv2d_25 (QuantizeW  (None, 1, 24, 64)            1217      ['quant_re_lu_16[0][0]']      \n",
      " rapperV2)                                                                                        \n",
      "                                                                                                  \n",
      " quant_batch_normalization_  (None, 1, 24, 64)            259       ['quant_conv2d_25[0][0]']     \n",
      " 17 (QuantizeWrapperV2)                                                                           \n",
      "                                                                                                  \n",
      " quant_conv2d_22 (QuantizeW  (None, 1, 24, 64)            4291      ['quant_re_lu_14[0][0]']      \n",
      " rapperV2)                                                                                        \n",
      "                                                                                                  \n",
      " quant_add_5 (QuantizeWrapp  (None, 1, 24, 64)            1         ['quant_batch_normalization_17\n",
      " erV2)                                                              [0][0]',                      \n",
      "                                                                     'quant_conv2d_22[0][0]']     \n",
      "                                                                                                  \n",
      " quant_re_lu_17 (QuantizeWr  (None, 1, 24, 64)            3         ['quant_add_5[0][0]']         \n",
      " apperV2)                                                                                         \n",
      "                                                                                                  \n",
      " quant_conv2d_27 (QuantizeW  (None, 1, 24, 16)            1073      ['quant_re_lu_17[0][0]']      \n",
      " rapperV2)                                                                                        \n",
      "                                                                                                  \n",
      " quant_batch_normalization_  (None, 1, 24, 16)            65        ['quant_conv2d_27[0][0]']     \n",
      " 18 (QuantizeWrapperV2)                                                                           \n",
      "                                                                                                  \n",
      " quant_re_lu_18 (QuantizeWr  (None, 1, 24, 16)            3         ['quant_batch_normalization_18\n",
      " apperV2)                                                           [0][0]']                      \n",
      "                                                                                                  \n",
      " quant_conv2d_28 (QuantizeW  (None, 1, 24, 16)            817       ['quant_re_lu_18[0][0]']      \n",
      " rapperV2)                                                                                        \n",
      "                                                                                                  \n",
      " quant_batch_normalization_  (None, 1, 24, 16)            65        ['quant_conv2d_28[0][0]']     \n",
      " 19 (QuantizeWrapperV2)                                                                           \n",
      "                                                                                                  \n",
      " quant_re_lu_19 (QuantizeWr  (None, 1, 24, 16)            3         ['quant_batch_normalization_19\n",
      " apperV2)                                                           [0][0]']                      \n",
      "                                                                                                  \n",
      " quant_conv2d_29 (QuantizeW  (None, 1, 24, 64)            1217      ['quant_re_lu_19[0][0]']      \n",
      " rapperV2)                                                                                        \n",
      "                                                                                                  \n",
      " quant_batch_normalization_  (None, 1, 24, 64)            259       ['quant_conv2d_29[0][0]']     \n",
      " 20 (QuantizeWrapperV2)                                                                           \n",
      "                                                                                                  \n",
      " quant_conv2d_26 (QuantizeW  (None, 1, 24, 64)            4291      ['quant_re_lu_17[0][0]']      \n",
      " rapperV2)                                                                                        \n",
      "                                                                                                  \n",
      " quant_add_6 (QuantizeWrapp  (None, 1, 24, 64)            1         ['quant_batch_normalization_20\n",
      " erV2)                                                              [0][0]',                      \n",
      "                                                                     'quant_conv2d_26[0][0]']     \n",
      "                                                                                                  \n",
      " quant_re_lu_20 (QuantizeWr  (None, 1, 24, 64)            3         ['quant_add_6[0][0]']         \n",
      " apperV2)                                                                                         \n",
      "                                                                                                  \n",
      " quant_conv2d_31 (QuantizeW  (None, 1, 24, 16)            1073      ['quant_re_lu_20[0][0]']      \n",
      " rapperV2)                                                                                        \n",
      "                                                                                                  \n",
      " quant_batch_normalization_  (None, 1, 24, 16)            65        ['quant_conv2d_31[0][0]']     \n",
      " 21 (QuantizeWrapperV2)                                                                           \n",
      "                                                                                                  \n",
      " quant_re_lu_21 (QuantizeWr  (None, 1, 24, 16)            3         ['quant_batch_normalization_21\n",
      " apperV2)                                                           [0][0]']                      \n",
      "                                                                                                  \n",
      " quant_conv2d_32 (QuantizeW  (None, 1, 24, 16)            817       ['quant_re_lu_21[0][0]']      \n",
      " rapperV2)                                                                                        \n",
      "                                                                                                  \n",
      " quant_batch_normalization_  (None, 1, 24, 16)            65        ['quant_conv2d_32[0][0]']     \n",
      " 22 (QuantizeWrapperV2)                                                                           \n",
      "                                                                                                  \n",
      " quant_re_lu_22 (QuantizeWr  (None, 1, 24, 16)            3         ['quant_batch_normalization_22\n",
      " apperV2)                                                           [0][0]']                      \n",
      "                                                                                                  \n",
      " quant_conv2d_33 (QuantizeW  (None, 1, 24, 64)            1217      ['quant_re_lu_22[0][0]']      \n",
      " rapperV2)                                                                                        \n",
      "                                                                                                  \n",
      " quant_batch_normalization_  (None, 1, 24, 64)            259       ['quant_conv2d_33[0][0]']     \n",
      " 23 (QuantizeWrapperV2)                                                                           \n",
      "                                                                                                  \n",
      " quant_conv2d_30 (QuantizeW  (None, 1, 24, 64)            4291      ['quant_re_lu_20[0][0]']      \n",
      " rapperV2)                                                                                        \n",
      "                                                                                                  \n",
      " quant_add_7 (QuantizeWrapp  (None, 1, 24, 64)            1         ['quant_batch_normalization_23\n",
      " erV2)                                                              [0][0]',                      \n",
      "                                                                     'quant_conv2d_30[0][0]']     \n",
      "                                                                                                  \n",
      " quant_re_lu_23 (QuantizeWr  (None, 1, 24, 64)            3         ['quant_add_7[0][0]']         \n",
      " apperV2)                                                                                         \n",
      "                                                                                                  \n",
      " quant_average_pooling2d_1   (None, 1, 12, 64)            3         ['quant_re_lu_23[0][0]']      \n",
      " (QuantizeWrapperV2)                                                                              \n",
      "                                                                                                  \n",
      " quant_flatten_1 (QuantizeW  (None, 768)                  1         ['quant_average_pooling2d_1[0]\n",
      " rapperV2)                                                          [0]']                         \n",
      "                                                                                                  \n",
      " quant_dense_1 (QuantizeWra  (None, 2)                    1543      ['quant_flatten_1[0][0]']     \n",
      " pperV2)                                                                                          \n",
      "                                                                                                  \n",
      "==================================================================================================\n",
      "Total params: 34663 (135.40 KB)\n",
      "Trainable params: 32386 (126.51 KB)\n",
      "Non-trainable params: 2277 (8.89 KB)\n",
      "__________________________________________________________________________________________________\n"
     ]
    }
   ],
   "source": [
    "# PQAT\n",
    "quant_aware_annotate_model = tfmot.quantization.keras.quantize_annotate_model(\n",
    "              pruned_model_unstructured_for_export)\n",
    "\n",
    "pruned_qat_model = tfmot.quantization.keras.quantize_apply(quant_aware_annotate_model,\n",
    "                   tfmot.experimental.combine.Default8BitPrunePreserveQuantizeScheme())\n",
    "\n",
    "pruned_qat_model.compile(optimizer=keras.optimizers.Adam(learning_rate=learning_rate), \n",
    "                loss='categorical_crossentropy',\n",
    "                metrics=['accuracy'])\n",
    "\n",
    "pruned_qat_model.summary()"
   ]
  },
  {
   "cell_type": "code",
   "execution_count": 96,
   "metadata": {},
   "outputs": [
    {
     "name": "stdout",
     "output_type": "stream",
     "text": [
      "X_train.shape:  (16344, 50, 9)\n",
      "y_train.shape:  (16344, 2)\n",
      "64\n",
      "Epoch 1/50\n",
      "256/256 [==============================] - 11s 22ms/step - loss: 2.1640 - accuracy: 0.8405 - val_loss: 0.3312 - val_accuracy: 0.8527 - lr: 5.0000e-04\n",
      "Epoch 2/50\n",
      "256/256 [==============================] - 5s 19ms/step - loss: 0.4048 - accuracy: 0.9066 - val_loss: 0.1625 - val_accuracy: 0.9423 - lr: 5.0000e-04\n",
      "Epoch 3/50\n",
      "256/256 [==============================] - 5s 18ms/step - loss: 0.2464 - accuracy: 0.9407 - val_loss: 0.1607 - val_accuracy: 0.9469 - lr: 5.0000e-04\n",
      "Epoch 4/50\n",
      "256/256 [==============================] - 5s 18ms/step - loss: 0.1448 - accuracy: 0.9658 - val_loss: 0.1208 - val_accuracy: 0.9633 - lr: 5.0000e-04\n",
      "Epoch 5/50\n",
      "256/256 [==============================] - 4s 17ms/step - loss: 0.1349 - accuracy: 0.9700 - val_loss: 0.0947 - val_accuracy: 0.9724 - lr: 5.0000e-04\n",
      "Epoch 6/50\n",
      "256/256 [==============================] - 4s 17ms/step - loss: 0.1032 - accuracy: 0.9742 - val_loss: 0.0827 - val_accuracy: 0.9763 - lr: 5.0000e-04\n",
      "Epoch 7/50\n",
      "256/256 [==============================] - 4s 17ms/step - loss: 0.0646 - accuracy: 0.9843 - val_loss: 0.0821 - val_accuracy: 0.9765 - lr: 5.0000e-04\n",
      "Epoch 8/50\n",
      "256/256 [==============================] - 4s 17ms/step - loss: 0.0502 - accuracy: 0.9879 - val_loss: 0.0741 - val_accuracy: 0.9797 - lr: 5.0000e-04\n",
      "Epoch 9/50\n",
      "256/256 [==============================] - 4s 17ms/step - loss: 0.0569 - accuracy: 0.9868 - val_loss: 0.0846 - val_accuracy: 0.9770 - lr: 5.0000e-04\n",
      "Epoch 10/50\n",
      "256/256 [==============================] - 5s 18ms/step - loss: 0.0523 - accuracy: 0.9884 - val_loss: 0.0712 - val_accuracy: 0.9821 - lr: 5.0000e-04\n",
      "Epoch 11/50\n",
      "256/256 [==============================] - 5s 18ms/step - loss: 0.0390 - accuracy: 0.9916 - val_loss: 0.0753 - val_accuracy: 0.9807 - lr: 5.0000e-04\n",
      "Epoch 12/50\n",
      "256/256 [==============================] - 5s 18ms/step - loss: 0.0344 - accuracy: 0.9918 - val_loss: 0.0914 - val_accuracy: 0.9763 - lr: 5.0000e-04\n",
      "Epoch 13/50\n",
      "256/256 [==============================] - 5s 19ms/step - loss: 0.0471 - accuracy: 0.9900 - val_loss: 0.1181 - val_accuracy: 0.9701 - lr: 5.0000e-04\n",
      "Epoch 14/50\n",
      "256/256 [==============================] - 4s 17ms/step - loss: 0.1051 - accuracy: 0.9799 - val_loss: 0.1392 - val_accuracy: 0.9645 - lr: 5.0000e-04\n",
      "Epoch 15/50\n",
      "256/256 [==============================] - ETA: 0s - loss: 0.0842 - accuracy: 0.9845\n",
      "Epoch 15: ReduceLROnPlateau reducing learning rate to 5.0000002374872565e-05.\n",
      "256/256 [==============================] - 5s 18ms/step - loss: 0.0842 - accuracy: 0.9845 - val_loss: 0.1300 - val_accuracy: 0.9684 - lr: 5.0000e-04\n",
      "Epoch 15: early stopping\n"
     ]
    },
    {
     "data": {
      "text/plain": [
       "<keras.src.callbacks.History at 0x2992878a2c0>"
      ]
     },
     "execution_count": 96,
     "metadata": {},
     "output_type": "execute_result"
    }
   ],
   "source": [
    "from tensorflow_model_optimization.python.core.sparsity.keras import pruning_callbacks\n",
    "print('X_train.shape: ', X_train.shape) # (16362, 50, 9)\n",
    "print('y_train.shape: ', y_train.shape) # (16362, 2)\n",
    "print(batch_size)\n",
    "pruned_qat_model.fit(X_train, y_train, \n",
    "            validation_data=(X_val, y_val), \n",
    "            epochs=epochs, \n",
    "            batch_size=batch_size,\n",
    "            callbacks=[es, lrs, pruning_callbacks.UpdatePruningStep()],\n",
    "            class_weight=class_weight) \n"
   ]
  },
  {
   "cell_type": "code",
   "execution_count": 97,
   "metadata": {},
   "outputs": [
    {
     "name": "stdout",
     "output_type": "stream",
     "text": [
      "Pruned QAT model loss:  0.6360446810722351\n",
      "Pruned QAT model accuracy:  0.8846153616905212\n",
      "Full-precision model accuracy:  0.9175824175824175\n"
     ]
    }
   ],
   "source": [
    "# evaluate the model on the test set\n",
    "pruned_qat_loss, pruned_qat_acc = pruned_qat_model.evaluate(X_test, y_test, verbose=0)\n",
    "print('Pruned QAT model loss: ', pruned_qat_loss)\n",
    "print('Pruned QAT model accuracy: ', pruned_qat_acc)\n",
    "print('Full-precision model accuracy: ', accuracy_fp)\n",
    "\n"
   ]
  },
  {
   "cell_type": "code",
   "execution_count": null,
   "metadata": {},
   "outputs": [],
   "source": []
  },
  {
   "cell_type": "code",
   "execution_count": 98,
   "metadata": {},
   "outputs": [
    {
     "name": "stdout",
     "output_type": "stream",
     "text": [
      "INFO:tensorflow:Assets written to: C:\\Users\\10744\\AppData\\Local\\Temp\\tmpj6hgari5\\assets\n"
     ]
    },
    {
     "name": "stderr",
     "output_type": "stream",
     "text": [
      "INFO:tensorflow:Assets written to: C:\\Users\\10744\\AppData\\Local\\Temp\\tmpj6hgari5\\assets\n",
      "g:\\python\\lib\\site-packages\\tensorflow\\lite\\python\\convert.py:953: UserWarning: Statistics for quantized inputs were expected, but not specified; continuing anyway.\n",
      "  warnings.warn(\n"
     ]
    },
    {
     "data": {
      "text/plain": [
       "70216"
      ]
     },
     "execution_count": 98,
     "metadata": {},
     "output_type": "execute_result"
    }
   ],
   "source": [
    "# Convert the model\n",
    "converter = tf.lite.TFLiteConverter.from_keras_model(pruned_qat_model)\n",
    "converter.optimizations = [tf.lite.Optimize.DEFAULT]\n",
    "pruned_qat_tflite_model = converter.convert()\n",
    "\n",
    "# Save the model\n",
    "open(\"saved_models/TinyFallNet_pruned_qat.tflite\", \"wb\").write(pruned_qat_tflite_model)\n",
    "\n",
    "# write TFLite model to a C source (or header) file\n",
    "#c_model_name = 'pruned_qat_fmnist'\n",
    "\n",
    "#with open('cfiles/' + c_model_name + '.h', 'w') as file:\n",
    "#    file.write(hex_to_c_array(pruned_qat_tflite_model, c_model_name))\n",
    "\n"
   ]
  },
  {
   "cell_type": "code",
   "execution_count": 100,
   "metadata": {},
   "outputs": [
    {
     "name": "stdout",
     "output_type": "stream",
     "text": [
      "input:  {'name': 'serving_default_input_2:0', 'index': 0, 'shape': array([ 1, 50,  9]), 'shape_signature': array([-1, 50,  9]), 'dtype': <class 'numpy.float32'>, 'quantization': (0.0, 0), 'quantization_parameters': {'scales': array([], dtype=float32), 'zero_points': array([], dtype=int32), 'quantized_dimension': 0}, 'sparsity_parameters': {}}\n",
      "output:  {'name': 'StatefulPartitionedCall:0', 'index': 75, 'shape': array([1, 2]), 'shape_signature': array([-1,  2]), 'dtype': <class 'numpy.float32'>, 'quantization': (0.0, 0), 'quantization_parameters': {'scales': array([], dtype=float32), 'zero_points': array([], dtype=int32), 'quantized_dimension': 0}, 'sparsity_parameters': {}}\n",
      "Evaluated on  0 .\n",
      "Evaluated on  100 .\n",
      "[[85  4]\n",
      " [16 77]]\n",
      "Confusion matrix, without normalization\n",
      "[[85  4]\n",
      " [16 77]]\n",
      "f1_score:  0.8850574712643678\n"
     ]
    },
    {
     "data": {
      "image/png": "[encoded data removed]",
      "text/plain": [
       "<Figure size 640x480 with 2 Axes>"
      ]
     },
     "metadata": {},
     "output_type": "display_data"
    }
   ],
   "source": [
    "# test the quantized model\n",
    "X_test_int8 = X_test.astype('float32')\n",
    "y_test_int8 = y_test.astype('int8')\n",
    "# Load the model into an interpreter\n",
    "interpreter = tf.lite.Interpreter(model_content= pruned_qat_tflite_model)\n",
    "# Allocate memory for the model's input Tensor(s)\n",
    "interpreter.allocate_tensors()\n",
    "# Get the model input and output details\n",
    "input_details = interpreter.get_input_details()[0]\n",
    "output_details = interpreter.get_output_details()[0]\n",
    "print(\"input: \", input_details)\n",
    "print(\"output: \", output_details)\n",
    "predictions = np.zeros(X_test.shape[0])\n",
    "for i, test_data in enumerate(X_test_int8):\n",
    "    test_data = np.expand_dims(test_data, axis=0)\n",
    "    #print(test_data.shape)\n",
    "    interpreter.set_tensor(input_details[\"index\"], test_data)\n",
    "    interpreter.invoke()\n",
    "    output = interpreter.get_tensor(output_details[\"index\"])[0]\n",
    "    if i%100 == 0:\n",
    "        # print(\"Evaluated on %d images.\" % test_image_index)\n",
    "        print('Evaluated on ', i, '.')\n",
    "    predictions[i] = output.argmax()\n",
    "\n",
    "gt = np.argmax(y_test_int8, axis=-1)\n",
    "\n",
    "# Compute the confusion matrix\n",
    "cm = confusion_matrix(gt, predictions)\n",
    "\n",
    "print(cm)\n",
    "# plot the confusion matrix\n",
    "plot_confusion_matrix(cm, classes=['Not Fall', 'Fall'], normalize=False, title='Confusion Matrix')\n",
    "\n",
    "# get accuracy\n",
    "#accuracy_fp = (cm[0][0] + cm[1][1]) / np.sum(cm)\n",
    "#print('accuracy: ', accuracy_fp)\n",
    "\n",
    "f1_score = 2 * cm[1][1] / (2 * cm[1][1] + cm[0][1] + cm[1][0])\n",
    "print('f1_score: ', f1_score)"
   ]
  },
  {
   "cell_type": "code",
   "execution_count": 99,
   "metadata": {},
   "outputs": [
    {
     "name": "stdout",
     "output_type": "stream",
     "text": [
      "Size of the pruned QAT model:  33839\n",
      "Size of th QAT model:  42738\n",
      "Size of the full-precision model:  122614\n",
      "The achieved compression ratio is 3.62x\n"
     ]
    }
   ],
   "source": [
    "# compare the size of the pruned model and the full-precision model\n",
    "print('Size of the pruned QAT model: ', get_gzipped_model_size('saved_models/TinyFallNet_pruned_qat.tflite'))\n",
    "print('Size of th QAT model: ', get_gzipped_model_size( 'saved_models/TinyFallNet_quant_int8_qat.tflite'))\n",
    "print('Size of the full-precision model: ', get_gzipped_model_size('saved_models/TinyFallNet.tflite'))\n",
    "print(\"The achieved compression ratio is %.2fx\" % (get_gzipped_model_size('saved_models/TinyFallNet.tflite') / get_gzipped_model_size('saved_models/TinyFallNet_pruned_qat.tflite')))"
   ]
  },
  {
   "cell_type": "code",
   "execution_count": null,
   "metadata": {},
   "outputs": [],
   "source": []
  }
 ],
 "metadata": {
  "kernelspec": {
   "display_name": "fall_detection",
   "language": "python",
   "name": "python3"
  },
  "language_info": {
   "codemirror_mode": {
    "name": "ipython",
    "version": 3
   },
   "file_extension": ".py",
   "mimetype": "text/x-python",
   "name": "python",
   "nbconvert_exporter": "python",
   "pygments_lexer": "ipython3",
   "version": "3.10.7"
  }
 },
 "nbformat": 4,
 "nbformat_minor": 2
}

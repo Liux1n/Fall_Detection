{
 "cells": [
  {
   "cell_type": "code",
   "execution_count": 1,
   "metadata": {},
   "outputs": [
    {
     "name": "stdout",
     "output_type": "stream",
     "text": [
      "WARNING:tensorflow:From g:\\python\\lib\\site-packages\\keras\\src\\losses.py:2976: The name tf.losses.sparse_softmax_cross_entropy is deprecated. Please use tf.compat.v1.losses.sparse_softmax_cross_entropy instead.\n",
      "\n"
     ]
    }
   ],
   "source": [
    "import os\n",
    "from numpy import genfromtxt\n",
    "import numpy as np\n",
    "import pandas as pd \n",
    "from sklearn.model_selection import train_test_split\n",
    "from scipy.signal import resample\n",
    "\n",
    "from data_organizer_Kfall import DataOrganizer\n",
    "import torch\n",
    "#from torch import nn\n",
    "#from torch.utils.data import DataLoader\n",
    "#from torch.utils.data import TensorDataset, DataLoader\n",
    "#from torch.optim.lr_scheduler import ReduceLROnPlateau\n",
    "import matplotlib.pyplot as plt\n",
    "from sklearn.metrics import confusion_matrix\n",
    "from utils import train, test, plot_confusion_matrix\n",
    "import tensorflow as tf\n",
    "import keras\n",
    "from tensorflow.keras.models import Sequential\n",
    "from tensorflow.keras.layers import Conv1D, BatchNormalization, ReLU, MaxPooling1D, LSTM, Dropout, Dense\n",
    "from keras.utils import to_categorical\n",
    "from tensorflow.keras.callbacks import EarlyStopping\n",
    "# import flatten\n",
    "from tensorflow.keras.layers import Flatten, Softmax\n",
    "from tensorflow.keras.models import load_model\n",
    "from keras import models, layers\n",
    "from keras.utils import to_categorical\n",
    "import tensorflow_model_optimization as tfmot\n",
    "from sklearn.preprocessing import StandardScaler\n"
   ]
  },
  {
   "cell_type": "markdown",
   "metadata": {},
   "source": [
    "# Data Loader"
   ]
  },
  {
   "cell_type": "code",
   "execution_count": 2,
   "metadata": {},
   "outputs": [
    {
     "name": "stdout",
     "output_type": "stream",
     "text": [
      "B_size 16005\n",
      "A_size 339\n",
      "Using cuda device\n"
     ]
    }
   ],
   "source": [
    "X_train = np.load('data/X_train.npy')\n",
    "y_train = np.load('data/y_train.npy')\n",
    "X_test = np.load('data/X_test.npy')\n",
    "y_test = np.load('data/y_test.npy')\n",
    "X_val = np.load('data/X_val.npy')\n",
    "y_val = np.load('data/y_val.npy')\n",
    "\n",
    "# B_size = (label == 0).sum()\n",
    "#A_size = (label == 1).sum()\n",
    "B_size = y_train[y_train == 0].shape[0]\n",
    "A_size = y_train[y_train == 1].shape[0]\n",
    "print(\"B_size\", B_size)\n",
    "print(\"A_size\", A_size)\n",
    "\n",
    "device = (\n",
    "     \"cuda\"\n",
    "     if torch.cuda.is_available()\n",
    "     else \"cpu\"\n",
    " )\n",
    "#device = \"cpu\"\n",
    "print(f\"Using {device} device\")\n"
   ]
  },
  {
   "cell_type": "markdown",
   "metadata": {},
   "source": [
    "# Hyperparameters"
   ]
  },
  {
   "cell_type": "code",
   "execution_count": 3,
   "metadata": {},
   "outputs": [],
   "source": [
    "# Hyperparameters\n",
    "learning_rate = 5e-4\n",
    "batch_size = 64\n",
    "epochs = 50\n",
    "patience = 5"
   ]
  },
  {
   "cell_type": "markdown",
   "metadata": {},
   "source": [
    "# ConvLSTM"
   ]
  },
  {
   "cell_type": "code",
   "execution_count": 4,
   "metadata": {},
   "outputs": [],
   "source": [
    "# Define the Conv1D-3 Block as a function to avoid repetition\n",
    "def conv1d_3_block(filters, kernel_size, pool_size, pool_strides):\n",
    "    block = Sequential([\n",
    "        Conv1D(filters=filters, kernel_size=kernel_size,padding='same'),\n",
    "        Conv1D(filters=filters, kernel_size=kernel_size, padding='same'),\n",
    "        Conv1D(filters=filters, kernel_size=kernel_size, padding='same'),\n",
    "        ReLU(),\n",
    "        BatchNormalization(),\n",
    "        MaxPooling1D(pool_size=pool_size, strides=pool_strides)\n",
    "    ])\n",
    "    return block"
   ]
  },
  {
   "cell_type": "code",
   "execution_count": 5,
   "metadata": {},
   "outputs": [
    {
     "name": "stdout",
     "output_type": "stream",
     "text": [
      "WARNING:tensorflow:From g:\\python\\lib\\site-packages\\keras\\src\\backend.py:873: The name tf.get_default_graph is deprecated. Please use tf.compat.v1.get_default_graph instead.\n",
      "\n"
     ]
    }
   ],
   "source": [
    "ConvLSTM = Sequential([\n",
    "    # The Conv1D-3 Block is repeated three times\n",
    "    conv1d_3_block(filters=64, kernel_size=3, pool_size=2, pool_strides=2),\n",
    "    conv1d_3_block(filters=64, kernel_size=3, pool_size=2, pool_strides=2),\n",
    "    conv1d_3_block(filters=64, kernel_size=3, pool_size=2, pool_strides=2),\n",
    "    # Followed by two LSTM layers\n",
    "    LSTM(64, return_sequences=True),\n",
    "    Dropout(0.5),\n",
    "    LSTM(64),\n",
    "    Dropout(0.5),\n",
    "    \n",
    "    # Flatten the output to feed into the Dense layers\n",
    "    Flatten(),\n",
    "    # Two Dense layers with ReLU activation\n",
    "    Dense(32, activation='relu'),\n",
    "    Dense(2, activation='softmax'),\n",
    "])"
   ]
  },
  {
   "cell_type": "code",
   "execution_count": null,
   "metadata": {},
   "outputs": [],
   "source": [
    "'''\n",
    "ConvLSTM = Sequential([\n",
    "    # Conv1\n",
    "    Conv1D(filters=64, kernel_size=3, padding='same', input_shape=(50, 9)),\n",
    "    BatchNormalization(),\n",
    "    ReLU(),\n",
    "    MaxPooling1D(2),\n",
    "\n",
    "    # Conv2\n",
    "    Conv1D(filters=64, kernel_size=3, padding='same'),\n",
    "    BatchNormalization(),\n",
    "    ReLU(),\n",
    "    MaxPooling1D(2),\n",
    "\n",
    "    # Conv3\n",
    "    Conv1D(filters=64, kernel_size=3, padding='same'),\n",
    "    BatchNormalization(),\n",
    "    ReLU(),\n",
    "    MaxPooling1D(2),\n",
    "\n",
    "    # LSTM layers\n",
    "    LSTM(64, return_sequences=True),\n",
    "    Dropout(0.5),\n",
    "    LSTM(64),\n",
    "    Dropout(0.5),\n",
    "    # flatten\n",
    "    Flatten(),\n",
    "    # Fully connected layer\n",
    "    Dense(32),\n",
    "    # relu\n",
    "    ReLU(),\n",
    "    # softmax\n",
    "    Dense(2, activation='softmax')\n",
    "])\n",
    "'''"
   ]
  },
  {
   "cell_type": "code",
   "execution_count": 6,
   "metadata": {},
   "outputs": [
    {
     "name": "stdout",
     "output_type": "stream",
     "text": [
      "y_train.shape:  (16344, 2)\n",
      "y_val.shape:  (4087, 2)\n",
      "X_train.shape:  (16344, 50, 9)\n",
      "y_train.shape:  (16344, 2)\n",
      "Epoch 1/50\n",
      "WARNING:tensorflow:From g:\\python\\lib\\site-packages\\keras\\src\\backend.py:6642: The name tf.nn.max_pool is deprecated. Please use tf.nn.max_pool2d instead.\n",
      "\n",
      "WARNING:tensorflow:From g:\\python\\lib\\site-packages\\keras\\src\\utils\\tf_utils.py:492: The name tf.ragged.RaggedTensorValue is deprecated. Please use tf.compat.v1.ragged.RaggedTensorValue instead.\n",
      "\n",
      "WARNING:tensorflow:From g:\\python\\lib\\site-packages\\keras\\src\\engine\\base_layer_utils.py:384: The name tf.executing_eagerly_outside_functions is deprecated. Please use tf.compat.v1.executing_eagerly_outside_functions instead.\n",
      "\n",
      "256/256 [==============================] - 12s 21ms/step - loss: 0.8375 - accuracy: 0.7814 - val_loss: 0.3317 - val_accuracy: 0.8586 - lr: 5.0000e-04\n",
      "Epoch 2/50\n",
      "256/256 [==============================] - 4s 17ms/step - loss: 0.6222 - accuracy: 0.8253 - val_loss: 0.2793 - val_accuracy: 0.8757 - lr: 5.0000e-04\n",
      "Epoch 3/50\n",
      "256/256 [==============================] - 5s 18ms/step - loss: 0.6063 - accuracy: 0.8343 - val_loss: 0.2921 - val_accuracy: 0.8745 - lr: 5.0000e-04\n",
      "Epoch 4/50\n",
      "256/256 [==============================] - 4s 16ms/step - loss: 0.5446 - accuracy: 0.8642 - val_loss: 0.3409 - val_accuracy: 0.8529 - lr: 5.0000e-04\n",
      "Epoch 5/50\n",
      "256/256 [==============================] - 4s 16ms/step - loss: 0.4875 - accuracy: 0.8691 - val_loss: 0.3824 - val_accuracy: 0.8126 - lr: 5.0000e-04\n",
      "Epoch 6/50\n",
      "256/256 [==============================] - 5s 18ms/step - loss: 0.5242 - accuracy: 0.8662 - val_loss: 0.9001 - val_accuracy: 0.6450 - lr: 5.0000e-04\n",
      "Epoch 7/50\n",
      "256/256 [==============================] - 4s 17ms/step - loss: 0.5248 - accuracy: 0.8546 - val_loss: 0.2017 - val_accuracy: 0.9183 - lr: 5.0000e-04\n",
      "Epoch 8/50\n",
      "256/256 [==============================] - 5s 18ms/step - loss: 0.4385 - accuracy: 0.8837 - val_loss: 0.5244 - val_accuracy: 0.7539 - lr: 5.0000e-04\n",
      "Epoch 9/50\n",
      "256/256 [==============================] - 4s 17ms/step - loss: 0.4272 - accuracy: 0.8784 - val_loss: 0.2738 - val_accuracy: 0.8725 - lr: 5.0000e-04\n",
      "Epoch 10/50\n",
      "256/256 [==============================] - 4s 17ms/step - loss: 0.4536 - accuracy: 0.8803 - val_loss: 0.2125 - val_accuracy: 0.9149 - lr: 5.0000e-04\n",
      "Epoch 11/50\n",
      "256/256 [==============================] - 5s 18ms/step - loss: 0.4437 - accuracy: 0.8973 - val_loss: 0.3199 - val_accuracy: 0.8569 - lr: 5.0000e-04\n",
      "Epoch 12/50\n",
      "254/256 [============================>.] - ETA: 0s - loss: 0.4537 - accuracy: 0.8865\n",
      "Epoch 12: ReduceLROnPlateau reducing learning rate to 0.0002500000118743628.\n",
      "256/256 [==============================] - 4s 16ms/step - loss: 0.4543 - accuracy: 0.8862 - val_loss: 0.3983 - val_accuracy: 0.8299 - lr: 5.0000e-04\n",
      "Epoch 12: early stopping\n"
     ]
    }
   ],
   "source": [
    "\"\"\" train(train_dataloader, model_ConvLSTM, loss_fn, optimizer,val_dataloader, \n",
    "           patience=patience, scheduler=scheduler, epochs=epochs, device=device, B_size=B_size, A_size=A_size) \"\"\"\n",
    "# Train the model\n",
    "# Train the model without using batches\n",
    "# Compile the model\n",
    "# Ensure y_train and y_val are one-hot encoded only once\n",
    "if y_train.ndim == 1:\n",
    "    y_train = to_categorical(y_train)\n",
    "if y_val.ndim == 1:\n",
    "    y_val = to_categorical(y_val)\n",
    "print('y_train.shape: ', y_train.shape)\n",
    "print('y_val.shape: ', y_val.shape)\n",
    "\n",
    "# Calculate class weights\n",
    "B_multiplier = 1\n",
    "A_multiplier = B_size / A_size\n",
    "class_weight = {0: B_multiplier, 1: A_multiplier}\n",
    "\n",
    "\n",
    "ConvLSTM.compile(optimizer=keras.optimizers.Adam(learning_rate=learning_rate), \n",
    "                loss='categorical_crossentropy',\n",
    "                #loss=keras.losses.SparseCategoricalCrossentropy(from_logits=True),\n",
    "                metrics=['accuracy'])\n",
    "# Ensure y_train and y_val are one-hot encoded only once\n",
    "es = EarlyStopping(monitor='val_loss', mode='min', verbose=1, patience=patience)\n",
    "lrs = keras.callbacks.ReduceLROnPlateau(monitor='val_loss', factor=0.5, patience=patience, verbose=1)\n",
    "print('X_train.shape: ', X_train.shape) # (23291, 50, 9)\n",
    "print('y_train.shape: ', y_train.shape) # (23291,)\n",
    "\n",
    "history = ConvLSTM.fit(X_train, y_train, \n",
    "          validation_data=(X_val, y_val), \n",
    "          epochs=epochs, \n",
    "          batch_size=batch_size,\n",
    "          callbacks=[es, lrs],\n",
    "          class_weight=class_weight) "
   ]
  },
  {
   "cell_type": "code",
   "execution_count": 7,
   "metadata": {},
   "outputs": [
    {
     "name": "stdout",
     "output_type": "stream",
     "text": [
      "Model: \"sequential_3\"\n",
      "_________________________________________________________________\n",
      " Layer (type)                Output Shape              Param #   \n",
      "=================================================================\n",
      " sequential (Sequential)     (None, 25, 64)            26752     \n",
      "                                                                 \n",
      " sequential_1 (Sequential)   (None, 12, 64)            37312     \n",
      "                                                                 \n",
      " sequential_2 (Sequential)   (None, 6, 64)             37312     \n",
      "                                                                 \n",
      " lstm (LSTM)                 (None, 6, 64)             33024     \n",
      "                                                                 \n",
      " dropout (Dropout)           (None, 6, 64)             0         \n",
      "                                                                 \n",
      " lstm_1 (LSTM)               (None, 64)                33024     \n",
      "                                                                 \n",
      " dropout_1 (Dropout)         (None, 64)                0         \n",
      "                                                                 \n",
      " flatten (Flatten)           (None, 64)                0         \n",
      "                                                                 \n",
      " dense (Dense)               (None, 32)                2080      \n",
      "                                                                 \n",
      " dense_1 (Dense)             (None, 2)                 66        \n",
      "                                                                 \n",
      "=================================================================\n",
      "Total params: 169570 (662.38 KB)\n",
      "Trainable params: 169186 (660.88 KB)\n",
      "Non-trainable params: 384 (1.50 KB)\n",
      "_________________________________________________________________\n"
     ]
    }
   ],
   "source": [
    "# summary of the model\n",
    "ConvLSTM.summary()"
   ]
  },
  {
   "cell_type": "code",
   "execution_count": 8,
   "metadata": {},
   "outputs": [
    {
     "name": "stdout",
     "output_type": "stream",
     "text": [
      "X_test.shape:  (182, 50, 9)\n",
      "6/6 - 0s - loss: 0.3621 - accuracy: 0.8736 - 52ms/epoch - 9ms/step\n",
      "Test loss: [0.3620544373989105, 0.8736263513565063]\n"
     ]
    }
   ],
   "source": [
    "# Evaluate the model\n",
    "\n",
    "print('X_test.shape: ', X_test.shape)\n",
    "if y_test.ndim == 1:\n",
    "    y_test = to_categorical(y_test)\n",
    "test_loss = ConvLSTM.evaluate(X_test, y_test, verbose=2)\n",
    "print('Test loss:', test_loss)"
   ]
  },
  {
   "cell_type": "code",
   "execution_count": 9,
   "metadata": {},
   "outputs": [
    {
     "data": {
      "text/plain": [
       "<matplotlib.legend.Legend at 0x28db9c13370>"
      ]
     },
     "execution_count": 9,
     "metadata": {},
     "output_type": "execute_result"
    },
    {
     "data": {
      "image/png": "[encoded data removed]",
      "text/plain": [
       "<Figure size 640x480 with 1 Axes>"
      ]
     },
     "metadata": {},
     "output_type": "display_data"
    }
   ],
   "source": [
    "# Plot the training history\n",
    "plt.plot(history.history['accuracy'], label='accuracy')\n",
    "plt.plot(history.history['val_accuracy'], label = 'val_accuracy')\n",
    "plt.xlabel('Epoch')\n",
    "plt.ylabel('Accuracy')\n",
    "plt.ylim([0, 1])\n",
    "plt.legend(loc='lower right')"
   ]
  },
  {
   "cell_type": "code",
   "execution_count": 10,
   "metadata": {},
   "outputs": [],
   "source": [
    "# plot the confusion matrix for the quantized model\n",
    "from sklearn.metrics import confusion_matrix\n",
    "import itertools\n",
    "\n",
    "\"\"\"\n",
    "function: plot_confusion_matrix\n",
    "    - input: cm, classes, normalize, title, cmap\n",
    "    - output: none\n",
    "    - description: plots the confusion matrix\n",
    "\"\"\"\n",
    "\n",
    "def plot_confusion_matrix(cm, classes,\n",
    "                            normalize=False,\n",
    "                            title='Confusion matrix',\n",
    "                            cmap=plt.cm.Blues):\n",
    "    \"\"\"\n",
    "    This function prints and plots the confusion matrix.\n",
    "    Normalization can be applied by setting `normalize=True`.\n",
    "    \"\"\"\n",
    "    if normalize:\n",
    "        cm = cm.astype('float') / cm.sum(axis=1)[:, np.newaxis]\n",
    "        print(\"Normalized confusion matrix\")\n",
    "    else:\n",
    "        print('Confusion matrix, without normalization')\n",
    "    \n",
    "    print(cm)\n",
    "    \n",
    "    plt.imshow(cm, interpolation='nearest', cmap=cmap)\n",
    "    plt.title(title)\n",
    "    plt.colorbar()\n",
    "    tick_marks = np.arange(len(classes))\n",
    "    plt.xticks(tick_marks, classes, rotation=45)\n",
    "    plt.yticks(tick_marks, classes)\n",
    "    \n",
    "    fmt = '.2f' if normalize else 'd'\n",
    "    thresh = cm.max() / 2.\n",
    "    for i, j in itertools.product(range(cm.shape[0]), range(cm.shape[1])):\n",
    "        plt.text(j, i, format(cm[i, j], fmt),\n",
    "                 horizontalalignment=\"center\",\n",
    "                 color=\"white\" if cm[i, j] > thresh else \"black\")\n",
    "    \n",
    "    plt.tight_layout()\n",
    "    plt.ylabel('True label')\n",
    "    plt.xlabel('Predicted label')"
   ]
  },
  {
   "cell_type": "code",
   "execution_count": 12,
   "metadata": {},
   "outputs": [
    {
     "name": "stdout",
     "output_type": "stream",
     "text": [
      "6/6 [==============================] - 0s 7ms/step\n",
      "Confusion matrix, without normalization\n",
      "[[72 17]\n",
      " [ 6 87]]\n"
     ]
    },
    {
     "data": {
      "text/plain": [
       "0.8727620900331317"
      ]
     },
     "execution_count": 12,
     "metadata": {},
     "output_type": "execute_result"
    },
    {
     "data": {
      "image/png": "[encoded data removed]",
      "text/plain": [
       "<Figure size 640x480 with 2 Axes>"
      ]
     },
     "metadata": {},
     "output_type": "display_data"
    }
   ],
   "source": [
    "from sklearn.metrics import confusion_matrix\n",
    "import numpy as np\n",
    "\n",
    "# Convert y_test back to its original form\n",
    "y_test_original = np.argmax(y_test, axis=-1)\n",
    "\n",
    "# Get the model's predictions\n",
    "predictions = np.argmax(ConvLSTM.predict(X_test), axis=-1)\n",
    "\n",
    "# Compute the confusion matrix\n",
    "cm = confusion_matrix(y_test_original, predictions)\n",
    "\n",
    "\n",
    "# plot the confusion matrix\n",
    "plot_confusion_matrix(cm, classes=['Not Fall', 'Fall'], normalize=False, title='Confusion Matrix')\n",
    "# f1 score\n",
    "from sklearn.metrics import f1_score\n",
    "f1_score(y_test_original, predictions, average='macro')"
   ]
  },
  {
   "cell_type": "code",
   "execution_count": 15,
   "metadata": {},
   "outputs": [
    {
     "name": "stderr",
     "output_type": "stream",
     "text": [
      "g:\\python\\lib\\site-packages\\keras\\src\\engine\\training.py:3103: UserWarning: You are saving your model as an HDF5 file via `model.save()`. This file format is considered legacy. We recommend using instead the native Keras format, e.g. `model.save('my_model.keras')`.\n",
      "  saving_api.save_model(\n"
     ]
    }
   ],
   "source": [
    "ConvLSTM.save('saved_models/ConvLSTM.h5')"
   ]
  },
  {
   "cell_type": "code",
   "execution_count": 17,
   "metadata": {},
   "outputs": [
    {
     "name": "stdout",
     "output_type": "stream",
     "text": [
      "6/6 [==============================] - 1s 4ms/step\n",
      "Confusion matrix, without normalization\n",
      "[[72 17]\n",
      " [ 6 87]]\n"
     ]
    },
    {
     "data": {
      "image/png": "[encoded data removed]",
      "text/plain": [
       "<Figure size 640x480 with 2 Axes>"
      ]
     },
     "metadata": {},
     "output_type": "display_data"
    }
   ],
   "source": [
    "# load the model\n",
    "\n",
    "ConvLSTM = load_model('saved_models/ConvLSTM.h5')\n",
    "# Get the model's predictions\n",
    "predictions = np.argmax(ConvLSTM.predict(X_test), axis=-1)\n",
    "# Compute the confusion matrix\n",
    "cm = confusion_matrix(y_test_original, predictions)\n",
    "# plot the confusion matrix\n",
    "plot_confusion_matrix(cm, classes=['Not Fall', 'Fall'], normalize=False, title='Confusion Matrix')"
   ]
  },
  {
   "cell_type": "markdown",
   "metadata": {},
   "source": [
    "# Convert the model to TF lite"
   ]
  },
  {
   "cell_type": "code",
   "execution_count": 19,
   "metadata": {},
   "outputs": [
    {
     "name": "stdout",
     "output_type": "stream",
     "text": [
      "INFO:tensorflow:Assets written to: C:\\Users\\10744\\AppData\\Local\\Temp\\tmp_1tz2prw\\assets\n"
     ]
    },
    {
     "name": "stderr",
     "output_type": "stream",
     "text": [
      "INFO:tensorflow:Assets written to: C:\\Users\\10744\\AppData\\Local\\Temp\\tmp_1tz2prw\\assets\n"
     ]
    },
    {
     "name": "stdout",
     "output_type": "stream",
     "text": [
      "HDF5 Model size without quantization: 2121 KB\n",
      "TFLite Model size without quantization: 695 KB\n",
      "\n",
      "Reduction in file size by a factor of 3.048718\n"
     ]
    }
   ],
   "source": [
    "# Convert the model to TFLite without quantization\n",
    "# tried to larger set of Tensorflow ops\n",
    "converter = tf.lite.TFLiteConverter.from_keras_model(ConvLSTM)\n",
    "converter.target_spec.supported_ops = [tf.lite.OpsSet.TFLITE_BUILTINS, tf.lite.OpsSet.SELECT_TF_OPS]\n",
    "converter._experimental_lower_tensor_list_ops = False\n",
    "ConvLSTM_tflite_model = converter.convert()\n",
    "# save the model\n",
    "# Save the model to disk\n",
    "open(\"saved_models/ConvLSTM.tflite\", \"wb\").write(ConvLSTM_tflite_model)\n",
    "#ConvLSTM_tflite_model.save('ConvLSTM_tflite.tflite')\n",
    "# Show the model size for the non-quantized HDF5 model\n",
    "ConvLSTM_h5_in_kb = os.path.getsize('saved_models/ConvLSTM.h5') / 1024\n",
    "print(\"HDF5 Model size without quantization: %d KB\" % ConvLSTM_h5_in_kb)\n",
    "\n",
    "# Show the model size for the non-quantized TFLite model\n",
    "ConvLSTM_tflite_in_kb = os.path.getsize('saved_models/ConvLSTM.tflite') / 1024\n",
    "print(\"TFLite Model size without quantization: %d KB\" % ConvLSTM_tflite_in_kb)\n",
    "\n",
    "# Determine the reduction in model size\n",
    "print(\"\\nReduction in file size by a factor of %f\" % (ConvLSTM_h5_in_kb / ConvLSTM_tflite_in_kb))"
   ]
  },
  {
   "cell_type": "markdown",
   "metadata": {},
   "source": [
    "# TF lite dynamic range Quantization"
   ]
  },
  {
   "cell_type": "code",
   "execution_count": null,
   "metadata": {},
   "outputs": [],
   "source": [
    "\n",
    "\n",
    "ConvLSTM = load_model('saved_models/ConvLSTM.h5')\n",
    "\n",
    "# Convert the model to TFLite with quantization\n",
    "converter = tf.lite.TFLiteConverter.from_keras_model(ConvLSTM)\n",
    "converter.optimizations = [tf.lite.Optimize.DEFAULT]\n",
    "converter.target_spec.supported_ops = [tf.lite.OpsSet.TFLITE_BUILTINS, tf.lite.OpsSet.SELECT_TF_OPS]\n",
    "converter._experimental_lower_tensor_list_ops = False\n",
    "dynR_quant_tflite_ConvLSTM = converter.convert()\n",
    "\n",
    "# save the quantized model\n",
    "with open('dynR_quant_tflite_ConvLSTM.tflite', 'wb') as f:\n",
    "    f.write(dynR_quant_tflite_ConvLSTM)\n",
    "\n",
    "\n"
   ]
  },
  {
   "cell_type": "code",
   "execution_count": null,
   "metadata": {},
   "outputs": [],
   "source": [
    "interpreter = tf.lite.Interpreter(model_content=dynR_quant_tflite_ConvLSTM)\n",
    "input_type = interpreter.get_input_details()[0]['dtype']\n",
    "print('input: ', input_type)\n",
    "output_type = interpreter.get_output_details()[0]['dtype']\n",
    "print('output: ', output_type)"
   ]
  },
  {
   "cell_type": "code",
   "execution_count": null,
   "metadata": {},
   "outputs": [],
   "source": [
    "# Show the model size for the dynamic ranged quantized TFLite model\n",
    "tflite_quant_in_kb = os.path.getsize('dynR_quant_tflite_ConvLSTM.tflite') / 1024\n",
    "print(\"TFLite Model size with dynamic quantization: %d KB\" % tflite_quant_in_kb)\n",
    "\n",
    "print(\"TFLite Model size without quantization: %d KB\" % ConvLSTM_tflite_in_kb)\n",
    "\n",
    "# Determine the reduction in model size\n",
    "print(\"\\nReduction in model size by a factor of %f\" % (ConvLSTM_tflite_in_kb / tflite_quant_in_kb))"
   ]
  },
  {
   "cell_type": "code",
   "execution_count": null,
   "metadata": {},
   "outputs": [],
   "source": []
  },
  {
   "cell_type": "markdown",
   "metadata": {},
   "source": [
    "# int8 Quantization"
   ]
  },
  {
   "cell_type": "code",
   "execution_count": 30,
   "metadata": {},
   "outputs": [
    {
     "name": "stdout",
     "output_type": "stream",
     "text": [
      "INFO:tensorflow:Assets written to: C:\\Users\\10744\\AppData\\Local\\Temp\\tmpbne9oxyo\\assets\n"
     ]
    },
    {
     "name": "stderr",
     "output_type": "stream",
     "text": [
      "INFO:tensorflow:Assets written to: C:\\Users\\10744\\AppData\\Local\\Temp\\tmpbne9oxyo\\assets\n",
      "g:\\python\\lib\\site-packages\\tensorflow\\lite\\python\\convert.py:953: UserWarning: Statistics for quantized inputs were expected, but not specified; continuing anyway.\n",
      "  warnings.warn(\n"
     ]
    }
   ],
   "source": [
    "def representative_data_gen():\n",
    "  for input_value in tf.data.Dataset.from_tensor_slices(X_train.astype('float32')).batch(1).take(100):\n",
    "    yield [input_value]\n",
    "\n",
    "converter = tf.lite.TFLiteConverter.from_keras_model(ConvLSTM)\n",
    "converter.optimizations = [tf.lite.Optimize.DEFAULT]\n",
    "converter.representative_dataset = representative_data_gen\n",
    "converter.target_spec.supported_ops = [tf.lite.OpsSet.TFLITE_BUILTINS_INT8, tf.lite.OpsSet.SELECT_TF_OPS]\n",
    "converter._experimental_lower_tensor_list_ops = False\n",
    "converter.inference_input_type = tf.float32\n",
    "converter.inference_output_type = tf.int8\n",
    "\n",
    "tflite_model_quant_int8 = converter.convert()"
   ]
  },
  {
   "cell_type": "code",
   "execution_count": 31,
   "metadata": {},
   "outputs": [
    {
     "name": "stdout",
     "output_type": "stream",
     "text": [
      "input:  <class 'numpy.float32'>\n",
      "output:  <class 'numpy.int8'>\n"
     ]
    }
   ],
   "source": [
    "interpreter = tf.lite.Interpreter(model_content=tflite_model_quant_int8)\n",
    "input_type = interpreter.get_input_details()[0]['dtype']\n",
    "print('input: ', input_type)\n",
    "output_type = interpreter.get_output_details()[0]['dtype']\n",
    "print('output: ', output_type)"
   ]
  },
  {
   "cell_type": "code",
   "execution_count": 32,
   "metadata": {},
   "outputs": [],
   "source": [
    "# Save the quantized model\n",
    "with open('saved_models/tflite_model_quant_int8_ConvLSTM.tflite', 'wb') as f:\n",
    "    f.write(tflite_model_quant_int8)\n"
   ]
  },
  {
   "cell_type": "code",
   "execution_count": 34,
   "metadata": {},
   "outputs": [
    {
     "name": "stdout",
     "output_type": "stream",
     "text": [
      "TFLite Model size with 8-bit quantization: 220 KB\n",
      "TFLite Model size without quantization: 695 KB\n",
      "\n",
      "Reduction in model size by a factor of 3.155872\n"
     ]
    }
   ],
   "source": [
    "# Show the model size for the 8-bit quantized TFLite model\n",
    "tflite_quant_in_kb = os.path.getsize('saved_models/tflite_model_quant_int8_ConvLSTM.tflite') / 1024\n",
    "print(\"TFLite Model size with 8-bit quantization: %d KB\" % tflite_quant_in_kb)\n",
    "\n",
    "print(\"TFLite Model size without quantization: %d KB\" % ConvLSTM_tflite_in_kb)\n",
    "\n",
    "# Determine the reduction in model size\n",
    "print(\"\\nReduction in model size by a factor of %f\" % (ConvLSTM_tflite_in_kb / tflite_quant_in_kb))"
   ]
  },
  {
   "cell_type": "markdown",
   "metadata": {},
   "source": [
    "# Evaluate the quantized models"
   ]
  },
  {
   "cell_type": "code",
   "execution_count": 37,
   "metadata": {},
   "outputs": [
    {
     "name": "stdout",
     "output_type": "stream",
     "text": [
      "input:  {'name': 'serving_default_sequential_input:0', 'index': 0, 'shape': array([ 1, 50,  9]), 'shape_signature': array([-1, 50,  9]), 'dtype': <class 'numpy.float32'>, 'quantization': (0.0, 0), 'quantization_parameters': {'scales': array([], dtype=float32), 'zero_points': array([], dtype=int32), 'quantized_dimension': 0}, 'sparsity_parameters': {}}\n",
      "output:  {'name': 'StatefulPartitionedCall:0', 'index': 129, 'shape': array([1, 2]), 'shape_signature': array([-1,  2]), 'dtype': <class 'numpy.int8'>, 'quantization': (0.00390625, -128), 'quantization_parameters': {'scales': array([0.00390625], dtype=float32), 'zero_points': array([-128]), 'quantized_dimension': 0}, 'sparsity_parameters': {}}\n",
      "Evaluated on  0 .\n",
      "Evaluated on  100 .\n",
      "accuracy:  0.8626373626373627\n",
      "[[70 19]\n",
      " [ 6 87]]\n",
      "Confusion matrix, without normalization\n",
      "[[70 19]\n",
      " [ 6 87]]\n",
      "f1_score:  0.8743718592964824\n"
     ]
    },
    {
     "data": {
      "image/png": "[encoded data removed]",
      "text/plain": [
       "<Figure size 640x480 with 2 Axes>"
      ]
     },
     "metadata": {},
     "output_type": "display_data"
    }
   ],
   "source": [
    "# test the quantized model\n",
    "X_test_int8 = X_test.astype('float32')\n",
    "y_test_int8 = y_test.astype('int8')\n",
    "# Load the model into an interpreter\n",
    "interpreter = tf.lite.Interpreter(model_content= tflite_model_quant_int8)\n",
    "# Allocate memory for the model's input Tensor(s)\n",
    "interpreter.allocate_tensors()\n",
    "# Get the model input and output details\n",
    "input_details = interpreter.get_input_details()[0]\n",
    "output_details = interpreter.get_output_details()[0]\n",
    "print(\"input: \", input_details)\n",
    "print(\"output: \", output_details)\n",
    "predictions = np.zeros(X_test.shape[0])\n",
    "for i, test_data in enumerate(X_test_int8):\n",
    "    test_data = np.expand_dims(test_data, axis=0)\n",
    "    #print(test_data.shape)\n",
    "    interpreter.set_tensor(input_details[\"index\"], test_data)\n",
    "    interpreter.invoke()\n",
    "    output = interpreter.get_tensor(output_details[\"index\"])[0]\n",
    "    if i%100 == 0:\n",
    "        # print(\"Evaluated on %d images.\" % test_image_index)\n",
    "        print('Evaluated on ', i, '.')\n",
    "    predictions[i] = output.argmax()\n",
    "\n",
    "gt = np.argmax(y_test_int8, axis=-1)\n",
    "\n",
    "# print accuracy\n",
    "accuracy = (gt == predictions).mean()\n",
    "print('accuracy: ', accuracy)\n",
    "# Compute the confusion matrix\n",
    "cm = confusion_matrix(gt, predictions)\n",
    "\n",
    "print(cm)\n",
    "# plot the confusion matrix\n",
    "plot_confusion_matrix(cm, classes=['Not Fall', 'Fall'], normalize=False, title='Confusion Matrix')\n",
    "\n",
    "# get accuracy\n",
    "#accuracy_fp = (cm[0][0] + cm[1][1]) / np.sum(cm)\n",
    "#print('accuracy: ', accuracy_fp)\n",
    "\n",
    "f1_score = 2 * cm[1][1] / (2 * cm[1][1] + cm[0][1] + cm[1][0])\n",
    "print('f1_score: ', f1_score)\n",
    "\n"
   ]
  },
  {
   "cell_type": "code",
   "execution_count": null,
   "metadata": {},
   "outputs": [],
   "source": [
    "# test the quantized model\n",
    "X_test_int8 = X_test.astype('float32')\n",
    "y_test_int8 = y_test.astype('float32')\n",
    "#print(y_test_int8)\n",
    "# now y_test_int8 is one-hot encoded. convert y_test_int8 back\n",
    "#y_test_int8 = np.argmax(y_test_int8, axis=-1)\n",
    "print(X_test_int8.shape)\n",
    "print(y_test_int8.shape)\n",
    "# Load the model into an interpreter\n",
    "interpreter = tf.lite.Interpreter(model_content= dynR_quant_tflite_ConvLSTM)\n",
    "# Allocate memory for the model's input Tensor(s)\n",
    "interpreter.allocate_tensors()\n",
    "# Get the model input and output details\n",
    "input_details = interpreter.get_input_details()[0]\n",
    "output_details = interpreter.get_output_details()[0]\n",
    "print(\"input: \", input_details)\n",
    "print(\"output: \", output_details)\n",
    "predictions = np.zeros(X_test.shape[0])\n",
    "for i, test_data in enumerate(X_test_int8):\n",
    "    test_data = np.expand_dims(test_data, axis=0)\n",
    "    #print(test_data.shape)\n",
    "    interpreter.set_tensor(input_details[\"index\"], test_data)\n",
    "    interpreter.invoke()\n",
    "    output = interpreter.get_tensor(output_details[\"index\"])[0]\n",
    "    if i%100 == 0:\n",
    "        # print(\"Evaluated on %d images.\" % test_image_index)\n",
    "        print('Evaluated on ', i, '.')\n",
    "    predictions[i] = output.argmax()\n",
    "\n",
    "# convert the predictions from one hot back to int\n",
    "\n",
    "print(predictions.shape)\n",
    "y_test_int8 = np.argmax(y_test_int8, axis=-1)\n",
    "#print(np.argmax(y_test_int8, axis=-1))\n",
    "print(y_test_int8.shape)\n",
    "accuracy = (predictions == y_test_int8).mean()\n",
    "print('accuracy: ', accuracy)\n",
    "# compute the confusion matrix\n",
    "cm = confusion_matrix(y_test_int8, predictions)\n",
    "# plot the confusion matrix\n",
    "plot_confusion_matrix(cm, classes=['Not Fall', 'Fall'], normalize=False, title='Confusion Matrix')\n",
    "\n"
   ]
  },
  {
   "cell_type": "markdown",
   "metadata": {},
   "source": [
    "# ResNet24"
   ]
  },
  {
   "cell_type": "code",
   "execution_count": 56,
   "metadata": {},
   "outputs": [],
   "source": [
    "inputs = keras.Input(shape=(50, 9))\n",
    "x = layers.Reshape((1, 50, 9))(inputs)\n",
    "x = layers.Conv2D(filters=64, kernel_size=(1, 3))(x)\n",
    "x = layers.Conv2D(filters=64, kernel_size=(1, 3))(x)\n",
    "x = layers.MaxPooling2D(pool_size=(1, 2))(x)\n",
    "\n",
    "# ConvBlock\n",
    "residual = layers.Conv2D(filters=64, kernel_size=(1, 1))(x)\n",
    "x = layers.Conv2D(filters=16, kernel_size=(1, 1))(x)\n",
    "x = layers.BatchNormalization()(x)\n",
    "x = layers.ReLU()(x)\n",
    "x = layers.Conv2D(filters=16, kernel_size=(1, 3), padding='same')(x)\n",
    "x = layers.BatchNormalization()(x)\n",
    "x = layers.ReLU()(x)\n",
    "x = layers.Conv2D(filters=64, kernel_size=(1, 1))(x)\n",
    "x = layers.BatchNormalization()(x)\n",
    "x = layers.Add()([x, residual])\n",
    "x = layers.ReLU()(x)\n",
    "\n",
    "# ConvBlock\n",
    "residual = layers.Conv2D(filters=64, kernel_size=(1, 1))(x)\n",
    "x = layers.Conv2D(filters=16, kernel_size=(1, 1))(x)\n",
    "x = layers.BatchNormalization()(x)\n",
    "x = layers.ReLU()(x)\n",
    "x = layers.Conv2D(filters=16, kernel_size=(1, 3), padding='same')(x)\n",
    "x = layers.BatchNormalization()(x)\n",
    "x = layers.ReLU()(x)\n",
    "x = layers.Conv2D(filters=64, kernel_size=(1, 1))(x)\n",
    "x = layers.BatchNormalization()(x)\n",
    "x = layers.Add()([x, residual])\n",
    "x = layers.ReLU()(x)\n",
    "\n",
    "# IdentityBlock\n",
    "residual = x\n",
    "x = layers.Conv2D(filters=16, kernel_size=(1, 1))(x)\n",
    "x = layers.BatchNormalization()(x)\n",
    "x = layers.ReLU()(x)\n",
    "x = layers.Conv2D(filters=16, kernel_size=(1, 3), padding='same')(x)\n",
    "x = layers.BatchNormalization()(x)\n",
    "x = layers.ReLU()(x)\n",
    "x = layers.Conv2D(filters=64, kernel_size=(1, 1))(x)\n",
    "x = layers.BatchNormalization()(x)\n",
    "x = layers.Add()([x, residual])\n",
    "x = layers.ReLU()(x)\n",
    "\n",
    "# ConvBlock\n",
    "residual = layers.Conv2D(filters=64, kernel_size=(1, 1))(x)\n",
    "x = layers.Conv2D(filters=16, kernel_size=(1, 1))(x)\n",
    "x = layers.BatchNormalization()(x)\n",
    "x = layers.ReLU()(x)\n",
    "x = layers.Conv2D(filters=16, kernel_size=(1, 3), padding='same')(x)\n",
    "x = layers.BatchNormalization()(x)\n",
    "x = layers.ReLU()(x)\n",
    "x = layers.Conv2D(filters=64, kernel_size=(1, 1))(x)\n",
    "x = layers.BatchNormalization()(x)\n",
    "x = layers.Add()([x, residual])\n",
    "x = layers.ReLU()(x)\n",
    "\n",
    "# IdentityBlock\n",
    "residual = x\n",
    "x = layers.Conv2D(filters=16, kernel_size=(1, 1))(x)\n",
    "x = layers.BatchNormalization()(x)\n",
    "x = layers.ReLU()(x)\n",
    "x = layers.Conv2D(filters=16, kernel_size=(1, 3), padding='same')(x)\n",
    "x = layers.BatchNormalization()(x)\n",
    "x = layers.ReLU()(x)\n",
    "x = layers.Conv2D(filters=64, kernel_size=(1, 1))(x)\n",
    "x = layers.BatchNormalization()(x)\n",
    "x = layers.Add()([x, residual])\n",
    "x = layers.ReLU()(x)\n",
    "\n",
    "# ConvBlock\n",
    "residual = layers.Conv2D(filters=64, kernel_size=(1, 1))(x)\n",
    "x = layers.Conv2D(filters=16, kernel_size=(1, 1))(x)\n",
    "x = layers.BatchNormalization()(x)\n",
    "x = layers.ReLU()(x)\n",
    "x = layers.Conv2D(filters=16, kernel_size=(1, 3), padding='same')(x)\n",
    "x = layers.BatchNormalization()(x)\n",
    "x = layers.ReLU()(x)\n",
    "x = layers.Conv2D(filters=64, kernel_size=(1, 1))(x)\n",
    "x = layers.BatchNormalization()(x)\n",
    "x = layers.Add()([x, residual])\n",
    "x = layers.ReLU()(x)\n",
    "\n",
    "# IdentityBlock\n",
    "residual = x\n",
    "x = layers.Conv2D(filters=16, kernel_size=(1, 1))(x)\n",
    "x = layers.BatchNormalization()(x)\n",
    "x = layers.ReLU()(x)\n",
    "x = layers.Conv2D(filters=16, kernel_size=(1, 3), padding='same')(x)\n",
    "x = layers.BatchNormalization()(x)\n",
    "x = layers.ReLU()(x)\n",
    "x = layers.Conv2D(filters=64, kernel_size=(1, 1))(x)\n",
    "x = layers.BatchNormalization()(x)\n",
    "x = layers.Add()([x, residual])\n",
    "x = layers.ReLU()(x)\n",
    "\n",
    "x = layers.AveragePooling2D(pool_size=(1, 2))(x)\n",
    "x = layers.Flatten()(x)\n",
    "outputs = layers.Dense(2, activation='softmax')(x)\n",
    "\n",
    "ResNet24 = keras.Model(inputs=inputs, outputs=outputs, name=\"ResNet24\")"
   ]
  },
  {
   "cell_type": "code",
   "execution_count": 57,
   "metadata": {},
   "outputs": [
    {
     "name": "stdout",
     "output_type": "stream",
     "text": [
      "Model structure: \n",
      "\n",
      "Model: \"ResNet24\"\n",
      "__________________________________________________________________________________________________\n",
      " Layer (type)                Output Shape                 Param #   Connected to                  \n",
      "==================================================================================================\n",
      " input_2 (InputLayer)        [(None, 50, 9)]              0         []                            \n",
      "                                                                                                  \n",
      " reshape_1 (Reshape)         (None, 1, 50, 9)             0         ['input_2[0][0]']             \n",
      "                                                                                                  \n",
      " conv2d_27 (Conv2D)          (None, 1, 48, 64)            1792      ['reshape_1[0][0]']           \n",
      "                                                                                                  \n",
      " conv2d_28 (Conv2D)          (None, 1, 46, 64)            12352     ['conv2d_27[0][0]']           \n",
      "                                                                                                  \n",
      " max_pooling2d_1 (MaxPoolin  (None, 1, 23, 64)            0         ['conv2d_28[0][0]']           \n",
      " g2D)                                                                                             \n",
      "                                                                                                  \n",
      " conv2d_30 (Conv2D)          (None, 1, 23, 16)            1040      ['max_pooling2d_1[0][0]']     \n",
      "                                                                                                  \n",
      " batch_normalization_21 (Ba  (None, 1, 23, 16)            64        ['conv2d_30[0][0]']           \n",
      " tchNormalization)                                                                                \n",
      "                                                                                                  \n",
      " re_lu_21 (ReLU)             (None, 1, 23, 16)            0         ['batch_normalization_21[0][0]\n",
      "                                                                    ']                            \n",
      "                                                                                                  \n",
      " conv2d_31 (Conv2D)          (None, 1, 23, 16)            784       ['re_lu_21[0][0]']            \n",
      "                                                                                                  \n",
      " batch_normalization_22 (Ba  (None, 1, 23, 16)            64        ['conv2d_31[0][0]']           \n",
      " tchNormalization)                                                                                \n",
      "                                                                                                  \n",
      " re_lu_22 (ReLU)             (None, 1, 23, 16)            0         ['batch_normalization_22[0][0]\n",
      "                                                                    ']                            \n",
      "                                                                                                  \n",
      " conv2d_32 (Conv2D)          (None, 1, 23, 64)            1088      ['re_lu_22[0][0]']            \n",
      "                                                                                                  \n",
      " batch_normalization_23 (Ba  (None, 1, 23, 64)            256       ['conv2d_32[0][0]']           \n",
      " tchNormalization)                                                                                \n",
      "                                                                                                  \n",
      " conv2d_29 (Conv2D)          (None, 1, 23, 64)            4160      ['max_pooling2d_1[0][0]']     \n",
      "                                                                                                  \n",
      " add_7 (Add)                 (None, 1, 23, 64)            0         ['batch_normalization_23[0][0]\n",
      "                                                                    ',                            \n",
      "                                                                     'conv2d_29[0][0]']           \n",
      "                                                                                                  \n",
      " re_lu_23 (ReLU)             (None, 1, 23, 64)            0         ['add_7[0][0]']               \n",
      "                                                                                                  \n",
      " conv2d_34 (Conv2D)          (None, 1, 23, 16)            1040      ['re_lu_23[0][0]']            \n",
      "                                                                                                  \n",
      " batch_normalization_24 (Ba  (None, 1, 23, 16)            64        ['conv2d_34[0][0]']           \n",
      " tchNormalization)                                                                                \n",
      "                                                                                                  \n",
      " re_lu_24 (ReLU)             (None, 1, 23, 16)            0         ['batch_normalization_24[0][0]\n",
      "                                                                    ']                            \n",
      "                                                                                                  \n",
      " conv2d_35 (Conv2D)          (None, 1, 23, 16)            784       ['re_lu_24[0][0]']            \n",
      "                                                                                                  \n",
      " batch_normalization_25 (Ba  (None, 1, 23, 16)            64        ['conv2d_35[0][0]']           \n",
      " tchNormalization)                                                                                \n",
      "                                                                                                  \n",
      " re_lu_25 (ReLU)             (None, 1, 23, 16)            0         ['batch_normalization_25[0][0]\n",
      "                                                                    ']                            \n",
      "                                                                                                  \n",
      " conv2d_36 (Conv2D)          (None, 1, 23, 64)            1088      ['re_lu_25[0][0]']            \n",
      "                                                                                                  \n",
      " batch_normalization_26 (Ba  (None, 1, 23, 64)            256       ['conv2d_36[0][0]']           \n",
      " tchNormalization)                                                                                \n",
      "                                                                                                  \n",
      " conv2d_33 (Conv2D)          (None, 1, 23, 64)            4160      ['re_lu_23[0][0]']            \n",
      "                                                                                                  \n",
      " add_8 (Add)                 (None, 1, 23, 64)            0         ['batch_normalization_26[0][0]\n",
      "                                                                    ',                            \n",
      "                                                                     'conv2d_33[0][0]']           \n",
      "                                                                                                  \n",
      " re_lu_26 (ReLU)             (None, 1, 23, 64)            0         ['add_8[0][0]']               \n",
      "                                                                                                  \n",
      " conv2d_37 (Conv2D)          (None, 1, 23, 16)            1040      ['re_lu_26[0][0]']            \n",
      "                                                                                                  \n",
      " batch_normalization_27 (Ba  (None, 1, 23, 16)            64        ['conv2d_37[0][0]']           \n",
      " tchNormalization)                                                                                \n",
      "                                                                                                  \n",
      " re_lu_27 (ReLU)             (None, 1, 23, 16)            0         ['batch_normalization_27[0][0]\n",
      "                                                                    ']                            \n",
      "                                                                                                  \n",
      " conv2d_38 (Conv2D)          (None, 1, 23, 16)            784       ['re_lu_27[0][0]']            \n",
      "                                                                                                  \n",
      " batch_normalization_28 (Ba  (None, 1, 23, 16)            64        ['conv2d_38[0][0]']           \n",
      " tchNormalization)                                                                                \n",
      "                                                                                                  \n",
      " re_lu_28 (ReLU)             (None, 1, 23, 16)            0         ['batch_normalization_28[0][0]\n",
      "                                                                    ']                            \n",
      "                                                                                                  \n",
      " conv2d_39 (Conv2D)          (None, 1, 23, 64)            1088      ['re_lu_28[0][0]']            \n",
      "                                                                                                  \n",
      " batch_normalization_29 (Ba  (None, 1, 23, 64)            256       ['conv2d_39[0][0]']           \n",
      " tchNormalization)                                                                                \n",
      "                                                                                                  \n",
      " add_9 (Add)                 (None, 1, 23, 64)            0         ['batch_normalization_29[0][0]\n",
      "                                                                    ',                            \n",
      "                                                                     're_lu_26[0][0]']            \n",
      "                                                                                                  \n",
      " re_lu_29 (ReLU)             (None, 1, 23, 64)            0         ['add_9[0][0]']               \n",
      "                                                                                                  \n",
      " conv2d_41 (Conv2D)          (None, 1, 23, 16)            1040      ['re_lu_29[0][0]']            \n",
      "                                                                                                  \n",
      " batch_normalization_30 (Ba  (None, 1, 23, 16)            64        ['conv2d_41[0][0]']           \n",
      " tchNormalization)                                                                                \n",
      "                                                                                                  \n",
      " re_lu_30 (ReLU)             (None, 1, 23, 16)            0         ['batch_normalization_30[0][0]\n",
      "                                                                    ']                            \n",
      "                                                                                                  \n",
      " conv2d_42 (Conv2D)          (None, 1, 23, 16)            784       ['re_lu_30[0][0]']            \n",
      "                                                                                                  \n",
      " batch_normalization_31 (Ba  (None, 1, 23, 16)            64        ['conv2d_42[0][0]']           \n",
      " tchNormalization)                                                                                \n",
      "                                                                                                  \n",
      " re_lu_31 (ReLU)             (None, 1, 23, 16)            0         ['batch_normalization_31[0][0]\n",
      "                                                                    ']                            \n",
      "                                                                                                  \n",
      " conv2d_43 (Conv2D)          (None, 1, 23, 64)            1088      ['re_lu_31[0][0]']            \n",
      "                                                                                                  \n",
      " batch_normalization_32 (Ba  (None, 1, 23, 64)            256       ['conv2d_43[0][0]']           \n",
      " tchNormalization)                                                                                \n",
      "                                                                                                  \n",
      " conv2d_40 (Conv2D)          (None, 1, 23, 64)            4160      ['re_lu_29[0][0]']            \n",
      "                                                                                                  \n",
      " add_10 (Add)                (None, 1, 23, 64)            0         ['batch_normalization_32[0][0]\n",
      "                                                                    ',                            \n",
      "                                                                     'conv2d_40[0][0]']           \n",
      "                                                                                                  \n",
      " re_lu_32 (ReLU)             (None, 1, 23, 64)            0         ['add_10[0][0]']              \n",
      "                                                                                                  \n",
      " conv2d_44 (Conv2D)          (None, 1, 23, 16)            1040      ['re_lu_32[0][0]']            \n",
      "                                                                                                  \n",
      " batch_normalization_33 (Ba  (None, 1, 23, 16)            64        ['conv2d_44[0][0]']           \n",
      " tchNormalization)                                                                                \n",
      "                                                                                                  \n",
      " re_lu_33 (ReLU)             (None, 1, 23, 16)            0         ['batch_normalization_33[0][0]\n",
      "                                                                    ']                            \n",
      "                                                                                                  \n",
      " conv2d_45 (Conv2D)          (None, 1, 23, 16)            784       ['re_lu_33[0][0]']            \n",
      "                                                                                                  \n",
      " batch_normalization_34 (Ba  (None, 1, 23, 16)            64        ['conv2d_45[0][0]']           \n",
      " tchNormalization)                                                                                \n",
      "                                                                                                  \n",
      " re_lu_34 (ReLU)             (None, 1, 23, 16)            0         ['batch_normalization_34[0][0]\n",
      "                                                                    ']                            \n",
      "                                                                                                  \n",
      " conv2d_46 (Conv2D)          (None, 1, 23, 64)            1088      ['re_lu_34[0][0]']            \n",
      "                                                                                                  \n",
      " batch_normalization_35 (Ba  (None, 1, 23, 64)            256       ['conv2d_46[0][0]']           \n",
      " tchNormalization)                                                                                \n",
      "                                                                                                  \n",
      " add_11 (Add)                (None, 1, 23, 64)            0         ['batch_normalization_35[0][0]\n",
      "                                                                    ',                            \n",
      "                                                                     're_lu_32[0][0]']            \n",
      "                                                                                                  \n",
      " re_lu_35 (ReLU)             (None, 1, 23, 64)            0         ['add_11[0][0]']              \n",
      "                                                                                                  \n",
      " conv2d_48 (Conv2D)          (None, 1, 23, 16)            1040      ['re_lu_35[0][0]']            \n",
      "                                                                                                  \n",
      " batch_normalization_36 (Ba  (None, 1, 23, 16)            64        ['conv2d_48[0][0]']           \n",
      " tchNormalization)                                                                                \n",
      "                                                                                                  \n",
      " re_lu_36 (ReLU)             (None, 1, 23, 16)            0         ['batch_normalization_36[0][0]\n",
      "                                                                    ']                            \n",
      "                                                                                                  \n",
      " conv2d_49 (Conv2D)          (None, 1, 23, 16)            784       ['re_lu_36[0][0]']            \n",
      "                                                                                                  \n",
      " batch_normalization_37 (Ba  (None, 1, 23, 16)            64        ['conv2d_49[0][0]']           \n",
      " tchNormalization)                                                                                \n",
      "                                                                                                  \n",
      " re_lu_37 (ReLU)             (None, 1, 23, 16)            0         ['batch_normalization_37[0][0]\n",
      "                                                                    ']                            \n",
      "                                                                                                  \n",
      " conv2d_50 (Conv2D)          (None, 1, 23, 64)            1088      ['re_lu_37[0][0]']            \n",
      "                                                                                                  \n",
      " batch_normalization_38 (Ba  (None, 1, 23, 64)            256       ['conv2d_50[0][0]']           \n",
      " tchNormalization)                                                                                \n",
      "                                                                                                  \n",
      " conv2d_47 (Conv2D)          (None, 1, 23, 64)            4160      ['re_lu_35[0][0]']            \n",
      "                                                                                                  \n",
      " add_12 (Add)                (None, 1, 23, 64)            0         ['batch_normalization_38[0][0]\n",
      "                                                                    ',                            \n",
      "                                                                     'conv2d_47[0][0]']           \n",
      "                                                                                                  \n",
      " re_lu_38 (ReLU)             (None, 1, 23, 64)            0         ['add_12[0][0]']              \n",
      "                                                                                                  \n",
      " conv2d_51 (Conv2D)          (None, 1, 23, 16)            1040      ['re_lu_38[0][0]']            \n",
      "                                                                                                  \n",
      " batch_normalization_39 (Ba  (None, 1, 23, 16)            64        ['conv2d_51[0][0]']           \n",
      " tchNormalization)                                                                                \n",
      "                                                                                                  \n",
      " re_lu_39 (ReLU)             (None, 1, 23, 16)            0         ['batch_normalization_39[0][0]\n",
      "                                                                    ']                            \n",
      "                                                                                                  \n",
      " conv2d_52 (Conv2D)          (None, 1, 23, 16)            784       ['re_lu_39[0][0]']            \n",
      "                                                                                                  \n",
      " batch_normalization_40 (Ba  (None, 1, 23, 16)            64        ['conv2d_52[0][0]']           \n",
      " tchNormalization)                                                                                \n",
      "                                                                                                  \n",
      " re_lu_40 (ReLU)             (None, 1, 23, 16)            0         ['batch_normalization_40[0][0]\n",
      "                                                                    ']                            \n",
      "                                                                                                  \n",
      " conv2d_53 (Conv2D)          (None, 1, 23, 64)            1088      ['re_lu_40[0][0]']            \n",
      "                                                                                                  \n",
      " batch_normalization_41 (Ba  (None, 1, 23, 64)            256       ['conv2d_53[0][0]']           \n",
      " tchNormalization)                                                                                \n",
      "                                                                                                  \n",
      " add_13 (Add)                (None, 1, 23, 64)            0         ['batch_normalization_41[0][0]\n",
      "                                                                    ',                            \n",
      "                                                                     're_lu_38[0][0]']            \n",
      "                                                                                                  \n",
      " re_lu_41 (ReLU)             (None, 1, 23, 64)            0         ['add_13[0][0]']              \n",
      "                                                                                                  \n",
      " average_pooling2d_1 (Avera  (None, 1, 11, 64)            0         ['re_lu_41[0][0]']            \n",
      " gePooling2D)                                                                                     \n",
      "                                                                                                  \n",
      " flatten_1 (Flatten)         (None, 704)                  0         ['average_pooling2d_1[0][0]'] \n",
      "                                                                                                  \n",
      " dense_1 (Dense)             (None, 2)                    1410      ['flatten_1[0][0]']           \n",
      "                                                                                                  \n",
      "==================================================================================================\n",
      "Total params: 55266 (215.88 KB)\n",
      "Trainable params: 53922 (210.63 KB)\n",
      "Non-trainable params: 1344 (5.25 KB)\n",
      "__________________________________________________________________________________________________\n"
     ]
    }
   ],
   "source": [
    "print(f\"Model structure: \\n\")\n",
    "ResNet24.build(input_shape=(None, 50, 9))\n",
    "ResNet24.summary()"
   ]
  },
  {
   "cell_type": "code",
   "execution_count": 58,
   "metadata": {},
   "outputs": [
    {
     "name": "stderr",
     "output_type": "stream",
     "text": [
      "WARNING:absl:At this time, the v2.11+ optimizer `tf.keras.optimizers.Adam` runs slowly on M1/M2 Macs, please use the legacy Keras optimizer instead, located at `tf.keras.optimizers.legacy.Adam`.\n"
     ]
    },
    {
     "name": "stdout",
     "output_type": "stream",
     "text": [
      "y_train.shape:  (16394, 2)\n",
      "y_val.shape:  (4099, 2)\n",
      "X_train.shape:  (16394, 50, 9)\n",
      "y_train.shape:  (16394, 2)\n",
      "Epoch 1/50\n",
      "257/257 [==============================] - 9s 25ms/step - loss: 1.4842 - accuracy: 0.8094 - val_loss: 0.4124 - val_accuracy: 0.8922 - lr: 5.0000e-04\n",
      "Epoch 2/50\n",
      "257/257 [==============================] - 7s 26ms/step - loss: 0.9538 - accuracy: 0.8587 - val_loss: 0.2678 - val_accuracy: 0.9314 - lr: 5.0000e-04\n",
      "Epoch 3/50\n",
      "257/257 [==============================] - 6s 23ms/step - loss: 0.8049 - accuracy: 0.8643 - val_loss: 0.3755 - val_accuracy: 0.8931 - lr: 5.0000e-04\n",
      "Epoch 4/50\n",
      "257/257 [==============================] - 6s 24ms/step - loss: 0.5980 - accuracy: 0.8915 - val_loss: 0.2925 - val_accuracy: 0.9097 - lr: 5.0000e-04\n",
      "Epoch 5/50\n",
      "257/257 [==============================] - 6s 24ms/step - loss: 0.5557 - accuracy: 0.8840 - val_loss: 0.3996 - val_accuracy: 0.8890 - lr: 5.0000e-04\n",
      "Epoch 6/50\n",
      "257/257 [==============================] - 6s 24ms/step - loss: 0.5148 - accuracy: 0.9001 - val_loss: 0.7061 - val_accuracy: 0.8353 - lr: 5.0000e-04\n",
      "Epoch 7/50\n",
      "257/257 [==============================] - ETA: 0s - loss: 0.7976 - accuracy: 0.8794\n",
      "Epoch 7: ReduceLROnPlateau reducing learning rate to 5.0000002374872565e-05.\n",
      "257/257 [==============================] - 6s 25ms/step - loss: 0.7976 - accuracy: 0.8794 - val_loss: 0.2895 - val_accuracy: 0.9293 - lr: 5.0000e-04\n",
      "Epoch 7: early stopping\n"
     ]
    }
   ],
   "source": [
    "# Ensure y_train and y_val are one-hot encoded only once\n",
    "if y_train.ndim == 1:\n",
    "    y_train = to_categorical(y_train)\n",
    "if y_val.ndim == 1:\n",
    "    y_val = to_categorical(y_val)\n",
    "print('y_train.shape: ', y_train.shape)\n",
    "print('y_val.shape: ', y_val.shape)\n",
    "\n",
    "# Calculate class weights\n",
    "B_multiplier = 1\n",
    "A_multiplier = B_size / A_size\n",
    "class_weight = {0: B_multiplier, 1: A_multiplier}\n",
    "\n",
    "\n",
    "ResNet24.compile(optimizer=keras.optimizers.Adam(learning_rate=learning_rate), \n",
    "                loss='categorical_crossentropy',\n",
    "                #loss=keras.losses.SparseCategoricalCrossentropy(from_logits=True),\n",
    "                metrics=['accuracy'])\n",
    "# Ensure y_train and y_val are one-hot encoded only once\n",
    "es = keras.callbacks.EarlyStopping(monitor='val_loss', mode='min', verbose=1, patience=patience)\n",
    "lrs = keras.callbacks.ReduceLROnPlateau(monitor='val_loss', factor=0.1, patience=patience, verbose=1)\n",
    "print('X_train.shape: ', X_train.shape) # (23291, 50, 9)\n",
    "print('y_train.shape: ', y_train.shape) # (23291,)\n",
    "\n",
    "history = ResNet24.fit(X_train, y_train, \n",
    "          validation_data=(X_val, y_val), \n",
    "          epochs=epochs, \n",
    "          batch_size=batch_size,\n",
    "          callbacks=[es, lrs],\n",
    "          class_weight=class_weight) "
   ]
  },
  {
   "cell_type": "code",
   "execution_count": 59,
   "metadata": {},
   "outputs": [
    {
     "name": "stdout",
     "output_type": "stream",
     "text": [
      "X_test.shape:  (240, 50, 9)\n",
      "8/8 - 0s - loss: 0.2289 - accuracy: 0.9250 - 45ms/epoch - 6ms/step\n",
      "Test loss: [0.22887654602527618, 0.925000011920929]\n"
     ]
    }
   ],
   "source": [
    "# Evaluate the model\n",
    "print('X_test.shape: ', X_test.shape)\n",
    "if y_test.ndim == 1:\n",
    "    y_test = to_categorical(y_test)\n",
    "test_loss = ResNet24.evaluate(X_test, y_test, verbose=2)\n",
    "print('Test loss:', test_loss)"
   ]
  },
  {
   "cell_type": "code",
   "execution_count": 60,
   "metadata": {},
   "outputs": [
    {
     "data": {
      "text/plain": [
       "<matplotlib.legend.Legend at 0x32f34dd30>"
      ]
     },
     "execution_count": 60,
     "metadata": {},
     "output_type": "execute_result"
    },
    {
     "data": {
      "image/png": "[encoded data removed]",
      "text/plain": [
       "<Figure size 640x480 with 1 Axes>"
      ]
     },
     "metadata": {},
     "output_type": "display_data"
    }
   ],
   "source": [
    "# Plot the training history\n",
    "plt.plot(history.history['accuracy'], label='accuracy')\n",
    "plt.plot(history.history['val_accuracy'], label = 'val_accuracy')\n",
    "plt.xlabel('Epoch')\n",
    "plt.ylabel('Accuracy')\n",
    "plt.ylim([0, 1])\n",
    "plt.legend(loc='lower right')"
   ]
  },
  {
   "cell_type": "code",
   "execution_count": 61,
   "metadata": {},
   "outputs": [
    {
     "name": "stdout",
     "output_type": "stream",
     "text": [
      "8/8 [==============================] - 0s 4ms/step\n",
      "[[113   3]\n",
      " [ 15 109]]\n",
      "Confusion matrix, without normalization\n",
      "[[113   3]\n",
      " [ 15 109]]\n"
     ]
    },
    {
     "data": {
      "image/png": "[encoded data removed]",
      "text/plain": [
       "<Figure size 640x480 with 2 Axes>"
      ]
     },
     "metadata": {},
     "output_type": "display_data"
    }
   ],
   "source": [
    "# Convert y_test back to its original form\n",
    "y_test_original = np.argmax(y_test, axis=-1)\n",
    "\n",
    "# Get the model's predictions\n",
    "predictions = np.argmax(ResNet24.predict(X_test), axis=-1)\n",
    "\n",
    "# Compute the confusion matrix\n",
    "cm = confusion_matrix(y_test_original, predictions)\n",
    "\n",
    "print(cm)\n",
    "# plot the confusion matrix\n",
    "plot_confusion_matrix(cm, classes=['Not Fall', 'Fall'], normalize=False, title='Confusion Matrix')"
   ]
  },
  {
   "cell_type": "code",
   "execution_count": 62,
   "metadata": {},
   "outputs": [],
   "source": [
    "ResNet24.save('ResNet24.keras')  # The file needs to end with the .keras extension"
   ]
  },
  {
   "cell_type": "code",
   "execution_count": 63,
   "metadata": {},
   "outputs": [
    {
     "name": "stderr",
     "output_type": "stream",
     "text": [
      "WARNING:absl:At this time, the v2.11+ optimizer `tf.keras.optimizers.Adam` runs slowly on M1/M2 Macs, please use the legacy Keras optimizer instead, located at `tf.keras.optimizers.legacy.Adam`.\n"
     ]
    },
    {
     "name": "stdout",
     "output_type": "stream",
     "text": [
      "Model: \"ResNet24\"\n",
      "__________________________________________________________________________________________________\n",
      " Layer (type)                Output Shape                 Param #   Connected to                  \n",
      "==================================================================================================\n",
      " input_2 (InputLayer)        [(None, 50, 9)]              0         []                            \n",
      "                                                                                                  \n",
      " quantize_layer_1 (Quantize  (None, 50, 9)                3         ['input_2[0][0]']             \n",
      " Layer)                                                                                           \n",
      "                                                                                                  \n",
      " quant_reshape_1 (QuantizeW  (None, 1, 50, 9)             1         ['quantize_layer_1[0][0]']    \n",
      " rapperV2)                                                                                        \n",
      "                                                                                                  \n",
      " quant_conv2d_27 (QuantizeW  (None, 1, 48, 64)            1923      ['quant_reshape_1[0][0]']     \n",
      " rapperV2)                                                                                        \n",
      "                                                                                                  \n",
      " quant_conv2d_28 (QuantizeW  (None, 1, 46, 64)            12483     ['quant_conv2d_27[0][0]']     \n",
      " rapperV2)                                                                                        \n",
      "                                                                                                  \n",
      " quant_max_pooling2d_1 (Qua  (None, 1, 23, 64)            1         ['quant_conv2d_28[0][0]']     \n",
      " ntizeWrapperV2)                                                                                  \n",
      "                                                                                                  \n",
      " quant_conv2d_30 (QuantizeW  (None, 1, 23, 16)            1073      ['quant_max_pooling2d_1[0][0]'\n",
      " rapperV2)                                                          ]                             \n",
      "                                                                                                  \n",
      " quant_batch_normalization_  (None, 1, 23, 16)            65        ['quant_conv2d_30[0][0]']     \n",
      " 21 (QuantizeWrapperV2)                                                                           \n",
      "                                                                                                  \n",
      " quant_re_lu_21 (QuantizeWr  (None, 1, 23, 16)            3         ['quant_batch_normalization_21\n",
      " apperV2)                                                           [0][0]']                      \n",
      "                                                                                                  \n",
      " quant_conv2d_31 (QuantizeW  (None, 1, 23, 16)            817       ['quant_re_lu_21[0][0]']      \n",
      " rapperV2)                                                                                        \n",
      "                                                                                                  \n",
      " quant_batch_normalization_  (None, 1, 23, 16)            65        ['quant_conv2d_31[0][0]']     \n",
      " 22 (QuantizeWrapperV2)                                                                           \n",
      "                                                                                                  \n",
      " quant_re_lu_22 (QuantizeWr  (None, 1, 23, 16)            3         ['quant_batch_normalization_22\n",
      " apperV2)                                                           [0][0]']                      \n",
      "                                                                                                  \n",
      " quant_conv2d_32 (QuantizeW  (None, 1, 23, 64)            1217      ['quant_re_lu_22[0][0]']      \n",
      " rapperV2)                                                                                        \n",
      "                                                                                                  \n",
      " quant_batch_normalization_  (None, 1, 23, 64)            259       ['quant_conv2d_32[0][0]']     \n",
      " 23 (QuantizeWrapperV2)                                                                           \n",
      "                                                                                                  \n",
      " quant_conv2d_29 (QuantizeW  (None, 1, 23, 64)            4291      ['quant_max_pooling2d_1[0][0]'\n",
      " rapperV2)                                                          ]                             \n",
      "                                                                                                  \n",
      " quant_add_7 (QuantizeWrapp  (None, 1, 23, 64)            1         ['quant_batch_normalization_23\n",
      " erV2)                                                              [0][0]',                      \n",
      "                                                                     'quant_conv2d_29[0][0]']     \n",
      "                                                                                                  \n",
      " quant_re_lu_23 (QuantizeWr  (None, 1, 23, 64)            3         ['quant_add_7[0][0]']         \n",
      " apperV2)                                                                                         \n",
      "                                                                                                  \n",
      " quant_conv2d_34 (QuantizeW  (None, 1, 23, 16)            1073      ['quant_re_lu_23[0][0]']      \n",
      " rapperV2)                                                                                        \n",
      "                                                                                                  \n",
      " quant_batch_normalization_  (None, 1, 23, 16)            65        ['quant_conv2d_34[0][0]']     \n",
      " 24 (QuantizeWrapperV2)                                                                           \n",
      "                                                                                                  \n",
      " quant_re_lu_24 (QuantizeWr  (None, 1, 23, 16)            3         ['quant_batch_normalization_24\n",
      " apperV2)                                                           [0][0]']                      \n",
      "                                                                                                  \n",
      " quant_conv2d_35 (QuantizeW  (None, 1, 23, 16)            817       ['quant_re_lu_24[0][0]']      \n",
      " rapperV2)                                                                                        \n",
      "                                                                                                  \n",
      " quant_batch_normalization_  (None, 1, 23, 16)            65        ['quant_conv2d_35[0][0]']     \n",
      " 25 (QuantizeWrapperV2)                                                                           \n",
      "                                                                                                  \n",
      " quant_re_lu_25 (QuantizeWr  (None, 1, 23, 16)            3         ['quant_batch_normalization_25\n",
      " apperV2)                                                           [0][0]']                      \n",
      "                                                                                                  \n",
      " quant_conv2d_36 (QuantizeW  (None, 1, 23, 64)            1217      ['quant_re_lu_25[0][0]']      \n",
      " rapperV2)                                                                                        \n",
      "                                                                                                  \n",
      " quant_batch_normalization_  (None, 1, 23, 64)            259       ['quant_conv2d_36[0][0]']     \n",
      " 26 (QuantizeWrapperV2)                                                                           \n",
      "                                                                                                  \n",
      " quant_conv2d_33 (QuantizeW  (None, 1, 23, 64)            4291      ['quant_re_lu_23[0][0]']      \n",
      " rapperV2)                                                                                        \n",
      "                                                                                                  \n",
      " quant_add_8 (QuantizeWrapp  (None, 1, 23, 64)            1         ['quant_batch_normalization_26\n",
      " erV2)                                                              [0][0]',                      \n",
      "                                                                     'quant_conv2d_33[0][0]']     \n",
      "                                                                                                  \n",
      " quant_re_lu_26 (QuantizeWr  (None, 1, 23, 64)            3         ['quant_add_8[0][0]']         \n",
      " apperV2)                                                                                         \n",
      "                                                                                                  \n",
      " quant_conv2d_37 (QuantizeW  (None, 1, 23, 16)            1073      ['quant_re_lu_26[0][0]']      \n",
      " rapperV2)                                                                                        \n",
      "                                                                                                  \n",
      " quant_batch_normalization_  (None, 1, 23, 16)            65        ['quant_conv2d_37[0][0]']     \n",
      " 27 (QuantizeWrapperV2)                                                                           \n",
      "                                                                                                  \n",
      " quant_re_lu_27 (QuantizeWr  (None, 1, 23, 16)            3         ['quant_batch_normalization_27\n",
      " apperV2)                                                           [0][0]']                      \n",
      "                                                                                                  \n",
      " quant_conv2d_38 (QuantizeW  (None, 1, 23, 16)            817       ['quant_re_lu_27[0][0]']      \n",
      " rapperV2)                                                                                        \n",
      "                                                                                                  \n",
      " quant_batch_normalization_  (None, 1, 23, 16)            65        ['quant_conv2d_38[0][0]']     \n",
      " 28 (QuantizeWrapperV2)                                                                           \n",
      "                                                                                                  \n",
      " quant_re_lu_28 (QuantizeWr  (None, 1, 23, 16)            3         ['quant_batch_normalization_28\n",
      " apperV2)                                                           [0][0]']                      \n",
      "                                                                                                  \n",
      " quant_conv2d_39 (QuantizeW  (None, 1, 23, 64)            1217      ['quant_re_lu_28[0][0]']      \n",
      " rapperV2)                                                                                        \n",
      "                                                                                                  \n",
      " quant_batch_normalization_  (None, 1, 23, 64)            259       ['quant_conv2d_39[0][0]']     \n",
      " 29 (QuantizeWrapperV2)                                                                           \n",
      "                                                                                                  \n",
      " quant_add_9 (QuantizeWrapp  (None, 1, 23, 64)            1         ['quant_batch_normalization_29\n",
      " erV2)                                                              [0][0]',                      \n",
      "                                                                     'quant_re_lu_26[0][0]']      \n",
      "                                                                                                  \n",
      " quant_re_lu_29 (QuantizeWr  (None, 1, 23, 64)            3         ['quant_add_9[0][0]']         \n",
      " apperV2)                                                                                         \n",
      "                                                                                                  \n",
      " quant_conv2d_41 (QuantizeW  (None, 1, 23, 16)            1073      ['quant_re_lu_29[0][0]']      \n",
      " rapperV2)                                                                                        \n",
      "                                                                                                  \n",
      " quant_batch_normalization_  (None, 1, 23, 16)            65        ['quant_conv2d_41[0][0]']     \n",
      " 30 (QuantizeWrapperV2)                                                                           \n",
      "                                                                                                  \n",
      " quant_re_lu_30 (QuantizeWr  (None, 1, 23, 16)            3         ['quant_batch_normalization_30\n",
      " apperV2)                                                           [0][0]']                      \n",
      "                                                                                                  \n",
      " quant_conv2d_42 (QuantizeW  (None, 1, 23, 16)            817       ['quant_re_lu_30[0][0]']      \n",
      " rapperV2)                                                                                        \n",
      "                                                                                                  \n",
      " quant_batch_normalization_  (None, 1, 23, 16)            65        ['quant_conv2d_42[0][0]']     \n",
      " 31 (QuantizeWrapperV2)                                                                           \n",
      "                                                                                                  \n",
      " quant_re_lu_31 (QuantizeWr  (None, 1, 23, 16)            3         ['quant_batch_normalization_31\n",
      " apperV2)                                                           [0][0]']                      \n",
      "                                                                                                  \n",
      " quant_conv2d_43 (QuantizeW  (None, 1, 23, 64)            1217      ['quant_re_lu_31[0][0]']      \n",
      " rapperV2)                                                                                        \n",
      "                                                                                                  \n",
      " quant_batch_normalization_  (None, 1, 23, 64)            259       ['quant_conv2d_43[0][0]']     \n",
      " 32 (QuantizeWrapperV2)                                                                           \n",
      "                                                                                                  \n",
      " quant_conv2d_40 (QuantizeW  (None, 1, 23, 64)            4291      ['quant_re_lu_29[0][0]']      \n",
      " rapperV2)                                                                                        \n",
      "                                                                                                  \n",
      " quant_add_10 (QuantizeWrap  (None, 1, 23, 64)            1         ['quant_batch_normalization_32\n",
      " perV2)                                                             [0][0]',                      \n",
      "                                                                     'quant_conv2d_40[0][0]']     \n",
      "                                                                                                  \n",
      " quant_re_lu_32 (QuantizeWr  (None, 1, 23, 64)            3         ['quant_add_10[0][0]']        \n",
      " apperV2)                                                                                         \n",
      "                                                                                                  \n",
      " quant_conv2d_44 (QuantizeW  (None, 1, 23, 16)            1073      ['quant_re_lu_32[0][0]']      \n",
      " rapperV2)                                                                                        \n",
      "                                                                                                  \n",
      " quant_batch_normalization_  (None, 1, 23, 16)            65        ['quant_conv2d_44[0][0]']     \n",
      " 33 (QuantizeWrapperV2)                                                                           \n",
      "                                                                                                  \n",
      " quant_re_lu_33 (QuantizeWr  (None, 1, 23, 16)            3         ['quant_batch_normalization_33\n",
      " apperV2)                                                           [0][0]']                      \n",
      "                                                                                                  \n",
      " quant_conv2d_45 (QuantizeW  (None, 1, 23, 16)            817       ['quant_re_lu_33[0][0]']      \n",
      " rapperV2)                                                                                        \n",
      "                                                                                                  \n",
      " quant_batch_normalization_  (None, 1, 23, 16)            65        ['quant_conv2d_45[0][0]']     \n",
      " 34 (QuantizeWrapperV2)                                                                           \n",
      "                                                                                                  \n",
      " quant_re_lu_34 (QuantizeWr  (None, 1, 23, 16)            3         ['quant_batch_normalization_34\n",
      " apperV2)                                                           [0][0]']                      \n",
      "                                                                                                  \n",
      " quant_conv2d_46 (QuantizeW  (None, 1, 23, 64)            1217      ['quant_re_lu_34[0][0]']      \n",
      " rapperV2)                                                                                        \n",
      "                                                                                                  \n",
      " quant_batch_normalization_  (None, 1, 23, 64)            259       ['quant_conv2d_46[0][0]']     \n",
      " 35 (QuantizeWrapperV2)                                                                           \n",
      "                                                                                                  \n",
      " quant_add_11 (QuantizeWrap  (None, 1, 23, 64)            1         ['quant_batch_normalization_35\n",
      " perV2)                                                             [0][0]',                      \n",
      "                                                                     'quant_re_lu_32[0][0]']      \n",
      "                                                                                                  \n",
      " quant_re_lu_35 (QuantizeWr  (None, 1, 23, 64)            3         ['quant_add_11[0][0]']        \n",
      " apperV2)                                                                                         \n",
      "                                                                                                  \n",
      " quant_conv2d_48 (QuantizeW  (None, 1, 23, 16)            1073      ['quant_re_lu_35[0][0]']      \n",
      " rapperV2)                                                                                        \n",
      "                                                                                                  \n",
      " quant_batch_normalization_  (None, 1, 23, 16)            65        ['quant_conv2d_48[0][0]']     \n",
      " 36 (QuantizeWrapperV2)                                                                           \n",
      "                                                                                                  \n",
      " quant_re_lu_36 (QuantizeWr  (None, 1, 23, 16)            3         ['quant_batch_normalization_36\n",
      " apperV2)                                                           [0][0]']                      \n",
      "                                                                                                  \n",
      " quant_conv2d_49 (QuantizeW  (None, 1, 23, 16)            817       ['quant_re_lu_36[0][0]']      \n",
      " rapperV2)                                                                                        \n",
      "                                                                                                  \n",
      " quant_batch_normalization_  (None, 1, 23, 16)            65        ['quant_conv2d_49[0][0]']     \n",
      " 37 (QuantizeWrapperV2)                                                                           \n",
      "                                                                                                  \n",
      " quant_re_lu_37 (QuantizeWr  (None, 1, 23, 16)            3         ['quant_batch_normalization_37\n",
      " apperV2)                                                           [0][0]']                      \n",
      "                                                                                                  \n",
      " quant_conv2d_50 (QuantizeW  (None, 1, 23, 64)            1217      ['quant_re_lu_37[0][0]']      \n",
      " rapperV2)                                                                                        \n",
      "                                                                                                  \n",
      " quant_batch_normalization_  (None, 1, 23, 64)            259       ['quant_conv2d_50[0][0]']     \n",
      " 38 (QuantizeWrapperV2)                                                                           \n",
      "                                                                                                  \n",
      " quant_conv2d_47 (QuantizeW  (None, 1, 23, 64)            4291      ['quant_re_lu_35[0][0]']      \n",
      " rapperV2)                                                                                        \n",
      "                                                                                                  \n",
      " quant_add_12 (QuantizeWrap  (None, 1, 23, 64)            1         ['quant_batch_normalization_38\n",
      " perV2)                                                             [0][0]',                      \n",
      "                                                                     'quant_conv2d_47[0][0]']     \n",
      "                                                                                                  \n",
      " quant_re_lu_38 (QuantizeWr  (None, 1, 23, 64)            3         ['quant_add_12[0][0]']        \n",
      " apperV2)                                                                                         \n",
      "                                                                                                  \n",
      " quant_conv2d_51 (QuantizeW  (None, 1, 23, 16)            1073      ['quant_re_lu_38[0][0]']      \n",
      " rapperV2)                                                                                        \n",
      "                                                                                                  \n",
      " quant_batch_normalization_  (None, 1, 23, 16)            65        ['quant_conv2d_51[0][0]']     \n",
      " 39 (QuantizeWrapperV2)                                                                           \n",
      "                                                                                                  \n",
      " quant_re_lu_39 (QuantizeWr  (None, 1, 23, 16)            3         ['quant_batch_normalization_39\n",
      " apperV2)                                                           [0][0]']                      \n",
      "                                                                                                  \n",
      " quant_conv2d_52 (QuantizeW  (None, 1, 23, 16)            817       ['quant_re_lu_39[0][0]']      \n",
      " rapperV2)                                                                                        \n",
      "                                                                                                  \n",
      " quant_batch_normalization_  (None, 1, 23, 16)            65        ['quant_conv2d_52[0][0]']     \n",
      " 40 (QuantizeWrapperV2)                                                                           \n",
      "                                                                                                  \n",
      " quant_re_lu_40 (QuantizeWr  (None, 1, 23, 16)            3         ['quant_batch_normalization_40\n",
      " apperV2)                                                           [0][0]']                      \n",
      "                                                                                                  \n",
      " quant_conv2d_53 (QuantizeW  (None, 1, 23, 64)            1217      ['quant_re_lu_40[0][0]']      \n",
      " rapperV2)                                                                                        \n",
      "                                                                                                  \n",
      " quant_batch_normalization_  (None, 1, 23, 64)            259       ['quant_conv2d_53[0][0]']     \n",
      " 41 (QuantizeWrapperV2)                                                                           \n",
      "                                                                                                  \n",
      " quant_add_13 (QuantizeWrap  (None, 1, 23, 64)            1         ['quant_batch_normalization_41\n",
      " perV2)                                                             [0][0]',                      \n",
      "                                                                     'quant_re_lu_38[0][0]']      \n",
      "                                                                                                  \n",
      " quant_re_lu_41 (QuantizeWr  (None, 1, 23, 64)            3         ['quant_add_13[0][0]']        \n",
      " apperV2)                                                                                         \n",
      "                                                                                                  \n",
      " quant_average_pooling2d_1   (None, 1, 11, 64)            3         ['quant_re_lu_41[0][0]']      \n",
      " (QuantizeWrapperV2)                                                                              \n",
      "                                                                                                  \n",
      " quant_flatten_1 (QuantizeW  (None, 704)                  1         ['quant_average_pooling2d_1[0]\n",
      " rapperV2)                                                          [0]']                         \n",
      "                                                                                                  \n",
      " quant_dense_1 (QuantizeWra  (None, 2)                    1415      ['quant_flatten_1[0][0]']     \n",
      " pperV2)                                                                                          \n",
      "                                                                                                  \n",
      "==================================================================================================\n",
      "Total params: 57536 (224.75 KB)\n",
      "Trainable params: 53922 (210.63 KB)\n",
      "Non-trainable params: 3614 (14.12 KB)\n",
      "__________________________________________________________________________________________________\n"
     ]
    }
   ],
   "source": [
    "q_ResNet24 = tfmot.quantization.keras.quantize_model(ResNet24)\n",
    "q_ResNet24.compile(optimizer=keras.optimizers.Adam(learning_rate=learning_rate), \n",
    "                loss='categorical_crossentropy',\n",
    "                #loss=keras.losses.SparseCategoricalCrossentropy(from_logits=True),\n",
    "                metrics=['accuracy'])\n",
    "\n",
    "q_ResNet24.summary()"
   ]
  },
  {
   "cell_type": "code",
   "execution_count": 64,
   "metadata": {},
   "outputs": [
    {
     "name": "stdout",
     "output_type": "stream",
     "text": [
      "Epoch 1/50\n",
      "257/257 [==============================] - 13s 36ms/step - loss: 0.9425 - accuracy: 0.7927 - val_loss: 0.2858 - val_accuracy: 0.9158 - lr: 5.0000e-04\n",
      "Epoch 2/50\n",
      "257/257 [==============================] - 9s 37ms/step - loss: 0.7741 - accuracy: 0.8362 - val_loss: 0.2423 - val_accuracy: 0.9090 - lr: 5.0000e-04\n",
      "Epoch 3/50\n",
      "257/257 [==============================] - 10s 37ms/step - loss: 0.6831 - accuracy: 0.8695 - val_loss: 0.1702 - val_accuracy: 0.9305 - lr: 5.0000e-04\n",
      "Epoch 4/50\n",
      "257/257 [==============================] - 9s 36ms/step - loss: 0.6453 - accuracy: 0.8734 - val_loss: 0.5239 - val_accuracy: 0.8004 - lr: 5.0000e-04\n",
      "Epoch 5/50\n",
      "257/257 [==============================] - 9s 36ms/step - loss: 0.5651 - accuracy: 0.8836 - val_loss: 0.1480 - val_accuracy: 0.9444 - lr: 5.0000e-04\n",
      "Epoch 6/50\n",
      "257/257 [==============================] - 9s 35ms/step - loss: 0.5660 - accuracy: 0.8823 - val_loss: 0.4149 - val_accuracy: 0.8363 - lr: 5.0000e-04\n",
      "Epoch 7/50\n",
      "257/257 [==============================] - 9s 35ms/step - loss: 0.5375 - accuracy: 0.8981 - val_loss: 0.4127 - val_accuracy: 0.8619 - lr: 5.0000e-04\n",
      "Epoch 8/50\n",
      "257/257 [==============================] - 9s 35ms/step - loss: 0.4875 - accuracy: 0.8995 - val_loss: 0.2242 - val_accuracy: 0.9278 - lr: 5.0000e-04\n",
      "Epoch 9/50\n",
      "257/257 [==============================] - 9s 36ms/step - loss: 0.5136 - accuracy: 0.9003 - val_loss: 0.1833 - val_accuracy: 0.9488 - lr: 5.0000e-04\n",
      "Epoch 10/50\n",
      "255/257 [============================>.] - ETA: 0s - loss: 0.4189 - accuracy: 0.9170\n",
      "Epoch 10: ReduceLROnPlateau reducing learning rate to 5.0000002374872565e-05.\n",
      "257/257 [==============================] - 9s 36ms/step - loss: 0.4195 - accuracy: 0.9172 - val_loss: 0.1499 - val_accuracy: 0.9468 - lr: 5.0000e-04\n",
      "Epoch 10: early stopping\n"
     ]
    }
   ],
   "source": [
    "q_history = q_ResNet24.fit(X_train, y_train, \n",
    "            validation_data=(X_val, y_val), \n",
    "            epochs=epochs, \n",
    "            batch_size=batch_size,\n",
    "            callbacks=[es, lrs],\n",
    "            class_weight=class_weight) "
   ]
  },
  {
   "cell_type": "code",
   "execution_count": 65,
   "metadata": {},
   "outputs": [],
   "source": [
    "q_ResNet24.save('q_ResNet24.keras')  # The file needs to end with the .keras extension\n"
   ]
  },
  {
   "cell_type": "code",
   "execution_count": 66,
   "metadata": {},
   "outputs": [
    {
     "data": {
      "text/plain": [
       "\"\\ndef representative_data_gen():\\n  for input_value in tf.data.Dataset.from_tensor_slices(X_train.astype('float32')).batch(1).take(100):\\n    yield [input_value]\\n\\nconverter = tf.lite.TFLiteConverter.from_keras_model(q_ResNet24)\\nconverter.optimizations = [tf.lite.Optimize.DEFAULT]\\nconverter.representative_dataset = representative_data_gen\\nconverter.target_spec.supported_ops = [tf.lite.OpsSet.TFLITE_BUILTINS, tf.lite.OpsSet.SELECT_TF_OPS]\\nconverter._experimental_lower_tensor_list_ops = False\\nconverter.inference_input_type = tf.int8\\nconverter.inference_output_type = tf.int8\\n\\ntflite_model_quant_int8 = converter.convert()\\n\""
      ]
     },
     "execution_count": 66,
     "metadata": {},
     "output_type": "execute_result"
    }
   ],
   "source": [
    "'''\n",
    "def representative_data_gen():\n",
    "  for input_value in tf.data.Dataset.from_tensor_slices(X_train.astype('float32')).batch(1).take(100):\n",
    "    yield [input_value]\n",
    "\n",
    "converter = tf.lite.TFLiteConverter.from_keras_model(q_ResNet24)\n",
    "converter.optimizations = [tf.lite.Optimize.DEFAULT]\n",
    "converter.representative_dataset = representative_data_gen\n",
    "converter.target_spec.supported_ops = [tf.lite.OpsSet.TFLITE_BUILTINS, tf.lite.OpsSet.SELECT_TF_OPS]\n",
    "converter._experimental_lower_tensor_list_ops = False\n",
    "converter.inference_input_type = tf.int8\n",
    "converter.inference_output_type = tf.int8\n",
    "\n",
    "tflite_model_quant_int8 = converter.convert()\n",
    "'''"
   ]
  },
  {
   "cell_type": "code",
   "execution_count": 67,
   "metadata": {},
   "outputs": [
    {
     "ename": "KeyboardInterrupt",
     "evalue": "",
     "output_type": "error",
     "traceback": [
      "\u001b[0;31m---------------------------------------------------------------------------\u001b[0m",
      "\u001b[0;31mKeyboardInterrupt\u001b[0m                         Traceback (most recent call last)",
      "\u001b[1;32m/Users/liuxinqing/Documents/Fall_Detection/train_Kfall_kera.ipynb Cell 49\u001b[0m line \u001b[0;36m1\n\u001b[1;32m     <a href='vscode-notebook-cell:/Users/liuxinqing/Documents/Fall_Detection/train_Kfall_kera.ipynb#Y100sZmlsZQ%3D%3D?line=12'>13</a>\u001b[0m converter\u001b[39m.\u001b[39minference_input_type \u001b[39m=\u001b[39m tf\u001b[39m.\u001b[39muint8\n\u001b[1;32m     <a href='vscode-notebook-cell:/Users/liuxinqing/Documents/Fall_Detection/train_Kfall_kera.ipynb#Y100sZmlsZQ%3D%3D?line=13'>14</a>\u001b[0m converter\u001b[39m.\u001b[39minference_output_type \u001b[39m=\u001b[39m tf\u001b[39m.\u001b[39muint8\n\u001b[0;32m---> <a href='vscode-notebook-cell:/Users/liuxinqing/Documents/Fall_Detection/train_Kfall_kera.ipynb#Y100sZmlsZQ%3D%3D?line=15'>16</a>\u001b[0m tflite_model_quant_int8_qat \u001b[39m=\u001b[39m converter\u001b[39m.\u001b[39;49mconvert()\n",
      "File \u001b[0;32m~/opt/anaconda3/envs/fall_detection/lib/python3.9/site-packages/tensorflow/lite/python/lite.py:1139\u001b[0m, in \u001b[0;36m_export_metrics.<locals>.wrapper\u001b[0;34m(self, *args, **kwargs)\u001b[0m\n\u001b[1;32m   1136\u001b[0m \u001b[39m@functools\u001b[39m\u001b[39m.\u001b[39mwraps(convert_func)\n\u001b[1;32m   1137\u001b[0m \u001b[39mdef\u001b[39;00m \u001b[39mwrapper\u001b[39m(\u001b[39mself\u001b[39m, \u001b[39m*\u001b[39margs, \u001b[39m*\u001b[39m\u001b[39m*\u001b[39mkwargs):\n\u001b[1;32m   1138\u001b[0m   \u001b[39m# pylint: disable=protected-access\u001b[39;00m\n\u001b[0;32m-> 1139\u001b[0m   \u001b[39mreturn\u001b[39;00m \u001b[39mself\u001b[39;49m\u001b[39m.\u001b[39;49m_convert_and_export_metrics(convert_func, \u001b[39m*\u001b[39;49margs, \u001b[39m*\u001b[39;49m\u001b[39m*\u001b[39;49mkwargs)\n",
      "File \u001b[0;32m~/opt/anaconda3/envs/fall_detection/lib/python3.9/site-packages/tensorflow/lite/python/lite.py:1093\u001b[0m, in \u001b[0;36mTFLiteConverterBase._convert_and_export_metrics\u001b[0;34m(self, convert_func, *args, **kwargs)\u001b[0m\n\u001b[1;32m   1091\u001b[0m \u001b[39mself\u001b[39m\u001b[39m.\u001b[39m_save_conversion_params_metric()\n\u001b[1;32m   1092\u001b[0m start_time \u001b[39m=\u001b[39m time\u001b[39m.\u001b[39mprocess_time()\n\u001b[0;32m-> 1093\u001b[0m result \u001b[39m=\u001b[39m convert_func(\u001b[39mself\u001b[39;49m, \u001b[39m*\u001b[39;49margs, \u001b[39m*\u001b[39;49m\u001b[39m*\u001b[39;49mkwargs)\n\u001b[1;32m   1094\u001b[0m elapsed_time_ms \u001b[39m=\u001b[39m (time\u001b[39m.\u001b[39mprocess_time() \u001b[39m-\u001b[39m start_time) \u001b[39m*\u001b[39m \u001b[39m1000\u001b[39m\n\u001b[1;32m   1095\u001b[0m \u001b[39mif\u001b[39;00m result:\n",
      "File \u001b[0;32m~/opt/anaconda3/envs/fall_detection/lib/python3.9/site-packages/tensorflow/lite/python/lite.py:1601\u001b[0m, in \u001b[0;36mTFLiteKerasModelConverterV2.convert\u001b[0;34m(self)\u001b[0m\n\u001b[1;32m   1588\u001b[0m \u001b[39m@_export_metrics\u001b[39m\n\u001b[1;32m   1589\u001b[0m \u001b[39mdef\u001b[39;00m \u001b[39mconvert\u001b[39m(\u001b[39mself\u001b[39m):\n\u001b[1;32m   1590\u001b[0m \u001b[39m  \u001b[39m\u001b[39m\"\"\"Converts a keras model based on instance variables.\u001b[39;00m\n\u001b[1;32m   1591\u001b[0m \n\u001b[1;32m   1592\u001b[0m \u001b[39m  Returns:\u001b[39;00m\n\u001b[0;32m   (...)\u001b[0m\n\u001b[1;32m   1599\u001b[0m \u001b[39m      Invalid quantization parameters.\u001b[39;00m\n\u001b[1;32m   1600\u001b[0m \u001b[39m  \"\"\"\u001b[39;00m\n\u001b[0;32m-> 1601\u001b[0m   saved_model_convert_result \u001b[39m=\u001b[39m \u001b[39mself\u001b[39;49m\u001b[39m.\u001b[39;49m_convert_as_saved_model()\n\u001b[1;32m   1602\u001b[0m   \u001b[39mif\u001b[39;00m saved_model_convert_result:\n\u001b[1;32m   1603\u001b[0m     \u001b[39mreturn\u001b[39;00m saved_model_convert_result\n",
      "File \u001b[0;32m~/opt/anaconda3/envs/fall_detection/lib/python3.9/site-packages/tensorflow/lite/python/lite.py:1579\u001b[0m, in \u001b[0;36mTFLiteKerasModelConverterV2._convert_as_saved_model\u001b[0;34m(self)\u001b[0m\n\u001b[1;32m   1576\u001b[0m temp_dir \u001b[39m=\u001b[39m tempfile\u001b[39m.\u001b[39mmkdtemp()\n\u001b[1;32m   1577\u001b[0m \u001b[39mtry\u001b[39;00m:\n\u001b[1;32m   1578\u001b[0m   graph_def, input_tensors, output_tensors \u001b[39m=\u001b[39m (\n\u001b[0;32m-> 1579\u001b[0m       \u001b[39mself\u001b[39;49m\u001b[39m.\u001b[39;49m_convert_keras_to_saved_model(temp_dir)\n\u001b[1;32m   1580\u001b[0m   )\n\u001b[1;32m   1581\u001b[0m   \u001b[39mif\u001b[39;00m \u001b[39mself\u001b[39m\u001b[39m.\u001b[39msaved_model_dir:\n\u001b[1;32m   1582\u001b[0m     \u001b[39mreturn\u001b[39;00m \u001b[39msuper\u001b[39m(TFLiteKerasModelConverterV2, \u001b[39mself\u001b[39m)\u001b[39m.\u001b[39mconvert(\n\u001b[1;32m   1583\u001b[0m         graph_def, input_tensors, output_tensors\n\u001b[1;32m   1584\u001b[0m     )\n",
      "File \u001b[0;32m~/opt/anaconda3/envs/fall_detection/lib/python3.9/site-packages/tensorflow/lite/python/convert_phase.py:205\u001b[0m, in \u001b[0;36mconvert_phase.<locals>.actual_decorator.<locals>.wrapper\u001b[0;34m(*args, **kwargs)\u001b[0m\n\u001b[1;32m    202\u001b[0m \u001b[39m@functools\u001b[39m\u001b[39m.\u001b[39mwraps(func)\n\u001b[1;32m    203\u001b[0m \u001b[39mdef\u001b[39;00m \u001b[39mwrapper\u001b[39m(\u001b[39m*\u001b[39margs, \u001b[39m*\u001b[39m\u001b[39m*\u001b[39mkwargs):\n\u001b[1;32m    204\u001b[0m   \u001b[39mtry\u001b[39;00m:\n\u001b[0;32m--> 205\u001b[0m     \u001b[39mreturn\u001b[39;00m func(\u001b[39m*\u001b[39;49margs, \u001b[39m*\u001b[39;49m\u001b[39m*\u001b[39;49mkwargs)\n\u001b[1;32m    206\u001b[0m   \u001b[39mexcept\u001b[39;00m ConverterError \u001b[39mas\u001b[39;00m converter_error:\n\u001b[1;32m    207\u001b[0m     \u001b[39mif\u001b[39;00m converter_error\u001b[39m.\u001b[39merrors:\n",
      "File \u001b[0;32m~/opt/anaconda3/envs/fall_detection/lib/python3.9/site-packages/tensorflow/lite/python/lite.py:1502\u001b[0m, in \u001b[0;36mTFLiteKerasModelConverterV2._convert_keras_to_saved_model\u001b[0;34m(self, output_dir)\u001b[0m\n\u001b[1;32m   1491\u001b[0m \u001b[39m\u001b[39m\u001b[39m\"\"\"Save Keras model to the SavedModel format.\u001b[39;00m\n\u001b[1;32m   1492\u001b[0m \n\u001b[1;32m   1493\u001b[0m \u001b[39mArgs:\u001b[39;00m\n\u001b[0;32m   (...)\u001b[0m\n\u001b[1;32m   1499\u001b[0m \u001b[39m  output_tensors: List of output tensors.\u001b[39;00m\n\u001b[1;32m   1500\u001b[0m \u001b[39m\"\"\"\u001b[39;00m\n\u001b[1;32m   1501\u001b[0m \u001b[39mtry\u001b[39;00m:\n\u001b[0;32m-> 1502\u001b[0m   _save\u001b[39m.\u001b[39;49msave(\n\u001b[1;32m   1503\u001b[0m       \u001b[39mself\u001b[39;49m\u001b[39m.\u001b[39;49m_keras_model,\n\u001b[1;32m   1504\u001b[0m       output_dir,\n\u001b[1;32m   1505\u001b[0m       options\u001b[39m=\u001b[39;49m_save_options\u001b[39m.\u001b[39;49mSaveOptions(save_debug_info\u001b[39m=\u001b[39;49m\u001b[39mTrue\u001b[39;49;00m),\n\u001b[1;32m   1506\u001b[0m   )\n\u001b[1;32m   1507\u001b[0m \u001b[39mexcept\u001b[39;00m \u001b[39mException\u001b[39;00m:  \u001b[39m# pylint: disable=broad-except\u001b[39;00m\n\u001b[1;32m   1508\u001b[0m   \u001b[39m# When storing the given keras model to a saved model is failed, let's\u001b[39;00m\n\u001b[1;32m   1509\u001b[0m   \u001b[39m# use original keras model conversion pipeline.\u001b[39;00m\n\u001b[1;32m   1510\u001b[0m   \u001b[39mreturn\u001b[39;00m \u001b[39mNone\u001b[39;00m, \u001b[39mNone\u001b[39;00m, \u001b[39mNone\u001b[39;00m\n",
      "File \u001b[0;32m~/opt/anaconda3/envs/fall_detection/lib/python3.9/site-packages/tensorflow/python/saved_model/save.py:1336\u001b[0m, in \u001b[0;36msave\u001b[0;34m(obj, export_dir, signatures, options)\u001b[0m\n\u001b[1;32m   1334\u001b[0m \u001b[39m# pylint: enable=line-too-long\u001b[39;00m\n\u001b[1;32m   1335\u001b[0m metrics\u001b[39m.\u001b[39mIncrementWriteApi(_SAVE_V2_LABEL)\n\u001b[0;32m-> 1336\u001b[0m save_and_return_nodes(obj, export_dir, signatures, options)\n\u001b[1;32m   1338\u001b[0m metrics\u001b[39m.\u001b[39mIncrementWrite(write_version\u001b[39m=\u001b[39m\u001b[39m\"\u001b[39m\u001b[39m2\u001b[39m\u001b[39m\"\u001b[39m)\n",
      "File \u001b[0;32m~/opt/anaconda3/envs/fall_detection/lib/python3.9/site-packages/tensorflow/python/saved_model/save.py:1371\u001b[0m, in \u001b[0;36msave_and_return_nodes\u001b[0;34m(obj, export_dir, signatures, options, experimental_skip_checkpoint)\u001b[0m\n\u001b[1;32m   1367\u001b[0m saved_model \u001b[39m=\u001b[39m saved_model_pb2\u001b[39m.\u001b[39mSavedModel()\n\u001b[1;32m   1368\u001b[0m meta_graph_def \u001b[39m=\u001b[39m saved_model\u001b[39m.\u001b[39mmeta_graphs\u001b[39m.\u001b[39madd()\n\u001b[1;32m   1370\u001b[0m _, exported_graph, object_saver, asset_info, saved_nodes, node_paths \u001b[39m=\u001b[39m (\n\u001b[0;32m-> 1371\u001b[0m     _build_meta_graph(obj, signatures, options, meta_graph_def))\n\u001b[1;32m   1372\u001b[0m saved_model\u001b[39m.\u001b[39msaved_model_schema_version \u001b[39m=\u001b[39m (\n\u001b[1;32m   1373\u001b[0m     constants\u001b[39m.\u001b[39mSAVED_MODEL_SCHEMA_VERSION)\n\u001b[1;32m   1375\u001b[0m \u001b[39m# Write the checkpoint, copy assets into the assets directory, and write out\u001b[39;00m\n\u001b[1;32m   1376\u001b[0m \u001b[39m# the SavedModel proto itself.\u001b[39;00m\n",
      "File \u001b[0;32m~/opt/anaconda3/envs/fall_detection/lib/python3.9/site-packages/tensorflow/python/saved_model/save.py:1584\u001b[0m, in \u001b[0;36m_build_meta_graph\u001b[0;34m(obj, signatures, options, meta_graph_def)\u001b[0m\n\u001b[1;32m   1557\u001b[0m \u001b[39m\u001b[39m\u001b[39m\"\"\"Creates a MetaGraph under a save context.\u001b[39;00m\n\u001b[1;32m   1558\u001b[0m \n\u001b[1;32m   1559\u001b[0m \u001b[39mArgs:\u001b[39;00m\n\u001b[0;32m   (...)\u001b[0m\n\u001b[1;32m   1580\u001b[0m \u001b[39m  saveable_view.node_paths: _SaveableView paths.\u001b[39;00m\n\u001b[1;32m   1581\u001b[0m \u001b[39m\"\"\"\u001b[39;00m\n\u001b[1;32m   1583\u001b[0m \u001b[39mwith\u001b[39;00m save_context\u001b[39m.\u001b[39msave_context(options):\n\u001b[0;32m-> 1584\u001b[0m   \u001b[39mreturn\u001b[39;00m _build_meta_graph_impl(obj, signatures, options, meta_graph_def)\n",
      "File \u001b[0;32m~/opt/anaconda3/envs/fall_detection/lib/python3.9/site-packages/tensorflow/python/saved_model/save.py:1537\u001b[0m, in \u001b[0;36m_build_meta_graph_impl\u001b[0;34m(obj, signatures, options, meta_graph_def)\u001b[0m\n\u001b[1;32m   1531\u001b[0m     \u001b[39melse\u001b[39;00m:\n\u001b[1;32m   1532\u001b[0m       \u001b[39mraise\u001b[39;00m \u001b[39mTypeError\u001b[39;00m(\n\u001b[1;32m   1533\u001b[0m           \u001b[39mf\u001b[39m\u001b[39m\"\u001b[39m\u001b[39mUnsupported type f\u001b[39m\u001b[39m{\u001b[39;00m\u001b[39mtype\u001b[39m(func)\u001b[39m}\u001b[39;00m\u001b[39m. Functions in `function_aliases`\u001b[39m\u001b[39m\"\u001b[39m\n\u001b[1;32m   1534\u001b[0m           \u001b[39m\"\u001b[39m\u001b[39m should be created by tf.function, or concrete functions, or\u001b[39m\u001b[39m\"\u001b[39m\n\u001b[1;32m   1535\u001b[0m           \u001b[39m\"\u001b[39m\u001b[39m collections of concrete functions.\u001b[39m\u001b[39m\"\u001b[39m\n\u001b[1;32m   1536\u001b[0m       )\n\u001b[0;32m-> 1537\u001b[0m object_graph_proto \u001b[39m=\u001b[39m _serialize_object_graph(\n\u001b[1;32m   1538\u001b[0m     saveable_view, asset_info\u001b[39m.\u001b[39;49masset_index\n\u001b[1;32m   1539\u001b[0m )\n\u001b[1;32m   1540\u001b[0m meta_graph_def\u001b[39m.\u001b[39mobject_graph_def\u001b[39m.\u001b[39mCopyFrom(object_graph_proto)\n\u001b[1;32m   1541\u001b[0m \u001b[39mreturn\u001b[39;00m (\n\u001b[1;32m   1542\u001b[0m     meta_graph_def,\n\u001b[1;32m   1543\u001b[0m     exported_graph,\n\u001b[0;32m   (...)\u001b[0m\n\u001b[1;32m   1547\u001b[0m     saveable_view\u001b[39m.\u001b[39mnode_paths,\n\u001b[1;32m   1548\u001b[0m )\n",
      "File \u001b[0;32m~/opt/anaconda3/envs/fall_detection/lib/python3.9/site-packages/tensorflow/python/saved_model/save.py:1059\u001b[0m, in \u001b[0;36m_serialize_object_graph\u001b[0;34m(saveable_view, asset_file_def_index)\u001b[0m\n\u001b[1;32m   1057\u001b[0m \u001b[39mfor\u001b[39;00m concrete_function \u001b[39min\u001b[39;00m saveable_view\u001b[39m.\u001b[39mconcrete_and_gradient_functions:\n\u001b[1;32m   1058\u001b[0m   name \u001b[39m=\u001b[39m compat\u001b[39m.\u001b[39mas_text(concrete_function\u001b[39m.\u001b[39mname)\n\u001b[0;32m-> 1059\u001b[0m   serialized \u001b[39m=\u001b[39m function_serialization\u001b[39m.\u001b[39;49mserialize_concrete_function(\n\u001b[1;32m   1060\u001b[0m       concrete_function, saveable_view\u001b[39m.\u001b[39;49mcaptured_tensor_node_ids\n\u001b[1;32m   1061\u001b[0m   )\n\u001b[1;32m   1062\u001b[0m   \u001b[39mif\u001b[39;00m serialized \u001b[39mis\u001b[39;00m \u001b[39mnot\u001b[39;00m \u001b[39mNone\u001b[39;00m:\n\u001b[1;32m   1063\u001b[0m     proto\u001b[39m.\u001b[39mconcrete_functions[name]\u001b[39m.\u001b[39mCopyFrom(serialized)\n",
      "File \u001b[0;32m~/opt/anaconda3/envs/fall_detection/lib/python3.9/site-packages/tensorflow/python/saved_model/function_serialization.py:80\u001b[0m, in \u001b[0;36mserialize_concrete_function\u001b[0;34m(concrete_function, node_ids)\u001b[0m\n\u001b[1;32m     76\u001b[0m concrete_function_proto \u001b[39m=\u001b[39m saved_object_graph_pb2\u001b[39m.\u001b[39mSavedConcreteFunction()\n\u001b[1;32m     77\u001b[0m structured_outputs \u001b[39m=\u001b[39m func_graph_module\u001b[39m.\u001b[39mconvert_structure_to_signature(\n\u001b[1;32m     78\u001b[0m     concrete_function\u001b[39m.\u001b[39mstructured_outputs)\n\u001b[1;32m     79\u001b[0m concrete_function_proto\u001b[39m.\u001b[39mcanonicalized_input_signature\u001b[39m.\u001b[39mCopyFrom(\n\u001b[0;32m---> 80\u001b[0m     nested_structure_coder\u001b[39m.\u001b[39;49mencode_structure(\n\u001b[1;32m     81\u001b[0m         concrete_function\u001b[39m.\u001b[39;49mstructured_input_signature))\n\u001b[1;32m     82\u001b[0m concrete_function_proto\u001b[39m.\u001b[39moutput_signature\u001b[39m.\u001b[39mCopyFrom(\n\u001b[1;32m     83\u001b[0m     nested_structure_coder\u001b[39m.\u001b[39mencode_structure(structured_outputs))\n\u001b[1;32m     84\u001b[0m concrete_function_proto\u001b[39m.\u001b[39mbound_inputs\u001b[39m.\u001b[39mextend(bound_inputs)\n",
      "File \u001b[0;32m~/opt/anaconda3/envs/fall_detection/lib/python3.9/site-packages/tensorflow/python/saved_model/nested_structure_coder.py:90\u001b[0m, in \u001b[0;36mencode_structure\u001b[0;34m(nested_structure)\u001b[0m\n\u001b[1;32m     77\u001b[0m \u001b[39m@tf_export\u001b[39m(\u001b[39m\"\u001b[39m\u001b[39m__internal__.saved_model.encode_structure\u001b[39m\u001b[39m\"\u001b[39m, v1\u001b[39m=\u001b[39m[])\n\u001b[1;32m     78\u001b[0m \u001b[39mdef\u001b[39;00m \u001b[39mencode_structure\u001b[39m(nested_structure):\n\u001b[1;32m     79\u001b[0m \u001b[39m  \u001b[39m\u001b[39m\"\"\"Encodes nested structures composed of encodable types into a proto.\u001b[39;00m\n\u001b[1;32m     80\u001b[0m \n\u001b[1;32m     81\u001b[0m \u001b[39m  Args:\u001b[39;00m\n\u001b[0;32m   (...)\u001b[0m\n\u001b[1;32m     88\u001b[0m \u001b[39m    NotEncodableError: For values for which there are no encoders.\u001b[39;00m\n\u001b[1;32m     89\u001b[0m \u001b[39m  \"\"\"\u001b[39;00m\n\u001b[0;32m---> 90\u001b[0m   \u001b[39mreturn\u001b[39;00m _map_structure(nested_structure, _get_encoders())\n",
      "File \u001b[0;32m~/opt/anaconda3/envs/fall_detection/lib/python3.9/site-packages/tensorflow/python/saved_model/nested_structure_coder.py:72\u001b[0m, in \u001b[0;36m_map_structure\u001b[0;34m(pyobj, coders)\u001b[0m\n\u001b[1;32m     70\u001b[0m   \u001b[39mif\u001b[39;00m can(pyobj):\n\u001b[1;32m     71\u001b[0m     recursion_fn \u001b[39m=\u001b[39m functools\u001b[39m.\u001b[39mpartial(_map_structure, coders\u001b[39m=\u001b[39mcoders)\n\u001b[0;32m---> 72\u001b[0m     \u001b[39mreturn\u001b[39;00m do(pyobj, recursion_fn)\n\u001b[1;32m     73\u001b[0m \u001b[39mraise\u001b[39;00m NotEncodableError(\n\u001b[1;32m     74\u001b[0m     \u001b[39mf\u001b[39m\u001b[39m\"\u001b[39m\u001b[39mNo encoder for object \u001b[39m\u001b[39m{\u001b[39;00m\u001b[39mstr\u001b[39m(pyobj)\u001b[39m}\u001b[39;00m\u001b[39m of type \u001b[39m\u001b[39m{\u001b[39;00m\u001b[39mtype\u001b[39m(pyobj)\u001b[39m}\u001b[39;00m\u001b[39m.\u001b[39m\u001b[39m\"\u001b[39m)\n",
      "File \u001b[0;32m~/opt/anaconda3/envs/fall_detection/lib/python3.9/site-packages/tensorflow/python/saved_model/nested_structure_coder.py:175\u001b[0m, in \u001b[0;36m_TupleCodec.do_encode\u001b[0;34m(self, tuple_value, encode_fn)\u001b[0m\n\u001b[1;32m    173\u001b[0m encoded_tuple\u001b[39m.\u001b[39mtuple_value\u001b[39m.\u001b[39mCopyFrom(struct_pb2\u001b[39m.\u001b[39mTupleValue())\n\u001b[1;32m    174\u001b[0m \u001b[39mfor\u001b[39;00m element \u001b[39min\u001b[39;00m tuple_value:\n\u001b[0;32m--> 175\u001b[0m   encoded_tuple\u001b[39m.\u001b[39mtuple_value\u001b[39m.\u001b[39mvalues\u001b[39m.\u001b[39madd()\u001b[39m.\u001b[39mCopyFrom(encode_fn(element))\n\u001b[1;32m    176\u001b[0m \u001b[39mreturn\u001b[39;00m encoded_tuple\n",
      "File \u001b[0;32m~/opt/anaconda3/envs/fall_detection/lib/python3.9/site-packages/tensorflow/python/saved_model/nested_structure_coder.py:72\u001b[0m, in \u001b[0;36m_map_structure\u001b[0;34m(pyobj, coders)\u001b[0m\n\u001b[1;32m     70\u001b[0m   \u001b[39mif\u001b[39;00m can(pyobj):\n\u001b[1;32m     71\u001b[0m     recursion_fn \u001b[39m=\u001b[39m functools\u001b[39m.\u001b[39mpartial(_map_structure, coders\u001b[39m=\u001b[39mcoders)\n\u001b[0;32m---> 72\u001b[0m     \u001b[39mreturn\u001b[39;00m do(pyobj, recursion_fn)\n\u001b[1;32m     73\u001b[0m \u001b[39mraise\u001b[39;00m NotEncodableError(\n\u001b[1;32m     74\u001b[0m     \u001b[39mf\u001b[39m\u001b[39m\"\u001b[39m\u001b[39mNo encoder for object \u001b[39m\u001b[39m{\u001b[39;00m\u001b[39mstr\u001b[39m(pyobj)\u001b[39m}\u001b[39;00m\u001b[39m of type \u001b[39m\u001b[39m{\u001b[39;00m\u001b[39mtype\u001b[39m(pyobj)\u001b[39m}\u001b[39;00m\u001b[39m.\u001b[39m\u001b[39m\"\u001b[39m)\n",
      "File \u001b[0;32m~/opt/anaconda3/envs/fall_detection/lib/python3.9/site-packages/tensorflow/python/saved_model/nested_structure_coder.py:175\u001b[0m, in \u001b[0;36m_TupleCodec.do_encode\u001b[0;34m(self, tuple_value, encode_fn)\u001b[0m\n\u001b[1;32m    173\u001b[0m encoded_tuple\u001b[39m.\u001b[39mtuple_value\u001b[39m.\u001b[39mCopyFrom(struct_pb2\u001b[39m.\u001b[39mTupleValue())\n\u001b[1;32m    174\u001b[0m \u001b[39mfor\u001b[39;00m element \u001b[39min\u001b[39;00m tuple_value:\n\u001b[0;32m--> 175\u001b[0m   encoded_tuple\u001b[39m.\u001b[39mtuple_value\u001b[39m.\u001b[39mvalues\u001b[39m.\u001b[39madd()\u001b[39m.\u001b[39mCopyFrom(encode_fn(element))\n\u001b[1;32m    176\u001b[0m \u001b[39mreturn\u001b[39;00m encoded_tuple\n",
      "File \u001b[0;32m~/opt/anaconda3/envs/fall_detection/lib/python3.9/site-packages/tensorflow/python/saved_model/nested_structure_coder.py:72\u001b[0m, in \u001b[0;36m_map_structure\u001b[0;34m(pyobj, coders)\u001b[0m\n\u001b[1;32m     70\u001b[0m   \u001b[39mif\u001b[39;00m can(pyobj):\n\u001b[1;32m     71\u001b[0m     recursion_fn \u001b[39m=\u001b[39m functools\u001b[39m.\u001b[39mpartial(_map_structure, coders\u001b[39m=\u001b[39mcoders)\n\u001b[0;32m---> 72\u001b[0m     \u001b[39mreturn\u001b[39;00m do(pyobj, recursion_fn)\n\u001b[1;32m     73\u001b[0m \u001b[39mraise\u001b[39;00m NotEncodableError(\n\u001b[1;32m     74\u001b[0m     \u001b[39mf\u001b[39m\u001b[39m\"\u001b[39m\u001b[39mNo encoder for object \u001b[39m\u001b[39m{\u001b[39;00m\u001b[39mstr\u001b[39m(pyobj)\u001b[39m}\u001b[39;00m\u001b[39m of type \u001b[39m\u001b[39m{\u001b[39;00m\u001b[39mtype\u001b[39m(pyobj)\u001b[39m}\u001b[39;00m\u001b[39m.\u001b[39m\u001b[39m\"\u001b[39m)\n",
      "File \u001b[0;32m~/opt/anaconda3/envs/fall_detection/lib/python3.9/site-packages/tensorflow/python/framework/tensor.py:1238\u001b[0m, in \u001b[0;36m_TensorSpecCodec.do_encode\u001b[0;34m(self, tensor_spec_value, encode_fn)\u001b[0m\n\u001b[1;32m   1234\u001b[0m \u001b[39mdef\u001b[39;00m \u001b[39mdo_encode\u001b[39m(\u001b[39mself\u001b[39m, tensor_spec_value, encode_fn):\n\u001b[1;32m   1235\u001b[0m   encoded_tensor_spec \u001b[39m=\u001b[39m struct_pb2\u001b[39m.\u001b[39mStructuredValue()\n\u001b[1;32m   1236\u001b[0m   encoded_tensor_spec\u001b[39m.\u001b[39mtensor_spec_value\u001b[39m.\u001b[39mCopyFrom(\n\u001b[1;32m   1237\u001b[0m       struct_pb2\u001b[39m.\u001b[39mTensorSpecProto(\n\u001b[0;32m-> 1238\u001b[0m           shape\u001b[39m=\u001b[39mencode_fn(tensor_spec_value\u001b[39m.\u001b[39;49mshape)\u001b[39m.\u001b[39mtensor_shape_value,\n\u001b[1;32m   1239\u001b[0m           dtype\u001b[39m=\u001b[39mencode_fn(tensor_spec_value\u001b[39m.\u001b[39mdtype)\u001b[39m.\u001b[39mtensor_dtype_value,\n\u001b[1;32m   1240\u001b[0m           name\u001b[39m=\u001b[39mtensor_spec_value\u001b[39m.\u001b[39mname))\n\u001b[1;32m   1241\u001b[0m   \u001b[39mreturn\u001b[39;00m encoded_tensor_spec\n",
      "File \u001b[0;32m~/opt/anaconda3/envs/fall_detection/lib/python3.9/site-packages/tensorflow/python/saved_model/nested_structure_coder.py:72\u001b[0m, in \u001b[0;36m_map_structure\u001b[0;34m(pyobj, coders)\u001b[0m\n\u001b[1;32m     70\u001b[0m   \u001b[39mif\u001b[39;00m can(pyobj):\n\u001b[1;32m     71\u001b[0m     recursion_fn \u001b[39m=\u001b[39m functools\u001b[39m.\u001b[39mpartial(_map_structure, coders\u001b[39m=\u001b[39mcoders)\n\u001b[0;32m---> 72\u001b[0m     \u001b[39mreturn\u001b[39;00m do(pyobj, recursion_fn)\n\u001b[1;32m     73\u001b[0m \u001b[39mraise\u001b[39;00m NotEncodableError(\n\u001b[1;32m     74\u001b[0m     \u001b[39mf\u001b[39m\u001b[39m\"\u001b[39m\u001b[39mNo encoder for object \u001b[39m\u001b[39m{\u001b[39;00m\u001b[39mstr\u001b[39m(pyobj)\u001b[39m}\u001b[39;00m\u001b[39m of type \u001b[39m\u001b[39m{\u001b[39;00m\u001b[39mtype\u001b[39m(pyobj)\u001b[39m}\u001b[39;00m\u001b[39m.\u001b[39m\u001b[39m\"\u001b[39m)\n",
      "File \u001b[0;32m~/opt/anaconda3/envs/fall_detection/lib/python3.9/site-packages/tensorflow/python/framework/tensor_shape.py:1529\u001b[0m, in \u001b[0;36m_TensorShapeCodec.do_encode\u001b[0;34m(***failed resolving arguments***)\u001b[0m\n\u001b[1;32m   1527\u001b[0m \u001b[39mdel\u001b[39;00m encode_fn\n\u001b[1;32m   1528\u001b[0m encoded_tensor_shape \u001b[39m=\u001b[39m struct_pb2\u001b[39m.\u001b[39mStructuredValue()\n\u001b[0;32m-> 1529\u001b[0m encoded_tensor_shape\u001b[39m.\u001b[39;49mtensor_shape_value\u001b[39m.\u001b[39;49mCopyFrom(\n\u001b[1;32m   1530\u001b[0m     tensor_shape_value\u001b[39m.\u001b[39;49mas_proto())\n\u001b[1;32m   1531\u001b[0m \u001b[39mreturn\u001b[39;00m encoded_tensor_shape\n",
      "File \u001b[0;32m~/opt/anaconda3/envs/fall_detection/lib/python3.9/site-packages/google/protobuf/message.py:130\u001b[0m, in \u001b[0;36mMessage.CopyFrom\u001b[0;34m(self, other_msg)\u001b[0m\n\u001b[1;32m    128\u001b[0m   \u001b[39mreturn\u001b[39;00m\n\u001b[1;32m    129\u001b[0m \u001b[39mself\u001b[39m\u001b[39m.\u001b[39mClear()\n\u001b[0;32m--> 130\u001b[0m \u001b[39mself\u001b[39;49m\u001b[39m.\u001b[39;49mMergeFrom(other_msg)\n",
      "\u001b[0;31mKeyboardInterrupt\u001b[0m: "
     ]
    }
   ],
   "source": [
    "# convert the QAT model to a fully quantized model using TFLite\n",
    "\n",
    "def representative_data_gen():\n",
    "  for input_value in tf.data.Dataset.from_tensor_slices(X_train.astype('float32')).batch(1).take(100):\n",
    "    yield [input_value]\n",
    "\n",
    "converter = tf.lite.TFLiteConverter.from_keras_model(q_ResNet24)\n",
    "converter.optimizations = [tf.lite.Optimize.DEFAULT]\n",
    "converter.representative_dataset = representative_data_gen\n",
    "# Ensure that if any ops can't be quantized, the converter throws an error\n",
    "converter.target_spec.supported_ops = [tf.lite.OpsSet.TFLITE_BUILTINS_INT8]\n",
    "# Set the input and output tensors to uint8 (APIs added in r2.3)\n",
    "converter.inference_input_type = tf.uint8\n",
    "converter.inference_output_type = tf.uint8\n",
    "\n",
    "tflite_model_quant_int8_qat = converter.convert()"
   ]
  },
  {
   "cell_type": "code",
   "execution_count": null,
   "metadata": {},
   "outputs": [
    {
     "name": "stdout",
     "output_type": "stream",
     "text": [
      "input:  <class 'numpy.uint8'>\n",
      "output:  <class 'numpy.uint8'>\n"
     ]
    },
    {
     "data": {
      "text/plain": [
       "109104"
      ]
     },
     "execution_count": 48,
     "metadata": {},
     "output_type": "execute_result"
    }
   ],
   "source": [
    "interpreter = tf.lite.Interpreter(model_content=tflite_model_quant_int8_qat)\n",
    "input_type = interpreter.get_input_details()[0]['dtype']\n",
    "print('input: ', input_type)\n",
    "output_type = interpreter.get_output_details()[0]['dtype']\n",
    "print('output: ', output_type)\n",
    "# Save the quantized model to disk\n",
    "open(\"models/fmnist_qat_int8.tflite\", \"wb\").write(tflite_model_quant_int8_qat)"
   ]
  },
  {
   "cell_type": "code",
   "execution_count": null,
   "metadata": {},
   "outputs": [],
   "source": []
  },
  {
   "cell_type": "code",
   "execution_count": null,
   "metadata": {},
   "outputs": [
    {
     "name": "stdout",
     "output_type": "stream",
     "text": [
      "[ 0.10717244 -0.11876063 -0.9641799  -0.57687505  1.35874835  0.82601957\n",
      " -0.25227563  0.24004562 -0.11913926]\n",
      "####\n",
      "[[  0   0   0   0   1   0   0   0   0]\n",
      " [  0   0   0   0   1   0   0   0   0]\n",
      " [  0   0   0   0   1   0   0   0   0]\n",
      " [  0   0   0   0   1   0   0   0   0]\n",
      " [  0   0   0   0   1   1   0   0   0]\n",
      " [  0   0   0   0   1   1   0   0   0]\n",
      " [  0   0   0   0   1   1   0   0   0]\n",
      " [  0   0   0   0   1   1   0   0   0]\n",
      " [  0   0   0   0   1   1   0   0   0]\n",
      " [  0   0   0   0   1   1   0   0   0]\n",
      " [  0   0   0   0   1   1   0   0   0]\n",
      " [  0   0   0   0   1   1   0   0   0]\n",
      " [  0   0   0   0   1   1   0   0   0]\n",
      " [  0   0   0   0   1   1   0   0   0]\n",
      " [  0   0   0   0   1   1   0   0   0]\n",
      " [  0   0   0   0   1   1   0   0   0]\n",
      " [  0   0   0   0   1   1   0   0   0]\n",
      " [  0   0   0   0   1   1   0   0   0]\n",
      " [  0   0   0   0   1   1   0   0   0]\n",
      " [  0   0   0   0   1   1   0   0   0]\n",
      " [  0   0   0   0   1   1   0   0   0]\n",
      " [  0   0   0   0   1   1   0   0   0]\n",
      " [  0   0   0   0   1   1   0   0   0]\n",
      " [  0   0   0   0   1   1   0   0   0]\n",
      " [  0   0   0   0   1   1   0   0   0]\n",
      " [  0   0   0   0   2   1   0   0   0]\n",
      " [  0   0   0   0   2   1   0   0   0]\n",
      " [  0   0   0   0   2   0   0   0   0]\n",
      " [  0   0   0   0   2   0   0   0   0]\n",
      " [  0   0   0   0   2   0   0   0   0]\n",
      " [  0   0   0   0   2   0   0   0   0]\n",
      " [  0   0   0   0   2   0   0   0   0]\n",
      " [  0   0   0   0   2   0   0   0   0]\n",
      " [  0   0   0   0   2   0   0   0   0]\n",
      " [  0   0   0   0   2   0   0   0   0]\n",
      " [  0   0   0   0   2   0   0   0   0]\n",
      " [  0   0   0   0   2   0   0   0   0]\n",
      " [  0   0   0   0   2   0   0   0   0]\n",
      " [  0   0   0 255   2   0   0   0   0]\n",
      " [  0   0   0 255   2   0   0   0   0]\n",
      " [  0   0   0 255   2   0   0   0   0]\n",
      " [  0   0   0 255   2   0   0   0   0]\n",
      " [  0   0   0 255   2   0   0   1   0]\n",
      " [  0   0   0 255   2   0   0   1   0]\n",
      " [  0   0   0 255   2   0   0   1   0]\n",
      " [  0   0   0 255   2   0   0   1   0]\n",
      " [  0   0   0 255   2   0   0   1   0]\n",
      " [  0   0   0 255   2   0   0   1   0]\n",
      " [  0   0   0 255   2   0   0   1   0]\n",
      " [  0   0   0 255   2   0   0   1   0]]\n",
      "(212,)\n",
      "input:  {'name': 'serving_default_input_1:0', 'index': 0, 'shape': array([ 1, 50,  9], dtype=int32), 'shape_signature': array([-1, 50,  9], dtype=int32), 'dtype': <class 'numpy.uint8'>, 'quantization': (9.541885375976562, 75), 'quantization_parameters': {'scales': array([9.541885], dtype=float32), 'zero_points': array([75], dtype=int32), 'quantized_dimension': 0}, 'sparsity_parameters': {}}\n",
      "output:  {'name': 'StatefulPartitionedCall:0', 'index': 108, 'shape': array([1, 2], dtype=int32), 'shape_signature': array([-1,  2], dtype=int32), 'dtype': <class 'numpy.uint8'>, 'quantization': (0.00390625, 0), 'quantization_parameters': {'scales': array([0.00390625], dtype=float32), 'zero_points': array([0], dtype=int32), 'quantized_dimension': 0}, 'sparsity_parameters': {}}\n",
      "Evaluated on  0 .\n",
      "Evaluated on  100 .\n",
      "Evaluated on  200 .\n"
     ]
    }
   ],
   "source": [
    "# test the quantized model\n",
    "print(X_test[0][0])\n",
    "print('####')\n",
    "X_test_int8 = X_test.astype('uint8')\n",
    "y_test_int8 = y_test.astype('uint8')\n",
    "#print(y_test_int8)\n",
    "# now y_test_int8 is one-hot encoded. convert y_test_int8 back\n",
    "#y_test_int8 = np.argmax(y_test_int8, axis=-1)\n",
    "print(X_test_int8[0])\n",
    "print(y_test_int8.shape)\n",
    "# Load the model into an interpreter\n",
    "interpreter = tf.lite.Interpreter(model_content= tflite_model_quant_int8_qat)\n",
    "# Allocate memory for the model's input Tensor(s)\n",
    "interpreter.allocate_tensors()\n",
    "# Get the model input and output details\n",
    "input_details = interpreter.get_input_details()[0]\n",
    "output_details = interpreter.get_output_details()[0]\n",
    "print(\"input: \", input_details)\n",
    "print(\"output: \", output_details)\n",
    "predictions = np.zeros(X_test.shape[0])\n",
    "for i, test_data in enumerate(X_test_int8):\n",
    "    test_data = np.expand_dims(test_data, axis=0)\n",
    "    #print(test_data.shape)\n",
    "    interpreter.set_tensor(input_details[\"index\"], test_data)\n",
    "    interpreter.invoke()\n",
    "    output = interpreter.get_tensor(output_details[\"index\"])[0]\n",
    "    if i%100 == 0:\n",
    "        # print(\"Evaluated on %d images.\" % test_image_index)\n",
    "        print('Evaluated on ', i, '.')\n",
    "    predictions[i] = output.argmax()\n",
    "\n",
    "# convert the predictions from one hot back to int\n"
   ]
  },
  {
   "cell_type": "code",
   "execution_count": null,
   "metadata": {},
   "outputs": [],
   "source": [
    "\n",
    "print(predictions.shape)\n",
    "y_test_int8 = np.argmax(y_test_int8, axis=-1)\n",
    "#print(np.argmax(y_test_int8, axis=-1))\n",
    "print(y_test_int8.shape)\n",
    "accuracy = (predictions == y_test_int8).mean()\n",
    "print('y_test_int8: ', y_test_int8)\n",
    "print('predictions: ', predictions)\n",
    "print('accuracy: ', accuracy)\n",
    "# compute the confusion matrix\n",
    "cm = confusion_matrix(y_test_int8, predictions)\n",
    "# plot the confusion matrix\n",
    "plot_confusion_matrix(cm, classes=['Not Fall', 'Fall'], normalize=False, title='Confusion Matrix')"
   ]
  }
 ],
 "metadata": {
  "kernelspec": {
   "display_name": "fall_detection",
   "language": "python",
   "name": "python3"
  },
  "language_info": {
   "codemirror_mode": {
    "name": "ipython",
    "version": 3
   },
   "file_extension": ".py",
   "mimetype": "text/x-python",
   "name": "python",
   "nbconvert_exporter": "python",
   "pygments_lexer": "ipython3",
   "version": "3.10.7"
  }
 },
 "nbformat": 4,
 "nbformat_minor": 2
}

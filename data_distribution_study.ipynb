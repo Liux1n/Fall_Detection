{
 "cells": [
  {
   "cell_type": "code",
   "execution_count": 3,
   "metadata": {},
   "outputs": [],
   "source": [
    "import os\n",
    "import numpy as np\n",
    "from data_organizer_Kfall import DataOrganizer\n",
    "from scipy.signal import resample\n",
    "import yaml\n",
    "from utils import plot_CDF, rescale_data"
   ]
  },
  {
   "cell_type": "code",
   "execution_count": 5,
   "metadata": {},
   "outputs": [],
   "source": [
    "with open('./config.yaml', 'r') as config_file:\n",
    "    config = yaml.safe_load(config_file)\n",
    "\n",
    "# mac\n",
    "# data_path = config['data_path_mac']\n",
    "# sensor_data_folder = os.path.join(data_path, 'sensor_data')\n",
    "# label_data_folder = os.path.join(data_path, 'label_data')\n",
    "\n",
    "# windows\n",
    "data_path = config['data_path_win']\n",
    "sensor_data_folder = os.path.join(data_path, 'sensor_data')\n",
    "label_data_folder = os.path.join(data_path, 'label_data')\n",
    "\n",
    "# linux\n",
    "# data_path = config['data_path_linux']\n",
    "# sensor_data_folder = os.path.join(data_path, 'sensor_data')\n",
    "# label_data_folder = os.path.join(data_path, 'label_data')\n",
    "\n",
    "# data mode. Combination of sensor data.\n",
    "data_mode = 'ACC+GYRO' # 'ACC' or 'ACC+GYRO' or 'ACC+GYRO+MAG'\n",
    "\n",
    "\n",
    "window_size = config['window_size'] # window size\n",
    "fall_threshold = config['fall_threshold'] # threshold for windows labeled as fall\n",
    "num_window_fall_data = config['num_window_fall_data']   # number of windows labeled as fall\n",
    "num_window_not_fall_data = config['num_window_not_fall_data']    # number of windows labeled as not fall\n",
    "acc_max = config['acc_max'] \n",
    "gyro_max = config['gyro_max'] "
   ]
  },
  {
   "cell_type": "code",
   "execution_count": 6,
   "metadata": {},
   "outputs": [
    {
     "name": "stdout",
     "output_type": "stream",
     "text": [
      "Processing 1/32 folder...\n",
      "Processing 2/32 folder...\n",
      "Processing 3/32 folder...\n",
      "Processing 4/32 folder...\n",
      "Processing 5/32 folder...\n",
      "Processing 6/32 folder...\n",
      "Processing 7/32 folder...\n",
      "Processing 8/32 folder...\n",
      "Processing 9/32 folder...\n",
      "Processing 10/32 folder...\n",
      "Processing 11/32 folder...\n",
      "Processing 12/32 folder...\n",
      "Processing 13/32 folder...\n",
      "Processing 14/32 folder...\n",
      "Processing 15/32 folder...\n",
      "Processing 16/32 folder...\n",
      "Processing 17/32 folder...\n",
      "Processing 18/32 folder...\n",
      "Processing 19/32 folder...\n",
      "Processing 20/32 folder...\n",
      "Processing 21/32 folder...\n",
      "Processing 22/32 folder...\n",
      "Processing 23/32 folder...\n",
      "Processing 24/32 folder...\n",
      "Processing 25/32 folder...\n",
      "Processing 26/32 folder...\n",
      "Processing 27/32 folder...\n",
      "Processing 28/32 folder...\n",
      "Processing 29/32 folder...\n",
      "Processing 30/32 folder...\n",
      "Processing 31/32 folder...\n",
      "Processing 32/32 folder...\n",
      "Data shape:  (75924, 50, 6)\n"
     ]
    }
   ],
   "source": [
    "data, label = DataOrganizer(sensor_data_folder, \n",
    "                            label_data_folder, \n",
    "                            window_size, \n",
    "                            fall_threshold, \n",
    "                            num_window_fall_data, \n",
    "                            num_window_not_fall_data,\n",
    "                            data_mode)\n",
    "\n",
    "print(\"Data shape: \", data.shape)"
   ]
  },
  {
   "cell_type": "markdown",
   "metadata": {},
   "source": [
    "# Full Precision Data"
   ]
  },
  {
   "cell_type": "code",
   "execution_count": 7,
   "metadata": {},
   "outputs": [
    {
     "name": "stdout",
     "output_type": "stream",
     "text": [
      "(75060, 50, 6)\n",
      "(864, 50, 6)\n"
     ]
    }
   ],
   "source": [
    "# get not fall data\n",
    "idx_not_fall = np.where(label == 0)[0]\n",
    "data_not_fall = data[idx_not_fall]\n",
    "print(data_not_fall.shape)\n",
    "idx_fall = np.where(label == 1)[0]\n",
    "data_fall = data[idx_fall]\n",
    "print(data_fall.shape)\n",
    "GyroX_fall = data_fall[:, :, 3]\n",
    "GyroX_not_fall = data_not_fall[:, :, 3]\n",
    "GyroY_fall = data_fall[:, :, 4]\n",
    "GyroY_not_fall = data_not_fall[:, :, 4]\n",
    "GyroZ_fall = data_fall[:, :, 5]\n",
    "GyroZ_not_fall = data_not_fall[:, :, 5]"
   ]
  },
  {
   "cell_type": "code",
   "execution_count": 8,
   "metadata": {},
   "outputs": [],
   "source": [
    "plot_CDF(GyroX_fall, GyroX_not_fall, 'GyroX')\n",
    "plot_CDF(GyroY_fall, GyroY_not_fall, 'GyroY')\n",
    "plot_CDF(GyroZ_fall, GyroZ_not_fall, 'GyroZ')"
   ]
  },
  {
   "cell_type": "markdown",
   "metadata": {},
   "source": [
    "# Int8-rescaled Data"
   ]
  },
  {
   "cell_type": "code",
   "execution_count": 4,
   "metadata": {},
   "outputs": [
    {
     "ename": "NameError",
     "evalue": "name 'data' is not defined",
     "output_type": "error",
     "traceback": [
      "\u001b[1;31m---------------------------------------------------------------------------\u001b[0m",
      "\u001b[1;31mNameError\u001b[0m                                 Traceback (most recent call last)",
      "Cell \u001b[1;32mIn[4], line 2\u001b[0m\n\u001b[0;32m      1\u001b[0m dtype_out \u001b[38;5;241m=\u001b[39m np\u001b[38;5;241m.\u001b[39mint8 \u001b[38;5;66;03m# rescaled input data type\u001b[39;00m\n\u001b[1;32m----> 2\u001b[0m data_rescaled \u001b[38;5;241m=\u001b[39m rescale_data(\u001b[43mdata\u001b[49m, dtype_out, acc_max\u001b[38;5;241m=\u001b[39macc_max, gyro_max\u001b[38;5;241m=\u001b[39macc_max)\n\u001b[0;32m      4\u001b[0m \u001b[38;5;66;03m# get not fall data\u001b[39;00m\n\u001b[0;32m      5\u001b[0m data_not_fall_rescaled \u001b[38;5;241m=\u001b[39m data_rescaled[idx_not_fall]\n",
      "\u001b[1;31mNameError\u001b[0m: name 'data' is not defined"
     ]
    }
   ],
   "source": [
    "dtype_out = np.int8 # rescaled input data type\n",
    "data_rescaled = rescale_data(data, dtype_out, acc_max=acc_max, gyro_max=acc_max)\n",
    "\n",
    "# get not fall data\n",
    "data_not_fall_rescaled = data_rescaled[idx_not_fall]\n",
    "print(data_not_fall_rescaled.shape)\n",
    "data_fall_rescaled = data_rescaled[idx_fall]\n",
    "print(data_fall.shape)\n",
    "GyroX_fall = data_fall_rescaled[:, :, 3]\n",
    "GyroX_not_fall = data_not_fall_rescaled[:, :, 3]\n",
    "GyroY_fall = data_fall_rescaled[:, :, 4]\n",
    "GyroY_not_fall = data_not_fall_rescaled[:, :, 4]\n",
    "GyroZ_fall = data_fall_rescaled[:, :, 5]\n",
    "GyroZ_not_fall = data_not_fall_rescaled[:, :, 5]\n"
   ]
  },
  {
   "cell_type": "code",
   "execution_count": null,
   "metadata": {},
   "outputs": [],
   "source": [
    "plot_CDF(GyroX_fall, GyroX_not_fall, 'GyroX')\n",
    "plot_CDF(GyroY_fall, GyroY_not_fall, 'GyroY')\n",
    "plot_CDF(GyroZ_fall, GyroZ_not_fall, 'GyroZ')"
   ]
  }
 ],
 "metadata": {
  "kernelspec": {
   "display_name": "fall_detection",
   "language": "python",
   "name": "python3"
  },
  "language_info": {
   "codemirror_mode": {
    "name": "ipython",
    "version": 3
   },
   "file_extension": ".py",
   "mimetype": "text/x-python",
   "name": "python",
   "nbconvert_exporter": "python",
   "pygments_lexer": "ipython3",
   "version": "3.10.7"
  }
 },
 "nbformat": 4,
 "nbformat_minor": 2
}

{
 "cells": [
  {
   "cell_type": "code",
   "execution_count": null,
   "metadata": {},
   "outputs": [],
   "source": [
    "import numpy as np\n",
    "import yaml\n",
    "from inferenceGUI import inferenceGUI"
   ]
  },
  {
   "cell_type": "markdown",
   "metadata": {},
   "source": [
    "# Config"
   ]
  },
  {
   "cell_type": "code",
   "execution_count": null,
   "metadata": {},
   "outputs": [],
   "source": [
    "with open('./config.yaml', 'r') as config_file:\n",
    "    config = yaml.safe_load(config_file)\n",
    "acc_max = config['acc_max']\n",
    "gyro_max = config['gyro_max']\n",
    "confidence = config['confidence']"
   ]
  },
  {
   "cell_type": "code",
   "execution_count": null,
   "metadata": {},
   "outputs": [],
   "source": [
    "# load data from ./saved_data\n",
    "X_test = np.load('./saved_data/X_test.npy')\n",
    "y_test = np.load('./saved_data/y_test.npy')\n",
    "# shuffle the X_test and y_test in the same order\n",
    "ran_index = np.random.permutation(len(X_test))\n",
    "X_test = X_test[ran_index]\n",
    "y_test = y_test[ran_index]\n",
    "test_len = len(X_test)\n",
    "y_pred = np.random.randint(2, size=test_len)\n",
    "print(X_test.shape)\n",
    "print(y_test.shape)\n"
   ]
  },
  {
   "cell_type": "code",
   "execution_count": null,
   "metadata": {},
   "outputs": [],
   "source": [
    "inferenceGUI = inferenceGUI(X_test, y_test, \n",
    "                             acc_max, gyro_max,\n",
    "                             port='/dev/ttyACM0', baudrate=115200, MCU = 'STM32', confidence = confidence)\n",
    "# inferenceGUI = inferenceGUI(X_test, y_test, \n",
    "#                              acc_max, gyro_max,\n",
    "#                              port='/dev/tty.usbmodem103', baudrate=115200, MCU = 'STM32', confidence = confidence)\n",
    "\n",
    "# inferenceGUI = inferenceGUI(X_test, y_test, \n",
    "#                              acc_max, gyro_max,\n",
    "#                              port='/dev/tty.usbmodem102', baudrate=115200, MCU = 'MAX', confidence = confidence)\n",
    "\n",
    "inferenceGUI.launch()"
   ]
  }
 ],
 "metadata": {
  "kernelspec": {
   "display_name": "Python 3",
   "language": "python",
   "name": "python3"
  },
  "language_info": {
   "codemirror_mode": {
    "name": "ipython",
    "version": 3
   },
   "file_extension": ".py",
   "mimetype": "text/x-python",
   "name": "python",
   "nbconvert_exporter": "python",
   "pygments_lexer": "ipython3",
   "version": "3.10.13"
  }
 },
 "nbformat": 4,
 "nbformat_minor": 2
}

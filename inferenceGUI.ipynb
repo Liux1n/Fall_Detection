{
 "cells": [
  {
   "cell_type": "code",
   "execution_count": 1,
   "metadata": {},
   "outputs": [],
   "source": [
    "import numpy as np\n",
    "import yaml\n",
    "from inferenceGUI import inferenceGUI"
   ]
  },
  {
   "cell_type": "markdown",
   "metadata": {},
   "source": [
    "# Config"
   ]
  },
  {
   "cell_type": "code",
   "execution_count": 2,
   "metadata": {},
   "outputs": [],
   "source": [
    "with open('./config.yaml', 'r') as config_file:\n",
    "    config = yaml.safe_load(config_file)\n",
    "acc_max = config['acc_max']\n",
    "gyro_max = config['gyro_max']\n",
    "confidence = config['confidence']\n",
    "num_consecutive_falls = config['num_consecutive_falls']"
   ]
  },
  {
   "cell_type": "markdown",
   "metadata": {},
   "source": [
    "# Load Test Set"
   ]
  },
  {
   "cell_type": "code",
   "execution_count": 3,
   "metadata": {},
   "outputs": [
    {
     "name": "stdout",
     "output_type": "stream",
     "text": [
      "(360, 50, 6)\n",
      "(360,)\n"
     ]
    }
   ],
   "source": [
    "# load data from ./saved_data\n",
    "X_test = np.load('./saved_data/X_test.npy')\n",
    "y_test = np.load('./saved_data/y_test.npy')\n",
    "# shuffle the X_test and y_test in the same order\n",
    "ran_index = np.random.permutation(len(X_test))\n",
    "X_test = X_test[ran_index]\n",
    "y_test = y_test[ran_index]\n",
    "test_len = len(X_test)\n",
    "y_pred = np.random.randint(2, size=test_len)\n",
    "print(X_test.shape)\n",
    "print(y_test.shape)\n"
   ]
  },
  {
   "cell_type": "markdown",
   "metadata": {},
   "source": [
    "# Inference GUI"
   ]
  },
  {
   "cell_type": "code",
   "execution_count": 5,
   "metadata": {},
   "outputs": [
    {
     "name": "stdout",
     "output_type": "stream",
     "text": [
      "Ax=0.013298  Ay=0.003050  Az=-1.022238  Gx=0.612500  Gy=5.145000  Gz=-0.227500\n",
      "Ax=0.013298  Ay=0.002806  Az=-1.022360  Gx=0.612500  Gy=5.127500  Gz=-0.227500\n",
      "Ax=0.013298  Ay=0.002928  Az=-1.022360  Gx=0.612500  Gy=5.145000  Gz=-0.227500\n",
      "Ax=0.013664  Ay=0.002806  Az=-1.022116  Gx=0.612500  Gy=5.127500  Gz=-0.227500\n",
      "Ax=0.013786  Ay=0.002684  Az=-1.022604  Gx=0.612500  Gy=5.127500  Gz=-0.192500\n",
      "Ax=0.013298  Ay=0.003050  Az=-1.021994  Gx=0.612500  Gy=5.145000  Gz=-0.210000\n",
      "Ax=0.013664  Ay=0.003050  Az=-1.022604  Gx=0.612500  Gy=5.127500  Gz=-0.210000\n",
      "Ax=0.013298  Ay=0.002806  Az=-1.022360  Gx=0.612500  Gy=5.127500  Gz=-0.227500\n",
      "Ax=0.013420  Ay=0.002684  Az=-1.022238  Gx=0.612500  Gy=5.145000  Gz=-0.210000\n",
      "Ax=0.013786  Ay=0.003172  Az=-1.022238  Gx=0.612500  Gy=5.162500  Gz=-0.227500\n",
      "Ax=0.013298  Ay=0.002684  Az=-1.022482  Gx=0.612500  Gy=5.145000  Gz=-0.227500\n",
      "Ax=0.013542  Ay=0.002684  Az=-1.022482  Gx=0.612500  Gy=5.145000  Gz=-0.245000\n",
      "Ax=0.013420  Ay=0.003172  Az=-1.022848  Gx=0.577500  Gy=5.110000  Gz=-0.210000\n",
      "Ax=0.013054  Ay=0.003050  Az=-1.023458  Gx=0.560000  Gy=5.110000  Gz=-0.210000\n",
      "Ax=0.003538  Ay=0.000976  Az=-1.022970  Gx=2.362500  Gy=6.300000  Gz=-0.560000\n",
      "Ax=0.027450  Ay=-0.000976  Az=-1.021262  Gx=1.032500  Gy=5.425000  Gz=-0.980000\n",
      "Mode 0 selected.\n",
      "Mode 1 selected.\n",
      "Data sent to MCU.\n",
      "Inference completed, output=[127, -128], elapsed time: 50921us.\n",
      "Inference output received, output1: 127, output2: -128, inference delay: 50921us.\n",
      "Data sent to MCU.\n",
      "Inference completed, output=[127, -128], elapsed time: 50975us.\n",
      "Inference output received, output1: 127, output2: -128, inference delay: 50975us.\n",
      "Data sent to MCU.\n",
      "Inference completed, output=[125, -125], elapsed time: 50975us.\n",
      "Inference output received, output1: 125, output2: -125, inference delay: 50975us.\n",
      "Data sent to MCU.\n",
      "Inference completed, output=[-128, 127], elapsed time: 51005us.\n",
      "Inference output received, output1: -128, output2: 127, inference delay: 51005us.\n",
      "Data sent to MCU.\n",
      "Inference completed, output=[-128, 127], elapsed time: 50967us.\n",
      "Inference output received, output1: -128, output2: 127, inference delay: 50967us.\n"
     ]
    },
    {
     "name": "stderr",
     "output_type": "stream",
     "text": [
      "Exception in thread Thread-4:\n",
      "Traceback (most recent call last):\n",
      "  File \"/Users/liuxinqing/opt/anaconda3/envs/fall_detection/lib/python3.9/threading.py\", line 980, in _bootstrap_inner\n"
     ]
    },
    {
     "name": "stderr",
     "output_type": "stream",
     "text": [
      "    self.run()\n",
      "  File \"/Users/liuxinqing/opt/anaconda3/envs/fall_detection/lib/python3.9/threading.py\", line 917, in run\n",
      "    self._target(*self._args, **self._kwargs)\n",
      "  File \"/var/folders/6j/7v412jf92t1f972gcdmx7l8w0000gn/T/ipykernel_11336/4259391657.py\", line 98, in serial_daemon\n",
      "  File \"/Users/liuxinqing/opt/anaconda3/envs/fall_detection/lib/python3.9/site-packages/serial/serialposix.py\", line 549, in in_waiting\n",
      "    s = fcntl.ioctl(self.fd, TIOCINQ, TIOCM_zero_str)\n",
      "TypeError: argument must be an int, or have a fileno() method.\n"
     ]
    }
   ],
   "source": [
    "# port = '/dev/ttyACM0'\n",
    "port = '/dev/tty.usbmodem103'\n",
    "# port = '/dev/tty.usbmodem102'\n",
    "# port = 'COM3'\n",
    "# port = 'COM5'\n",
    "# MCU = 'MAX'\n",
    "MCU = 'STM32'\n",
    "\n",
    "inferenceGUI = inferenceGUI(X_test, y_test, \n",
    "                             acc_max, gyro_max,\n",
    "                             port=port, baudrate=115200, MCU = MCU, \n",
    "                             confidence = confidence, \n",
    "                             num_consecutive_falls = num_consecutive_falls)\n",
    "\n",
    "inferenceGUI.launch()"
   ]
  }
 ],
 "metadata": {
  "kernelspec": {
   "display_name": "Python 3",
   "language": "python",
   "name": "python3"
  },
  "language_info": {
   "codemirror_mode": {
    "name": "ipython",
    "version": 3
   },
   "file_extension": ".py",
   "mimetype": "text/x-python",
   "name": "python",
   "nbconvert_exporter": "python",
   "pygments_lexer": "ipython3",
   "version": "3.9.18"
  }
 },
 "nbformat": 4,
 "nbformat_minor": 2
}

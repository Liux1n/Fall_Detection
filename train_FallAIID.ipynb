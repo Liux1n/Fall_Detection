{
 "cells": [
  {
   "cell_type": "code",
   "execution_count": 129,
   "metadata": {},
   "outputs": [],
   "source": [
    "import os\n",
    "from numpy import genfromtxt\n",
    "import numpy as np\n",
    "import pandas as pd \n",
    "from sklearn.model_selection import train_test_split\n",
    "from scipy.signal import resample\n"
   ]
  },
  {
   "cell_type": "code",
   "execution_count": 131,
   "metadata": {},
   "outputs": [
    {
     "name": "stdout",
     "output_type": "stream",
     "text": [
      "(1722, 400, 8)\n",
      "(4883, 400, 8)\n"
     ]
    }
   ],
   "source": [
    "\n",
    "# change this to wherever you store the dataset\n",
    "dataset_dir = '/Users/liuxinqing/Documents/FallAllD'\n",
    "output_dir = '/Users/liuxinqing/Documents/combined_data'\n",
    "os.chdir(dataset_dir)\n",
    "\n",
    "\n",
    "# Create the directory if it doesn't exist\n",
    "if not os.path.exists(output_dir):\n",
    "    os.makedirs(output_dir)\n",
    "\n",
    "\n",
    "\n",
    "# Load the data from the .npy file\n",
    "fall_data = np.load(f'{output_dir}/fall.npy')\n",
    "not_fall_data = np.load(f'{output_dir}/not_fall.npy')\n",
    "\n",
    "print(fall_data.shape)\n",
    "print(not_fall_data.shape)"
   ]
  }
 ],
 "metadata": {
  "kernelspec": {
   "display_name": "fall_detection",
   "language": "python",
   "name": "python3"
  },
  "language_info": {
   "codemirror_mode": {
    "name": "ipython",
    "version": 3
   },
   "file_extension": ".py",
   "mimetype": "text/x-python",
   "name": "python",
   "nbconvert_exporter": "python",
   "pygments_lexer": "ipython3",
   "version": "3.9.18"
  }
 },
 "nbformat": 4,
 "nbformat_minor": 2
}
